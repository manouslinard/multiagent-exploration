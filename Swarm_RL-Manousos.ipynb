{
  "nbformat": 4,
  "nbformat_minor": 0,
  "metadata": {
    "colab": {
      "provenance": []
    },
    "kernelspec": {
      "name": "python3",
      "display_name": "Python 3"
    },
    "language_info": {
      "name": "python"
    }
  },
  "cells": [
    {
      "cell_type": "code",
      "source": [
        "import time\n",
        "import copy\n",
        "import random\n",
        "import functools\n",
        "import numpy as np\n",
        "import warnings\n",
        "warnings.filterwarnings('ignore')\n",
        "from google.colab import drive\n",
        "import pandas as pd\n",
        "\n",
        "drive.mount('/content/drive')"
      ],
      "metadata": {
        "id": "stKqx3fl1wOG",
        "colab": {
          "base_uri": "https://localhost:8080/"
        },
        "outputId": "e8e6ab9a-2bd7-453c-8b7e-7b38190bb491"
      },
      "execution_count": null,
      "outputs": [
        {
          "output_type": "stream",
          "name": "stdout",
          "text": [
            "Drive already mounted at /content/drive; to attempt to forcibly remount, call drive.mount(\"/content/drive\", force_remount=True).\n"
          ]
        }
      ]
    },
    {
      "cell_type": "markdown",
      "source": [
        "The Agent Class:"
      ],
      "metadata": {
        "id": "w4PsZHBBTxVU"
      }
    },
    {
      "cell_type": "code",
      "source": [
        "class Agent:\n",
        "\n",
        "  def __init__(self, start: tuple, goal: tuple, real_stage, view_range=1):\n",
        "      self.x = start[0]\n",
        "      self.y = start[1]\n",
        "      self.goal = goal\n",
        "      self.view_range = view_range\n",
        "      self.explored_stage = np.full_like(real_stage, -1)\n",
        "      self.explored_stage[self.x, self.y] = 0\n",
        "      self.agent_view(real_stage)\n",
        "      self.start_time = time.time()\n",
        "\n",
        "  def agent_view(self, real_stage):\n",
        "    \"\"\" Refreshes the explored map of the agent (sees up, down, left, right). \"\"\"\n",
        "    up_obs, upleft_obs, upright_obs, down_obs, downleft_obs, downright_obs, left_obs, right_obs = False, False, False, False, False, False, False, False\n",
        "    for i in range(self.view_range):\n",
        "      if self.x > i:  # checks up\n",
        "        tmp_x = self.x - i - 1\n",
        "        if not up_obs:  # stops if it sees obstacle\n",
        "          self.explored_stage[(tmp_x, self.y)] = real_stage[(tmp_x, self.y)]\n",
        "          if real_stage[(tmp_x, self.y)]:\n",
        "            up_obs = True\n",
        "        if self.y > i and not upleft_obs:  # up-left\n",
        "          if not upleft_obs:  # stops if it sees obstacle\n",
        "            self.explored_stage[(tmp_x, self.y - i - 1)] = real_stage[(tmp_x, self.y - i - 1)]\n",
        "            if real_stage[(tmp_x, self.y - i - 1)]:\n",
        "              upleft_obs = True\n",
        "        if self.y < len(real_stage[0]) - i - 1: # up-right\n",
        "          if not upright_obs:  # stops if it sees obstacle\n",
        "            self.explored_stage[(tmp_x, self.y + i + 1)] = real_stage[(tmp_x, self.y + i + 1)]\n",
        "            if real_stage[(tmp_x, self.y + i + 1)]:\n",
        "              upright_obs = True\n",
        "\n",
        "      if self.x < len(real_stage) - i - 1:  # checks down:\n",
        "        tmp_x = self.x + i + 1\n",
        "        if not down_obs:\n",
        "          self.explored_stage[(tmp_x, self.y)] = real_stage[(tmp_x, self.y)]\n",
        "          if real_stage[(tmp_x, self.y)]:\n",
        "            down_obs = True\n",
        "        if self.y > i:  # down-left\n",
        "          if not downleft_obs:\n",
        "            self.explored_stage[(tmp_x, self.y - i - 1)] = real_stage[(tmp_x, self.y - i - 1)]\n",
        "            if real_stage[(tmp_x, self.y - i - 1)]:\n",
        "              downleft_obs = True\n",
        "        if self.y < len(real_stage[0]) - i - 1: # down-right\n",
        "          if not downright_obs:\n",
        "            self.explored_stage[(tmp_x, self.y + i + 1)] = real_stage[(tmp_x, self.y + i + 1)]\n",
        "            if real_stage[(tmp_x, self.y + i + 1)]:\n",
        "              downright_obs = True\n",
        "\n",
        "      if self.y > i and not left_obs:  # left (& stops if it sees obstacle)\n",
        "        self.explored_stage[(self.x, self.y - i - 1)] = real_stage[(self.x, self.y - i - 1)]\n",
        "        if real_stage[(self.x, self.y - i - 1)]:\n",
        "          left_obs = True\n",
        "\n",
        "      if self.y < len(real_stage[0]) - i - 1 and not right_obs: # right (& stops if it sees obstacle)\n",
        "        self.explored_stage[(self.x, self.y + i + 1)] = real_stage[(self.x, self.y + i + 1)]\n",
        "        if real_stage[(self.x, self.y + i + 1)]:\n",
        "          right_obs = True\n",
        "\n",
        "    self.explored_stage[self.explored_stage == 2] = 0\n",
        "\n",
        "  def check_goal(self):\n",
        "    if (self.x, self.y) == self.goal:\n",
        "      return True\n",
        "    return False"
      ],
      "metadata": {
        "id": "G9oytlA1IEXF"
      },
      "execution_count": null,
      "outputs": []
    },
    {
      "cell_type": "markdown",
      "source": [
        "A* Algorithm:"
      ],
      "metadata": {
        "id": "VNu47KjXGIdk"
      }
    },
    {
      "cell_type": "code",
      "source": [
        "class Node:\n",
        "    def __init__(self, x, y, g_cost, h_cost):\n",
        "        self.x = x\n",
        "        self.y = y\n",
        "        self.g_cost = g_cost\n",
        "        self.h_cost = h_cost\n",
        "        self.parent = None\n",
        "\n",
        "    def f_cost(self):\n",
        "        return self.g_cost + self.h_cost\n",
        "\n",
        "def is_valid(x, y, grid):\n",
        "    # Checks if the x and y are within grid + if no obs in (x, y).\n",
        "    rows, cols = grid.shape\n",
        "    return 0 <= x < rows and 0 <= y < cols and grid[x, y] <= 0\n",
        "\n",
        "def a_star(grid, start, end):\n",
        "    directions = [(0, 1), (1, 0), (0, -1), (-1, 0)]  # Right, Down, Left, Up\n",
        "    rows, cols = grid.shape\n",
        "    grid2 = copy.deepcopy(grid)\n",
        "    grid2[grid2 == -1] = 0\n",
        "    grid2[grid2 == 2] = 0\n",
        "    draw_maze(grid)\n",
        "\n",
        "    open_set = []\n",
        "    closed_set = set()\n",
        "\n",
        "    start_node = Node(start[0], start[1], 0, 0)\n",
        "    open_set.append(start_node)\n",
        "\n",
        "    while open_set:\n",
        "        current_node = min(open_set, key=lambda node: node.f_cost())\n",
        "        open_set.remove(current_node)\n",
        "        closed_set.add((current_node.x, current_node.y))\n",
        "\n",
        "        if (current_node.x, current_node.y) == end:\n",
        "            path = []\n",
        "            while current_node:\n",
        "                path.insert(0, (current_node.x, current_node.y))\n",
        "                current_node = current_node.parent\n",
        "            return path\n",
        "\n",
        "        for dx, dy in directions:\n",
        "            new_x, new_y = current_node.x + dx, current_node.y + dy\n",
        "            if is_valid(new_x, new_y, grid2) and (new_x, new_y) not in closed_set:\n",
        "                g_cost = current_node.g_cost + 1\n",
        "                h_cost = abs(new_x - end[0]) + abs(new_y - end[1])\n",
        "                new_node = Node(new_x, new_y, g_cost, h_cost)\n",
        "                new_node.parent = current_node\n",
        "                if new_node not in open_set:\n",
        "                    open_set.append(new_node)\n",
        "\n",
        "    return None"
      ],
      "metadata": {
        "id": "t-7KhDWNvx2s"
      },
      "execution_count": null,
      "outputs": []
    },
    {
      "cell_type": "markdown",
      "source": [
        "Create a stage with obstacles (1) and free path (0)."
      ],
      "metadata": {
        "id": "xtGep3-c1ZLO"
      }
    },
    {
      "cell_type": "code",
      "execution_count": null,
      "metadata": {
        "id": "kdAegAWzzx0R"
      },
      "outputs": [],
      "source": [
        "def generate_stage(rows: int, cols: int, obs_prob = 0.2):\n",
        "\n",
        "  # generate obstacles with obs_prob probability\n",
        "  num_obstacles = int(rows * cols * obs_prob)\n",
        "\n",
        "  stage = np.full((rows, cols), 0)\n",
        "\n",
        "  # Set 1s at random positions for the specified percentage\n",
        "  indices = np.random.choice(rows * cols, num_obstacles, replace=False)\n",
        "  stage.flat[indices] = 1\n",
        "\n",
        "  return stage"
      ]
    },
    {
      "cell_type": "markdown",
      "source": [
        " Creates the \"explored\" stage, which at the start everything is not explored (-1) and put the agents there (2)."
      ],
      "metadata": {
        "id": "TCYQpmAd2GoF"
      }
    },
    {
      "cell_type": "code",
      "source": [
        "def generate_agents(real_stage, num_agents: int = 1, view_range: int = 1):\n",
        "\n",
        "  agents = []\n",
        "\n",
        "  if num_agents <= 0:\n",
        "    num_agents = 1\n",
        "\n",
        "  zero_coordinates = list(zip(*np.where(real_stage == 0)))\n",
        "  goal = random.choice(zero_coordinates)\n",
        "  # Create the \"explored\" stage\n",
        "  for _ in range(num_agents):\n",
        "    if zero_coordinates:\n",
        "      start = random.choice(zero_coordinates)\n",
        "      zero_coordinates.remove(start)\n",
        "      agents.append(Agent((start[0], start[1]), (goal[0], goal[1]), real_stage, view_range))\n",
        "    else:\n",
        "      break\n",
        "\n",
        "  return agents"
      ],
      "metadata": {
        "id": "tMw-q4462Ias"
      },
      "execution_count": null,
      "outputs": []
    },
    {
      "cell_type": "markdown",
      "source": [
        "Function to concat all agents explored stages (returns the total explored stage):"
      ],
      "metadata": {
        "id": "X5zEt43rqB4j"
      }
    },
    {
      "cell_type": "code",
      "source": [
        "def update_total_explored(agents):\n",
        "  if len(agents) == 0:\n",
        "    return\n",
        "\n",
        "  total_explored = np.full(agents[0].explored_stage.shape, -1)\n",
        "\n",
        "  for a in agents:\n",
        "    total_explored[total_explored == -1] = a.explored_stage[total_explored == -1]\n",
        "    total_explored[total_explored == 2] = 0\n",
        "\n",
        "  for a in agents:\n",
        "    if not a.check_goal():  # if agent has reached goal -> collidable (as if it is removed from the stage).\n",
        "      total_explored[a.x, a.y] = 2\n",
        "\n",
        "  # Total explored contains the concats of all agents stages:\n",
        "  for a in agents:\n",
        "    a.explored_stage = copy.deepcopy(total_explored)\n",
        "\n",
        "  return total_explored"
      ],
      "metadata": {
        "id": "103pQA0RkWZ4"
      },
      "execution_count": null,
      "outputs": []
    },
    {
      "cell_type": "markdown",
      "source": [
        "Calculates the explored percentage of the concat stage:"
      ],
      "metadata": {
        "id": "j1satA9_rkSp"
      }
    },
    {
      "cell_type": "code",
      "source": [
        "def calculate_expl_percentage(total_explored):\n",
        "  num_minus_1 = np.sum(total_explored == -1)\n",
        "  explored_percentage = 1 - (num_minus_1 / (total_explored.shape[0] * total_explored.shape[1]))\n",
        "  return explored_percentage"
      ],
      "metadata": {
        "id": "Er3drWa1rXZJ"
      },
      "execution_count": null,
      "outputs": []
    },
    {
      "cell_type": "markdown",
      "source": [
        "Function for testing astar:"
      ],
      "metadata": {
        "id": "ufvl2jRi_u9q"
      }
    },
    {
      "cell_type": "code",
      "source": [
        "def move_astar(start_grid, start_agents, max_episodes=100, debug=True):\n",
        "\n",
        "  grid = copy.deepcopy(start_grid)\n",
        "\n",
        "  agents = copy.deepcopy(start_agents)\n",
        "\n",
        "  for agent in agents:\n",
        "      grid[agent.x, agent.y] = 2  # Mark initial agent positions\n",
        "  total_explored = update_total_explored(agents)\n",
        "  prev_tot_expl = copy.deepcopy(total_explored)\n",
        "  episode = 0\n",
        "  total_agents = len(agents)\n",
        "\n",
        "  avg_eps_time = []\n",
        "  avg_agent_time = []\n",
        "\n",
        "  while any((agent.x, agent.y) != agent.goal for agent in agents) and episode < max_episodes:\n",
        "      eps_start_time = time.time()\n",
        "      episode += 1\n",
        "      # print(episode)\n",
        "      if debug:\n",
        "          print(total_explored)\n",
        "\n",
        "      for agent in agents:\n",
        "          if (agent.x, agent.y) == agent.goal:\n",
        "              total_explored = update_total_explored(agents)\n",
        "              agents.remove(agent)\n",
        "              continue  # Agent has reached its goal\n",
        "\n",
        "          print(agent.x, agent.y, agent.goal)\n",
        "          path = a_star(agent.explored_stage, (agent.x, agent.y), agent.goal)\n",
        "          print(path)\n",
        "          if path:\n",
        "              if agent.explored_stage[path[1]] != 2:\n",
        "                grid[agent.x, agent.y] = 0  # Mark the old position as unoccupied\n",
        "                agent.x, agent.y = path[1]  # Update agent position\n",
        "                grid[agent.x, agent.y] = 2  # Mark the new position as occupied by agent\n",
        "                if agent.check_goal():\n",
        "                  avg_agent_time.append(time.time() - agent.start_time)\n",
        "              # print(grid)\n",
        "          agent.agent_view(start_grid)\n",
        "          total_explored = update_total_explored(agents)\n",
        "          print(calculate_expl_percentage(total_explored))\n",
        "      avg_eps_time.append(time.time() - eps_start_time)\n",
        "      if np.array_equal(prev_tot_expl, total_explored): # stops if no agents have moved.\n",
        "          break\n",
        "      prev_tot_expl = copy.deepcopy(total_explored)\n",
        "\n",
        "  if debug:\n",
        "      print(total_explored)\n",
        "  return calculate_expl_percentage(total_explored), len(avg_agent_time) / total_agents, total_explored, np.mean(avg_eps_time), np.mean(avg_agent_time)"
      ],
      "metadata": {
        "id": "ozl6dZBO_uiq"
      },
      "execution_count": null,
      "outputs": []
    },
    {
      "cell_type": "markdown",
      "source": [
        "Manual Examples:"
      ],
      "metadata": {
        "id": "hIVCdmp7WKdR"
      }
    },
    {
      "cell_type": "code",
      "source": [
        "grid = np.array([[0, 0, 1, 0, 0],\n",
        "                 [1, 0, 0, 0, 1],\n",
        "                 [1, 0, 0, 0, 1],\n",
        "                 [0, 0, 1, 0, 0],\n",
        "                 [0, 0, 0, 0, 0]])\n",
        "\n",
        "print(\"LESS OBSTACLES STAGE\")\n",
        "agents = [Agent((0, 0), (4, 4), grid, 2), Agent((0, 4), (4, 0), grid),]\n",
        "res = move_astar(grid, agents)\n",
        "print(f\"Total Coverage Percentage {res[0]} / Agents Finished: {res[1]} / Average Episode Time: {res[3]} / Average Agent Finish Time : {res[4]}\")\n",
        "print(f\"Final Explored Stage\\n{res[2]}\")"
      ],
      "metadata": {
        "id": "rIfx619qidvj"
      },
      "execution_count": null,
      "outputs": []
    },
    {
      "cell_type": "code",
      "source": [
        "grid = np.array([[0, 0, 1, 1, 0],\n",
        "                 [0, 1, 1, 0, 1],\n",
        "                 [0, 0, 1, 0, 1],\n",
        "                 [0, 1, 0, 0, 0],\n",
        "                 [0, 0, 0, 0, 0]])\n",
        "\n",
        "print(\"MANY OBSTACLES STAGE\")\n",
        "agents = [Agent((0, 0), (4, 4), grid), Agent((0, 1), (4, 4), grid)]\n",
        "res = move_astar(grid, agents)\n",
        "print(f\"Total Coverage Percentage {res[0]} / Agents Finished: {res[1]} / Average Episode Time: {res[3]} / Average Agent Finish Time : {res[4]}\")\n",
        "print(f\"Final Explored Stage\\n{res[2]}\")"
      ],
      "metadata": {
        "id": "t-04ZXvf2JI7"
      },
      "execution_count": null,
      "outputs": []
    },
    {
      "cell_type": "markdown",
      "source": [
        "Function for maze creation. [Source](https://medium.com/@msgold/using-python-to-create-and-solve-mazes-672285723c96)."
      ],
      "metadata": {
        "id": "txI5bUt6URy0"
      }
    },
    {
      "cell_type": "code",
      "source": [
        "from queue import Queue\n",
        "\n",
        "def create_maze(rows, cols, obs_prob=0.8):\n",
        "    rows = int(rows / 2)\n",
        "    cols = int(cols / 2)\n",
        "\n",
        "    maze = np.ones((rows*2+1, cols*2+1))\n",
        "\n",
        "    x, y = (0, 0)\n",
        "\n",
        "    stack = [(x, y)]\n",
        "    while len(stack) > 0:\n",
        "        x, y = stack[-1]\n",
        "\n",
        "        directions = [(0, 1), (1, 0), (0, -1), (-1, 0)]\n",
        "        random.shuffle(directions)\n",
        "\n",
        "        for dx, dy in directions:\n",
        "            nx, ny = x + dx, y + dy\n",
        "            if nx >= 0 and ny >= 0 and nx < rows and ny < cols and maze[2*nx+1, 2*ny+1] == 1:\n",
        "                maze[2*nx+1, 2*ny+1] = 0\n",
        "                maze[2*x+1+dx, 2*y+1+dy] = 0\n",
        "                stack.append((nx, ny))\n",
        "                break\n",
        "        else:\n",
        "            stack.pop()\n",
        "\n",
        "    for row in range(rows*2+1):\n",
        "        for col in range(cols*2+1):\n",
        "            if random.random() >= obs_prob:\n",
        "                maze[row][col] = 0\n",
        "\n",
        "    return maze"
      ],
      "metadata": {
        "id": "yh3nYlwZQM-e"
      },
      "execution_count": null,
      "outputs": []
    },
    {
      "cell_type": "markdown",
      "source": [
        "Function to plot the grid/maze:"
      ],
      "metadata": {
        "id": "5ULfgQQNUtpw"
      }
    },
    {
      "cell_type": "code",
      "source": [
        "import matplotlib.pyplot as plt\n",
        "\n",
        "def draw_maze(maze, path=None):\n",
        "    fig, ax = plt.subplots(figsize=(10,10))\n",
        "\n",
        "    fig.patch.set_edgecolor('white')\n",
        "    fig.patch.set_linewidth(0)\n",
        "\n",
        "    ax.imshow(maze, cmap=plt.cm.binary, interpolation='nearest')\n",
        "\n",
        "    if path is not None:\n",
        "        x_coords = [x[1] for x in path]\n",
        "        y_coords = [y[0] for y in path]\n",
        "        ax.plot(x_coords, y_coords, color='red', linewidth=2)\n",
        "\n",
        "    ax.set_xticks([])\n",
        "    ax.set_yticks([])\n",
        "\n",
        "    plt.show()"
      ],
      "metadata": {
        "id": "HKEjr_fFRct8"
      },
      "execution_count": null,
      "outputs": []
    },
    {
      "cell_type": "markdown",
      "source": [
        "Function to test astar with many experiments (print averages)."
      ],
      "metadata": {
        "id": "4ubh6zWyMm85"
      }
    },
    {
      "cell_type": "code",
      "source": [
        "def test_astar(num_agents, num_test, start_grid = None, gen_stage_func = None, agent_view_range = 1, debug=True):\n",
        "  \"\"\"\n",
        "  Function to test astar with many experiments (returns averages).\n",
        "  If you want to give the initial grid, initialize the variable start_grid with your grid\n",
        "  (and put the gen_stage_func parameter = None).\n",
        "  If you want to create a different stage for each experiment, put start_grid = None\n",
        "  and initialize the next parameter (gen_stage_func) like so:\n",
        "  functools.partial(func_for_grid_gen, rows, cols, obs_prob)\n",
        "  where func_for_grid_gen is a function for grid generation, rows and cols are the number\n",
        "  of rows and columns of the grid and obs_prob the probablity of obstacles.\n",
        "  \"\"\"\n",
        "  avg = []\n",
        "  avg_finish = []\n",
        "  avg_exp_time = []\n",
        "  avg_agent_time = []\n",
        "  avg_eps_time= []\n",
        "\n",
        "  for _ in range(num_test):\n",
        "    start_time = time.time()\n",
        "    if start_grid is None:\n",
        "      grid = gen_stage_func()\n",
        "      # print(grid)\n",
        "    else:\n",
        "      grid = copy.deepcopy(start_grid)\n",
        "    agents = generate_agents(real_stage = grid, num_agents = num_agents, view_range = agent_view_range)\n",
        "    res = move_astar(start_grid=grid, start_agents=agents, debug=False)\n",
        "    avg.append(res[0])\n",
        "    avg_finish.append(res[1])\n",
        "    avg_exp_time.append(time.time() - start_time)\n",
        "    avg_eps_time.append(res[3])\n",
        "    avg_agent_time.append(res[4])\n",
        "\n",
        "  avg_agent_time = [x if not np.isnan(x) else max(avg_agent_time) for x in avg_agent_time]  # replaces nans with max value.\n",
        "  # Checks again for nans, and replaces them with 1.\n",
        "  if np.all(np.isnan(avg_agent_time)):\n",
        "    avg_agent_time = np.where(np.isnan(avg_agent_time), 1, avg_agent_time)\n",
        "\n",
        "  avg_cover, avg_finish, avg_expt_time, avg_eps_time, avg_agent_time = np.mean(avg), np.mean(avg_finish), np.mean(avg_exp_time), np.mean(avg_eps_time), np.mean(avg_agent_time)\n",
        "  if debug:\n",
        "    print(f\"Average Coverage Percentage: {avg_cover} / Average Finished: {avg_finish} / Average Experiment Time: {avg_expt_time}s / Average Episode Time: {avg_eps_time} / Average Agent Finish Time : {avg_agent_time}\")\n",
        "  return avg_cover, avg_finish, avg_expt_time, avg_eps_time, avg_agent_time"
      ],
      "metadata": {
        "id": "N5Z09YFfGcb7"
      },
      "execution_count": null,
      "outputs": []
    },
    {
      "cell_type": "markdown",
      "source": [
        "Testing with dynamically generated stages:"
      ],
      "metadata": {
        "id": "QwSgYsXC7acs"
      }
    },
    {
      "cell_type": "code",
      "source": [
        "num_agents = 15\n",
        "num_test = 10\n",
        "\n",
        "res=test_astar(num_agents, num_test, None, functools.partial(generate_stage, rows=10, cols=10, obs_prob=0.5))"
      ],
      "metadata": {
        "id": "gxRwiXeY6ubE",
        "colab": {
          "base_uri": "https://localhost:8080/"
        },
        "outputId": "a5b6c625-de37-4151-993d-5cd254df15be"
      },
      "execution_count": null,
      "outputs": [
        {
          "output_type": "stream",
          "name": "stdout",
          "text": [
            "Average Coverage Percentage: 0.7939999999999999 / Average Finished: 0.12000000000000002 / Average Experiment Time: 0.0306377649307251s / Average Episode Time: 0.006551636514209566 / Average Agent Finish Time : 0.017789840698242188\n"
          ]
        }
      ]
    },
    {
      "cell_type": "markdown",
      "source": [
        "Generate test maze:"
      ],
      "metadata": {
        "id": "6g8qgDqdfIix"
      }
    },
    {
      "cell_type": "code",
      "source": [
        "grid_rows, grid_columns = 30, 30\n",
        "obs_prob = 0.35\n",
        "test_maze = create_maze(grid_rows, grid_columns, obs_prob)\n",
        "draw_maze(test_maze)"
      ],
      "metadata": {
        "colab": {
          "base_uri": "https://localhost:8080/",
          "height": 807
        },
        "id": "mtf_SWPvfIIN",
        "outputId": "dc210a1d-830f-440b-d00b-0beb101b0d24"
      },
      "execution_count": null,
      "outputs": [
        {
          "output_type": "display_data",
          "data": {
            "text/plain": [
              "<Figure size 1000x1000 with 1 Axes>"
            ],
            "image/png": "[encoded data removed]"
          },
          "metadata": {}
        }
      ]
    },
    {
      "cell_type": "markdown",
      "source": [
        "Solve the test_maze with 20 agents:"
      ],
      "metadata": {
        "id": "d-T0UCTwQqdX"
      }
    },
    {
      "cell_type": "code",
      "source": [
        "num_agents = 10 # number of agents.\n",
        "num_test = 1\n",
        "res=test_astar(num_agents, num_test, None, functools.partial(create_maze, rows=30, cols=30, obs_prob=0.85), agent_view_range=100)"
      ],
      "metadata": {
        "colab": {
          "base_uri": "https://localhost:8080/",
          "height": 1000
        },
        "id": "tN3ngNg8QWwI",
        "outputId": "72f2b5e1-3c15-45cf-8569-3a3388acbd49"
      },
      "execution_count": null,
      "outputs": [
        {
          "output_type": "stream",
          "name": "stdout",
          "text": [
            "16 3 (21, 20)\n"
          ]
        },
        {
          "output_type": "display_data",
          "data": {
            "text/plain": [
              "<Figure size 1000x1000 with 1 Axes>"
            ],
            "image/png": "[encoded data removed]"
          },
          "metadata": {}
        },
        {
          "output_type": "error",
          "ename": "KeyboardInterrupt",
          "evalue": "ignored",
          "traceback": [
            "\u001b[0;31m---------------------------------------------------------------------------\u001b[0m",
            "\u001b[0;31mKeyboardInterrupt\u001b[0m                         Traceback (most recent call last)",
            "\u001b[0;32m<ipython-input-34-a8d3dde89a9d>\u001b[0m in \u001b[0;36m<cell line: 3>\u001b[0;34m()\u001b[0m\n\u001b[1;32m      1\u001b[0m \u001b[0mnum_agents\u001b[0m \u001b[0;34m=\u001b[0m \u001b[0;36m10\u001b[0m \u001b[0;31m# number of agents.\u001b[0m\u001b[0;34m\u001b[0m\u001b[0;34m\u001b[0m\u001b[0m\n\u001b[1;32m      2\u001b[0m \u001b[0mnum_test\u001b[0m \u001b[0;34m=\u001b[0m \u001b[0;36m1\u001b[0m\u001b[0;34m\u001b[0m\u001b[0;34m\u001b[0m\u001b[0m\n\u001b[0;32m----> 3\u001b[0;31m \u001b[0mres\u001b[0m\u001b[0;34m=\u001b[0m\u001b[0mtest_astar\u001b[0m\u001b[0;34m(\u001b[0m\u001b[0mnum_agents\u001b[0m\u001b[0;34m,\u001b[0m \u001b[0mnum_test\u001b[0m\u001b[0;34m,\u001b[0m \u001b[0;32mNone\u001b[0m\u001b[0;34m,\u001b[0m \u001b[0mfunctools\u001b[0m\u001b[0;34m.\u001b[0m\u001b[0mpartial\u001b[0m\u001b[0;34m(\u001b[0m\u001b[0mcreate_maze\u001b[0m\u001b[0;34m,\u001b[0m \u001b[0mrows\u001b[0m\u001b[0;34m=\u001b[0m\u001b[0;36m30\u001b[0m\u001b[0;34m,\u001b[0m \u001b[0mcols\u001b[0m\u001b[0;34m=\u001b[0m\u001b[0;36m30\u001b[0m\u001b[0;34m,\u001b[0m \u001b[0mobs_prob\u001b[0m\u001b[0;34m=\u001b[0m\u001b[0;36m0.85\u001b[0m\u001b[0;34m)\u001b[0m\u001b[0;34m,\u001b[0m \u001b[0magent_view_range\u001b[0m\u001b[0;34m=\u001b[0m\u001b[0;36m100\u001b[0m\u001b[0;34m)\u001b[0m\u001b[0;34m\u001b[0m\u001b[0;34m\u001b[0m\u001b[0m\n\u001b[0m",
            "\u001b[0;32m<ipython-input-11-e38d81591b6a>\u001b[0m in \u001b[0;36mtest_astar\u001b[0;34m(num_agents, num_test, start_grid, gen_stage_func, agent_view_range, debug)\u001b[0m\n\u001b[1;32m     24\u001b[0m       \u001b[0mgrid\u001b[0m \u001b[0;34m=\u001b[0m \u001b[0mcopy\u001b[0m\u001b[0;34m.\u001b[0m\u001b[0mdeepcopy\u001b[0m\u001b[0;34m(\u001b[0m\u001b[0mstart_grid\u001b[0m\u001b[0;34m)\u001b[0m\u001b[0;34m\u001b[0m\u001b[0;34m\u001b[0m\u001b[0m\n\u001b[1;32m     25\u001b[0m     \u001b[0magents\u001b[0m \u001b[0;34m=\u001b[0m \u001b[0mgenerate_agents\u001b[0m\u001b[0;34m(\u001b[0m\u001b[0mreal_stage\u001b[0m \u001b[0;34m=\u001b[0m \u001b[0mgrid\u001b[0m\u001b[0;34m,\u001b[0m \u001b[0mnum_agents\u001b[0m \u001b[0;34m=\u001b[0m \u001b[0mnum_agents\u001b[0m\u001b[0;34m,\u001b[0m \u001b[0mview_range\u001b[0m \u001b[0;34m=\u001b[0m \u001b[0magent_view_range\u001b[0m\u001b[0;34m)\u001b[0m\u001b[0;34m\u001b[0m\u001b[0;34m\u001b[0m\u001b[0m\n\u001b[0;32m---> 26\u001b[0;31m     \u001b[0mres\u001b[0m \u001b[0;34m=\u001b[0m \u001b[0mmove_astar\u001b[0m\u001b[0;34m(\u001b[0m\u001b[0mstart_grid\u001b[0m\u001b[0;34m=\u001b[0m\u001b[0mgrid\u001b[0m\u001b[0;34m,\u001b[0m \u001b[0mstart_agents\u001b[0m\u001b[0;34m=\u001b[0m\u001b[0magents\u001b[0m\u001b[0;34m,\u001b[0m \u001b[0mdebug\u001b[0m\u001b[0;34m=\u001b[0m\u001b[0;32mFalse\u001b[0m\u001b[0;34m)\u001b[0m\u001b[0;34m\u001b[0m\u001b[0;34m\u001b[0m\u001b[0m\n\u001b[0m\u001b[1;32m     27\u001b[0m     \u001b[0mavg\u001b[0m\u001b[0;34m.\u001b[0m\u001b[0mappend\u001b[0m\u001b[0;34m(\u001b[0m\u001b[0mres\u001b[0m\u001b[0;34m[\u001b[0m\u001b[0;36m0\u001b[0m\u001b[0;34m]\u001b[0m\u001b[0;34m)\u001b[0m\u001b[0;34m\u001b[0m\u001b[0;34m\u001b[0m\u001b[0m\n\u001b[1;32m     28\u001b[0m     \u001b[0mavg_finish\u001b[0m\u001b[0;34m.\u001b[0m\u001b[0mappend\u001b[0m\u001b[0;34m(\u001b[0m\u001b[0mres\u001b[0m\u001b[0;34m[\u001b[0m\u001b[0;36m1\u001b[0m\u001b[0;34m]\u001b[0m\u001b[0;34m)\u001b[0m\u001b[0;34m\u001b[0m\u001b[0;34m\u001b[0m\u001b[0m\n",
            "\u001b[0;32m<ipython-input-8-35c3b159b243>\u001b[0m in \u001b[0;36mmove_astar\u001b[0;34m(start_grid, start_agents, max_episodes, debug)\u001b[0m\n\u001b[1;32m     29\u001b[0m \u001b[0;34m\u001b[0m\u001b[0m\n\u001b[1;32m     30\u001b[0m           \u001b[0mprint\u001b[0m\u001b[0;34m(\u001b[0m\u001b[0magent\u001b[0m\u001b[0;34m.\u001b[0m\u001b[0mx\u001b[0m\u001b[0;34m,\u001b[0m \u001b[0magent\u001b[0m\u001b[0;34m.\u001b[0m\u001b[0my\u001b[0m\u001b[0;34m,\u001b[0m \u001b[0magent\u001b[0m\u001b[0;34m.\u001b[0m\u001b[0mgoal\u001b[0m\u001b[0;34m)\u001b[0m\u001b[0;34m\u001b[0m\u001b[0;34m\u001b[0m\u001b[0m\n\u001b[0;32m---> 31\u001b[0;31m           \u001b[0mpath\u001b[0m \u001b[0;34m=\u001b[0m \u001b[0ma_star\u001b[0m\u001b[0;34m(\u001b[0m\u001b[0magent\u001b[0m\u001b[0;34m.\u001b[0m\u001b[0mexplored_stage\u001b[0m\u001b[0;34m,\u001b[0m \u001b[0;34m(\u001b[0m\u001b[0magent\u001b[0m\u001b[0;34m.\u001b[0m\u001b[0mx\u001b[0m\u001b[0;34m,\u001b[0m \u001b[0magent\u001b[0m\u001b[0;34m.\u001b[0m\u001b[0my\u001b[0m\u001b[0;34m)\u001b[0m\u001b[0;34m,\u001b[0m \u001b[0magent\u001b[0m\u001b[0;34m.\u001b[0m\u001b[0mgoal\u001b[0m\u001b[0;34m)\u001b[0m\u001b[0;34m\u001b[0m\u001b[0;34m\u001b[0m\u001b[0m\n\u001b[0m\u001b[1;32m     32\u001b[0m           \u001b[0mprint\u001b[0m\u001b[0;34m(\u001b[0m\u001b[0mpath\u001b[0m\u001b[0;34m)\u001b[0m\u001b[0;34m\u001b[0m\u001b[0;34m\u001b[0m\u001b[0m\n\u001b[1;32m     33\u001b[0m           \u001b[0;32mif\u001b[0m \u001b[0mpath\u001b[0m\u001b[0;34m:\u001b[0m\u001b[0;34m\u001b[0m\u001b[0;34m\u001b[0m\u001b[0m\n",
            "\u001b[0;32m<ipython-input-33-480520e711d4>\u001b[0m in \u001b[0;36ma_star\u001b[0;34m(grid, start, end)\u001b[0m\n\u001b[1;32m     31\u001b[0m     \u001b[0;32mwhile\u001b[0m \u001b[0mopen_set\u001b[0m\u001b[0;34m:\u001b[0m\u001b[0;34m\u001b[0m\u001b[0;34m\u001b[0m\u001b[0m\n\u001b[1;32m     32\u001b[0m         \u001b[0mcurrent_node\u001b[0m \u001b[0;34m=\u001b[0m \u001b[0mmin\u001b[0m\u001b[0;34m(\u001b[0m\u001b[0mopen_set\u001b[0m\u001b[0;34m,\u001b[0m \u001b[0mkey\u001b[0m\u001b[0;34m=\u001b[0m\u001b[0;32mlambda\u001b[0m \u001b[0mnode\u001b[0m\u001b[0;34m:\u001b[0m \u001b[0mnode\u001b[0m\u001b[0;34m.\u001b[0m\u001b[0mf_cost\u001b[0m\u001b[0;34m(\u001b[0m\u001b[0;34m)\u001b[0m\u001b[0;34m)\u001b[0m\u001b[0;34m\u001b[0m\u001b[0;34m\u001b[0m\u001b[0m\n\u001b[0;32m---> 33\u001b[0;31m         \u001b[0mopen_set\u001b[0m\u001b[0;34m.\u001b[0m\u001b[0mremove\u001b[0m\u001b[0;34m(\u001b[0m\u001b[0mcurrent_node\u001b[0m\u001b[0;34m)\u001b[0m\u001b[0;34m\u001b[0m\u001b[0;34m\u001b[0m\u001b[0m\n\u001b[0m\u001b[1;32m     34\u001b[0m         \u001b[0mclosed_set\u001b[0m\u001b[0;34m.\u001b[0m\u001b[0madd\u001b[0m\u001b[0;34m(\u001b[0m\u001b[0;34m(\u001b[0m\u001b[0mcurrent_node\u001b[0m\u001b[0;34m.\u001b[0m\u001b[0mx\u001b[0m\u001b[0;34m,\u001b[0m \u001b[0mcurrent_node\u001b[0m\u001b[0;34m.\u001b[0m\u001b[0my\u001b[0m\u001b[0;34m)\u001b[0m\u001b[0;34m)\u001b[0m\u001b[0;34m\u001b[0m\u001b[0;34m\u001b[0m\u001b[0m\n\u001b[1;32m     35\u001b[0m \u001b[0;34m\u001b[0m\u001b[0m\n",
            "\u001b[0;31mKeyboardInterrupt\u001b[0m: "
          ]
        }
      ]
    },
    {
      "cell_type": "markdown",
      "source": [
        "Solve the test_maze with 10 agents:"
      ],
      "metadata": {
        "id": "f3LscZfyMjfq"
      }
    },
    {
      "cell_type": "code",
      "source": [
        "num_agents = 10 # number of agents.\n",
        "num_test = 20\n",
        "res=test_astar(num_agents, num_test, None, functools.partial(create_maze, rows=13, cols=13, obs_prob=0.85))"
      ],
      "metadata": {
        "colab": {
          "base_uri": "https://localhost:8080/"
        },
        "id": "mED3n5NjMi3Z",
        "outputId": "10e64a33-0f52-4a98-e571-0c853e32f9c1"
      },
      "execution_count": null,
      "outputs": [
        {
          "output_type": "stream",
          "name": "stdout",
          "text": [
            "Average Coverage Percentage: 0.8872781065088757 / Average Finished: 0.735 / Average Experiment Time: 2.7009820342063904s / Average Episode Time: 0.0999970125190866 / Average Agent Finish Time : 2.833332858118746\n"
          ]
        }
      ]
    },
    {
      "cell_type": "markdown",
      "source": [
        "Solve the test_maze with 20 agents and max view range:"
      ],
      "metadata": {
        "id": "DIlouLZ7sNV6"
      }
    },
    {
      "cell_type": "code",
      "source": [
        "num_agents = 20 # number of agents.\n",
        "num_test = 20\n",
        "res=test_astar(num_agents, num_test, None, functools.partial(create_maze, rows=13, cols=13, obs_prob=0.85), agent_view_range=1000)"
      ],
      "metadata": {
        "colab": {
          "base_uri": "https://localhost:8080/"
        },
        "id": "iB-IR21ssCub",
        "outputId": "87a924a4-1feb-4928-9f6a-2482cfe719b0"
      },
      "execution_count": null,
      "outputs": [
        {
          "output_type": "stream",
          "name": "stdout",
          "text": [
            "Average Coverage Percentage: 0.9517751479289942 / Average Finished: 0.4575 / Average Experiment Time: 0.7539343476295471s / Average Episode Time: 0.022050783224309554 / Average Agent Finish Time : 0.42044304389192977\n"
          ]
        }
      ]
    },
    {
      "cell_type": "markdown",
      "source": [
        "Solve the test_maze with 10 agents and max view range:"
      ],
      "metadata": {
        "id": "qYRr2o6XrprA"
      }
    },
    {
      "cell_type": "code",
      "source": [
        "num_agents = 10 # number of agents.\n",
        "num_test = 20\n",
        "res=test_astar(num_agents, num_test, None, functools.partial(create_maze, rows=13, cols=13, obs_prob=0.85), agent_view_range=1000)"
      ],
      "metadata": {
        "colab": {
          "base_uri": "https://localhost:8080/"
        },
        "id": "cYi1FLv0rdRY",
        "outputId": "f1442120-05e2-4b4c-d513-bad75985cecd"
      },
      "execution_count": null,
      "outputs": [
        {
          "output_type": "stream",
          "name": "stdout",
          "text": [
            "Average Coverage Percentage: 0.9606508875739644 / Average Finished: 0.775 / Average Experiment Time: 2.186798655986786s / Average Episode Time: 0.04735155395426493 / Average Agent Finish Time : 2.0365898171776817\n"
          ]
        }
      ]
    },
    {
      "cell_type": "markdown",
      "source": [
        "Solve the test_maze with 5 agents and max view range:"
      ],
      "metadata": {
        "id": "iol2WR6vtM__"
      }
    },
    {
      "cell_type": "code",
      "source": [
        "num_agents = 5 # number of agents.\n",
        "num_test = 20\n",
        "res=test_astar(num_agents, num_test, None, functools.partial(create_maze, rows=13, cols=13, obs_prob=0.85), agent_view_range=1000)"
      ],
      "metadata": {
        "colab": {
          "base_uri": "https://localhost:8080/"
        },
        "id": "Zx5FSaS8tJmN",
        "outputId": "1d3723db-412e-4a9f-9d85-54dfbe6d3327"
      },
      "execution_count": null,
      "outputs": [
        {
          "output_type": "stream",
          "name": "stdout",
          "text": [
            "Average Coverage Percentage: 0.8928994082840237 / Average Finished: 0.8400000000000002 / Average Experiment Time: 43.41196100711822s / Average Episode Time: 1.1502550307425148 / Average Agent Finish Time : 43.28249732295672\n"
          ]
        }
      ]
    },
    {
      "cell_type": "markdown",
      "source": [
        "Solve the test_maze with 25 agents and max view range:"
      ],
      "metadata": {
        "id": "ETqExlXiuiId"
      }
    },
    {
      "cell_type": "code",
      "source": [
        "num_agents = 25 # number of agents.\n",
        "num_test = 20\n",
        "res=test_astar(num_agents, num_test, None, functools.partial(create_maze, rows=13, cols=13, obs_prob=0.85), agent_view_range=1000)"
      ],
      "metadata": {
        "colab": {
          "base_uri": "https://localhost:8080/"
        },
        "id": "iiZgHJEBuasl",
        "outputId": "07bc7cac-04dd-4862-bb58-b1de5a868c69"
      },
      "execution_count": null,
      "outputs": [
        {
          "output_type": "stream",
          "name": "stdout",
          "text": [
            "Average Coverage Percentage: 0.9553254437869823 / Average Finished: 0.336 / Average Experiment Time: 0.7723968625068665s / Average Episode Time: 0.026519353327084844 / Average Agent Finish Time : nan\n"
          ]
        }
      ]
    },
    {
      "cell_type": "markdown",
      "source": [
        "Save experiments on a xlsx file:"
      ],
      "metadata": {
        "id": "h1RcVEiHDJtV"
      }
    },
    {
      "cell_type": "code",
      "source": [
        "file_path = '/content/drive/My Drive/astar_swarm.xlsx'\n",
        "\n",
        "# Initialization Parameters ========\n",
        "min_num_agents = 3\n",
        "max_num_agents = 9\n",
        "min_maze_dim = 10\n",
        "max_maze_dim = 13\n",
        "num_test = 100\n",
        "# =================================\n",
        "\n",
        "try:\n",
        "    df = pd.read_excel(file_path)\n",
        "except FileNotFoundError:\n",
        "    df = pd.DataFrame(columns=[\"#_Agents\", \"Coverage\", \"Finished_Agents\", \"Experiment_Time\", \"Episode_Time\", \"Agent_Finish_Time\", \"Dimensions\"])\n",
        "\n",
        "for maze_dim in range(min_maze_dim, max_maze_dim + 1):\n",
        "  print(f\"Maze Dimensions: {maze_dim}x{maze_dim}\")\n",
        "  for num_agent in range(min_num_agents, max_num_agents + 1):\n",
        "    print(f\"  Agent number: {num_agent}\")\n",
        "    avg_cover, avg_finish, avg_expt_time, avg_eps_time, avg_agent_time = test_astar(num_agent, num_test, gen_stage_func=functools.partial(create_maze, rows=maze_dim, cols=maze_dim, obs_prob=0.85), agent_view_range=1000, debug=False)\n",
        "    new_row = {\n",
        "        \"#_Agents\": num_agent,\n",
        "        \"Coverage\": avg_cover,\n",
        "        \"Finished_Agents\": avg_finish,\n",
        "        \"Experiment_Time\": avg_expt_time,\n",
        "        \"Episode_Time\": avg_eps_time,\n",
        "        \"Agent_Finish_Time\": avg_agent_time,\n",
        "        \"Dimensions\": (maze_dim, maze_dim)\n",
        "    }\n",
        "\n",
        "    df = df.append(new_row, ignore_index=True)\n",
        "    df.to_excel(file_path, float_format='%.5f', index=False)\n"
      ],
      "metadata": {
        "colab": {
          "base_uri": "https://localhost:8080/",
          "height": 495
        },
        "id": "vJCUyLLpEeVc",
        "outputId": "b912fa3c-9bbc-4b16-fc15-90805416bef4"
      },
      "execution_count": null,
      "outputs": [
        {
          "output_type": "stream",
          "name": "stdout",
          "text": [
            "Maze Dimensions: 10x10\n",
            "  Agent number: 3\n",
            "7 8 (9, 5)\n",
            "[(9, 5)]\n",
            "[(9, 5)]\n"
          ]
        },
        {
          "output_type": "error",
          "ename": "IndexError",
          "evalue": "ignored",
          "traceback": [
            "\u001b[0;31m---------------------------------------------------------------------------\u001b[0m",
            "\u001b[0;31mIndexError\u001b[0m                                Traceback (most recent call last)",
            "\u001b[0;32m<ipython-input-16-45e862401f89>\u001b[0m in \u001b[0;36m<cell line: 16>\u001b[0;34m()\u001b[0m\n\u001b[1;32m     18\u001b[0m   \u001b[0;32mfor\u001b[0m \u001b[0mnum_agent\u001b[0m \u001b[0;32min\u001b[0m \u001b[0mrange\u001b[0m\u001b[0;34m(\u001b[0m\u001b[0mmin_num_agents\u001b[0m\u001b[0;34m,\u001b[0m \u001b[0mmax_num_agents\u001b[0m \u001b[0;34m+\u001b[0m \u001b[0;36m1\u001b[0m\u001b[0;34m)\u001b[0m\u001b[0;34m:\u001b[0m\u001b[0;34m\u001b[0m\u001b[0;34m\u001b[0m\u001b[0m\n\u001b[1;32m     19\u001b[0m     \u001b[0mprint\u001b[0m\u001b[0;34m(\u001b[0m\u001b[0;34mf\"  Agent number: {num_agent}\"\u001b[0m\u001b[0;34m)\u001b[0m\u001b[0;34m\u001b[0m\u001b[0;34m\u001b[0m\u001b[0m\n\u001b[0;32m---> 20\u001b[0;31m     \u001b[0mavg_cover\u001b[0m\u001b[0;34m,\u001b[0m \u001b[0mavg_finish\u001b[0m\u001b[0;34m,\u001b[0m \u001b[0mavg_expt_time\u001b[0m\u001b[0;34m,\u001b[0m \u001b[0mavg_eps_time\u001b[0m\u001b[0;34m,\u001b[0m \u001b[0mavg_agent_time\u001b[0m \u001b[0;34m=\u001b[0m \u001b[0mtest_astar\u001b[0m\u001b[0;34m(\u001b[0m\u001b[0mnum_agent\u001b[0m\u001b[0;34m,\u001b[0m \u001b[0mnum_test\u001b[0m\u001b[0;34m,\u001b[0m \u001b[0mgen_stage_func\u001b[0m\u001b[0;34m=\u001b[0m\u001b[0mfunctools\u001b[0m\u001b[0;34m.\u001b[0m\u001b[0mpartial\u001b[0m\u001b[0;34m(\u001b[0m\u001b[0mcreate_maze\u001b[0m\u001b[0;34m,\u001b[0m \u001b[0mrows\u001b[0m\u001b[0;34m=\u001b[0m\u001b[0mmaze_dim\u001b[0m\u001b[0;34m,\u001b[0m \u001b[0mcols\u001b[0m\u001b[0;34m=\u001b[0m\u001b[0mmaze_dim\u001b[0m\u001b[0;34m,\u001b[0m \u001b[0mobs_prob\u001b[0m\u001b[0;34m=\u001b[0m\u001b[0;36m0.85\u001b[0m\u001b[0;34m)\u001b[0m\u001b[0;34m,\u001b[0m \u001b[0magent_view_range\u001b[0m\u001b[0;34m=\u001b[0m\u001b[0;36m1000\u001b[0m\u001b[0;34m,\u001b[0m \u001b[0mdebug\u001b[0m\u001b[0;34m=\u001b[0m\u001b[0;32mFalse\u001b[0m\u001b[0;34m)\u001b[0m\u001b[0;34m\u001b[0m\u001b[0;34m\u001b[0m\u001b[0m\n\u001b[0m\u001b[1;32m     21\u001b[0m     new_row = {\n\u001b[1;32m     22\u001b[0m         \u001b[0;34m\"#_Agents\"\u001b[0m\u001b[0;34m:\u001b[0m \u001b[0mnum_agent\u001b[0m\u001b[0;34m,\u001b[0m\u001b[0;34m\u001b[0m\u001b[0;34m\u001b[0m\u001b[0m\n",
            "\u001b[0;32m<ipython-input-11-e38d81591b6a>\u001b[0m in \u001b[0;36mtest_astar\u001b[0;34m(num_agents, num_test, start_grid, gen_stage_func, agent_view_range, debug)\u001b[0m\n\u001b[1;32m     24\u001b[0m       \u001b[0mgrid\u001b[0m \u001b[0;34m=\u001b[0m \u001b[0mcopy\u001b[0m\u001b[0;34m.\u001b[0m\u001b[0mdeepcopy\u001b[0m\u001b[0;34m(\u001b[0m\u001b[0mstart_grid\u001b[0m\u001b[0;34m)\u001b[0m\u001b[0;34m\u001b[0m\u001b[0;34m\u001b[0m\u001b[0m\n\u001b[1;32m     25\u001b[0m     \u001b[0magents\u001b[0m \u001b[0;34m=\u001b[0m \u001b[0mgenerate_agents\u001b[0m\u001b[0;34m(\u001b[0m\u001b[0mreal_stage\u001b[0m \u001b[0;34m=\u001b[0m \u001b[0mgrid\u001b[0m\u001b[0;34m,\u001b[0m \u001b[0mnum_agents\u001b[0m \u001b[0;34m=\u001b[0m \u001b[0mnum_agents\u001b[0m\u001b[0;34m,\u001b[0m \u001b[0mview_range\u001b[0m \u001b[0;34m=\u001b[0m \u001b[0magent_view_range\u001b[0m\u001b[0;34m)\u001b[0m\u001b[0;34m\u001b[0m\u001b[0;34m\u001b[0m\u001b[0m\n\u001b[0;32m---> 26\u001b[0;31m     \u001b[0mres\u001b[0m \u001b[0;34m=\u001b[0m \u001b[0mmove_astar\u001b[0m\u001b[0;34m(\u001b[0m\u001b[0mstart_grid\u001b[0m\u001b[0;34m=\u001b[0m\u001b[0mgrid\u001b[0m\u001b[0;34m,\u001b[0m \u001b[0mstart_agents\u001b[0m\u001b[0;34m=\u001b[0m\u001b[0magents\u001b[0m\u001b[0;34m,\u001b[0m \u001b[0mdebug\u001b[0m\u001b[0;34m=\u001b[0m\u001b[0;32mFalse\u001b[0m\u001b[0;34m)\u001b[0m\u001b[0;34m\u001b[0m\u001b[0;34m\u001b[0m\u001b[0m\n\u001b[0m\u001b[1;32m     27\u001b[0m     \u001b[0mavg\u001b[0m\u001b[0;34m.\u001b[0m\u001b[0mappend\u001b[0m\u001b[0;34m(\u001b[0m\u001b[0mres\u001b[0m\u001b[0;34m[\u001b[0m\u001b[0;36m0\u001b[0m\u001b[0;34m]\u001b[0m\u001b[0;34m)\u001b[0m\u001b[0;34m\u001b[0m\u001b[0;34m\u001b[0m\u001b[0m\n\u001b[1;32m     28\u001b[0m     \u001b[0mavg_finish\u001b[0m\u001b[0;34m.\u001b[0m\u001b[0mappend\u001b[0m\u001b[0;34m(\u001b[0m\u001b[0mres\u001b[0m\u001b[0;34m[\u001b[0m\u001b[0;36m1\u001b[0m\u001b[0;34m]\u001b[0m\u001b[0;34m)\u001b[0m\u001b[0;34m\u001b[0m\u001b[0;34m\u001b[0m\u001b[0m\n",
            "\u001b[0;32m<ipython-input-8-35c3b159b243>\u001b[0m in \u001b[0;36mmove_astar\u001b[0;34m(start_grid, start_agents, max_episodes, debug)\u001b[0m\n\u001b[1;32m     32\u001b[0m           \u001b[0mprint\u001b[0m\u001b[0;34m(\u001b[0m\u001b[0mpath\u001b[0m\u001b[0;34m)\u001b[0m\u001b[0;34m\u001b[0m\u001b[0;34m\u001b[0m\u001b[0m\n\u001b[1;32m     33\u001b[0m           \u001b[0;32mif\u001b[0m \u001b[0mpath\u001b[0m\u001b[0;34m:\u001b[0m\u001b[0;34m\u001b[0m\u001b[0;34m\u001b[0m\u001b[0m\n\u001b[0;32m---> 34\u001b[0;31m               \u001b[0;32mif\u001b[0m \u001b[0magent\u001b[0m\u001b[0;34m.\u001b[0m\u001b[0mexplored_stage\u001b[0m\u001b[0;34m[\u001b[0m\u001b[0mpath\u001b[0m\u001b[0;34m[\u001b[0m\u001b[0;36m1\u001b[0m\u001b[0;34m]\u001b[0m\u001b[0;34m]\u001b[0m \u001b[0;34m!=\u001b[0m \u001b[0;36m2\u001b[0m\u001b[0;34m:\u001b[0m\u001b[0;34m\u001b[0m\u001b[0;34m\u001b[0m\u001b[0m\n\u001b[0m\u001b[1;32m     35\u001b[0m                 \u001b[0mgrid\u001b[0m\u001b[0;34m[\u001b[0m\u001b[0magent\u001b[0m\u001b[0;34m.\u001b[0m\u001b[0mx\u001b[0m\u001b[0;34m,\u001b[0m \u001b[0magent\u001b[0m\u001b[0;34m.\u001b[0m\u001b[0my\u001b[0m\u001b[0;34m]\u001b[0m \u001b[0;34m=\u001b[0m \u001b[0;36m0\u001b[0m  \u001b[0;31m# Mark the old position as unoccupied\u001b[0m\u001b[0;34m\u001b[0m\u001b[0;34m\u001b[0m\u001b[0m\n\u001b[1;32m     36\u001b[0m                 \u001b[0magent\u001b[0m\u001b[0;34m.\u001b[0m\u001b[0mx\u001b[0m\u001b[0;34m,\u001b[0m \u001b[0magent\u001b[0m\u001b[0;34m.\u001b[0m\u001b[0my\u001b[0m \u001b[0;34m=\u001b[0m \u001b[0mpath\u001b[0m\u001b[0;34m[\u001b[0m\u001b[0;36m1\u001b[0m\u001b[0;34m]\u001b[0m  \u001b[0;31m# Update agent position\u001b[0m\u001b[0;34m\u001b[0m\u001b[0;34m\u001b[0m\u001b[0m\n",
            "\u001b[0;31mIndexError\u001b[0m: list index out of range"
          ]
        }
      ]
    },
    {
      "cell_type": "code",
      "source": [
        "import matplotlib.pyplot as plt\n",
        "from sklearn.preprocessing import MinMaxScaler\n",
        "\n",
        "file_path = '/content/drive/My Drive/astar_swarm.xlsx'\n",
        "df = pd.read_excel(file_path)\n",
        "\n",
        "# weights sum up to 0.\n",
        "weights = {\n",
        "    'Coverage': 1,\n",
        "    'Finished_Agents': 1,\n",
        "    'Experiment_Time': -1,\n",
        "    'Episode_Time': -1,\n",
        "    'Agent_Finish_Time': -1,\n",
        "}\n",
        "\n",
        "scaler = MinMaxScaler()\n",
        "df_normalized = pd.DataFrame(scaler.fit_transform(df[['Coverage', 'Finished_Agents', 'Experiment_Time', 'Episode_Time', 'Agent_Finish_Time']]),\n",
        "                              columns=['Coverage', 'Finished_Agents', 'Experiment_Time', 'Episode_Time', 'Agent_Finish_Time'])\n",
        "\n",
        "df['Composite_Score'] = (df_normalized['Coverage'] * weights['Coverage'] +\n",
        "                         df_normalized['Finished_Agents'] * weights['Finished_Agents'] +\n",
        "                         df_normalized['Experiment_Time'] * weights['Experiment_Time'] +\n",
        "                         df_normalized['Episode_Time'] * weights['Episode_Time'] +\n",
        "                         df_normalized['Agent_Finish_Time'] * weights['Agent_Finish_Time'])\n",
        "\n",
        "# print(df)\n",
        "\n",
        "avg_scores = df.groupby('#_Agents')['Composite_Score'].mean().reset_index(name='Average_Score')\n",
        "# print(avg_scores)\n",
        "\n",
        "plt.plot(avg_scores['#_Agents'], avg_scores['Average_Score'], marker='o', linestyle='-', color='b')\n",
        "plt.xlabel('# of Agents')\n",
        "plt.xticks(avg_scores['#_Agents'].astype(int))\n",
        "plt.ylabel('Average Score')\n",
        "plt.title(\"Average Score from 10x10 to 13x13 maze.\")\n",
        "plt.grid(True)\n",
        "plt.show()"
      ],
      "metadata": {
        "colab": {
          "base_uri": "https://localhost:8080/",
          "height": 472
        },
        "id": "Y0U94h2lbXIh",
        "outputId": "03999071-3457-482f-fd34-31cafb7a5c86"
      },
      "execution_count": null,
      "outputs": [
        {
          "output_type": "display_data",
          "data": {
            "text/plain": [
              "<Figure size 640x480 with 1 Axes>"
            ],
            "image/png": "[encoded data removed]"
          },
          "metadata": {}
        }
      ]
    },
    {
      "cell_type": "markdown",
      "source": [
        "**OLD VERSION** of the Agent Class:\n",
        "```\n",
        "class Agent:\n",
        "\n",
        "  def __init__(self, x, y, direction, real_stage, explored_stage):\n",
        "    self.x = x\n",
        "    self.y = y\n",
        "    self.direction = direction  # 'up', 'down', 'left', 'right'\n",
        "    self.real_stage = real_stage  # contains obstacles and paths\n",
        "    self.explored_stage = explored_stage  # explored stage (contains agents)\n",
        "\n",
        "  def move_left(self):\n",
        "    self.direction = \"left\"\n",
        "    if self.y > 0:\n",
        "      if self.real_stage[(self.x, self.y - 1)] or self.explored_stage[(self.x, self.y - 1)]:  # obs or other agent\n",
        "        print(\"obs\")\n",
        "        self.refresh_agent_view()\n",
        "        return\n",
        "      self.explored_stage[(self.x, self.y)] = 0\n",
        "      self.y -= 1\n",
        "      self.explored_stage[(self.x, self.y)] = 2\n",
        "      self.refresh_agent_view()\n",
        "\n",
        "  def move_right(self):\n",
        "    self.direction = 'right'\n",
        "    if self.y < len(self.explored_stage[0]) - 1:\n",
        "      if self.real_stage[(self.x, self.y + 1)] or self.explored_stage[(self.x, self.y + 1)]:  # obs or other agent\n",
        "        print(\"obs\")\n",
        "        self.refresh_agent_view()\n",
        "        return\n",
        "      self.explored_stage[(self.x, self.y)] = 0\n",
        "      self.y += 1\n",
        "      self.explored_stage[(self.x, self.y)] = 2\n",
        "      self.refresh_agent_view()\n",
        "\n",
        "  def move_up(self):\n",
        "    self.direction = 'up'\n",
        "    if self.x > 0:\n",
        "      if self.real_stage[(self.x - 1, self.y)] or self.explored_stage[(self.x - 1, self.y)]:  # obs or other agent\n",
        "        print(\"obs\")\n",
        "        self.refresh_agent_view()\n",
        "        return\n",
        "      self.explored_stage[(self.x, self.y)] = 0\n",
        "      self.x -= 1\n",
        "      self.explored_stage[(self.x, self.y)] = 2\n",
        "      self.refresh_agent_view()\n",
        "\n",
        "  def move_down(self):\n",
        "    self.direction = 'down'\n",
        "    if self.x < len(self.explored_stage) - 1:\n",
        "      if self.real_stage[(self.x + 1, self.y)] or self.explored_stage[(self.x + 1, self.y)]:  # obs or other agent\n",
        "        print(\"obs\")\n",
        "        self.refresh_agent_view()\n",
        "        return\n",
        "      self.explored_stage[(self.x, self.y)] = 0\n",
        "      self.x += 1\n",
        "      self.explored_stage[(self.x, self.y)] = 2\n",
        "      self.refresh_agent_view()\n",
        "\n",
        "  def refresh_agent_view(self):\n",
        "    # Generate agent view =======\n",
        "    # Ex. If agent looks up -> knows both up, left and right (/w sensors).\n",
        "    if self.direction == \"up\":\n",
        "      if self.x > 0:\n",
        "        if self.explored_stage[(self.x - 1, self.y)] < 0: # unexplored\n",
        "          self.explored_stage[(self.x - 1, self.y)] = self.real_stage[(self.x - 1, self.y)]\n",
        "      if self.y < len(self.real_stage[0]) - 1:\n",
        "        if self.explored_stage[(self.x, self.y + 1)] < 0:\n",
        "          self.explored_stage[(self.x, self.y + 1)] = self.real_stage[(self.x, self.y + 1)]\n",
        "      if self.y > 0:\n",
        "        if self.explored_stage[(self.x, self.y - 1)] < 0:\n",
        "          self.explored_stage[(self.x, self.y - 1)] = self.real_stage[(self.x, self.y - 1)]\n",
        "\n",
        "    elif self.direction == \"down\":\n",
        "      if self.x < len(self.real_stage) - 1:\n",
        "        if self.explored_stage[(self.x + 1, self.y)] < 0:\n",
        "          self.explored_stage[(self.x + 1, self.y)] = self.real_stage[(self.x - 1, self.y)]\n",
        "      if self.y < len(self.real_stage[0]) - 1:\n",
        "        if self.explored_stage[(self.x, self.y + 1)] < 0:\n",
        "          self.explored_stage[(self.x, self.y + 1)] = self.real_stage[(self.x, self.y + 1)]\n",
        "      if self.y > 0:\n",
        "        if self.explored_stage[(self.x, self.y - 1)] < 0:\n",
        "          self.explored_stage[(self.x, self.y - 1)] = self.real_stage[(self.x, self.y - 1)]\n",
        "\n",
        "    elif self.direction == \"left\":\n",
        "      if self.y > 0:\n",
        "        if self.explored_stage[(self.x, self.y - 1)] < 0:\n",
        "          self.explored_stage[(self.x, self.y - 1)] = self.real_stage[(self.x, self.y - 1)]\n",
        "      if self.x < len(self.real_stage) - 1:\n",
        "        if self.explored_stage[(self.x + 1, self.y)] < 0:\n",
        "          self.explored_stage[(self.x + 1, self.y)] = self.real_stage[(self.x + 1, self.y)]\n",
        "      if self.x > 0:\n",
        "        if self.explored_stage[(self.x - 1, self.y)] < 0:\n",
        "          self.explored_stage[(self.x - 1, self.y)] = self.real_stage[(self.x - 1, self.y)]\n",
        "\n",
        "    elif self.direction == \"right\":\n",
        "      if self.y < len(self.real_stage[0]) - 1:\n",
        "        if self.explored_stage[(self.x, self.y + 1)] < 0:\n",
        "          self.explored_stage[(self.x, self.y + 1)] = self.real_stage[(self.x, self.y + 1)]\n",
        "      if self.x < len(self.real_stage) - 1:\n",
        "        if self.explored_stage[(self.x + 1, self.y)] < 0:\n",
        "          self.explored_stage[(self.x + 1, self.y)] = self.real_stage[(self.x + 1, self.y)]\n",
        "      if self.x > 0:\n",
        "        if self.explored_stage[(self.x - 1, self.y)] < 0:\n",
        "          self.explored_stage[(self.x - 1, self.y)] = self.real_stage[(self.x - 1, self.y)]\n",
        "\n",
        "```\n"
      ],
      "metadata": {
        "id": "-xP3XT-Q8E-o"
      }
    },
    {
      "cell_type": "markdown",
      "source": [
        "Check agent view:"
      ],
      "metadata": {
        "id": "pWg1DCkj_Idu"
      }
    },
    {
      "cell_type": "code",
      "source": [
        "grid = np.array([[0, 0, 1, 0, 0],\n",
        "                 [1, 0, 0, 2, 1],\n",
        "                 [1, 0, 0, 1, 1],\n",
        "                 [0, 0, 1, 0, 0],\n",
        "                 [0, 0, 0, 0, 0]])\n",
        "\n",
        "agents = [Agent((2, 2), (2, 2), grid, 2),]\n",
        "res = move_astar(grid, agents)\n"
      ],
      "metadata": {
        "id": "0B44T1oV_GY-",
        "colab": {
          "base_uri": "https://localhost:8080/"
        },
        "outputId": "1e033138-bbd7-4cb2-bb8e-40a1c8da5b6b"
      },
      "execution_count": null,
      "outputs": [
        {
          "output_type": "stream",
          "name": "stdout",
          "text": [
            "[[ 0 -1  1 -1 -1]\n",
            " [-1  0  0  0 -1]\n",
            " [ 1  0  0  1 -1]\n",
            " [-1  0  1  0 -1]\n",
            " [ 0 -1 -1 -1  0]]\n"
          ]
        }
      ]
    },
    {
      "cell_type": "code",
      "source": [
        "import numpy as np\n",
        "\n",
        "grid = np.array([[0, 0, -1, -1, 1],\n",
        "                 [0, 2, 0, -1, -1],\n",
        "                 [-1, 0, -1, -1, -1],\n",
        "                 [-1, -1, -1, -1, -1],\n",
        "                 [-1, 0, -1, -1, -1]])\n",
        "\n",
        "coordinates = np.where(grid == 2)\n",
        "x, y = coordinates[0][0], coordinates[1][0]\n",
        "\n",
        "# print(grid[:x]) # up\n",
        "# print(grid[x + 1:]) # down\n",
        "\n",
        "# print(grid[:, y + 1:])  # right\n",
        "# print(grid[:, :y])  # left\n",
        "\n",
        "above_count = np.sum(grid[:x] == -1)\n",
        "below_count = np.sum(grid[x + 1:] == -1)\n",
        "right_count = np.sum(grid[:, y + 1:] == -1)\n",
        "left_count = np.sum(grid[:, :y] == -1)\n",
        "\n",
        "print(above_count, below_count, right_count, left_count)"
      ],
      "metadata": {
        "id": "hMs5COkPm0nV",
        "colab": {
          "base_uri": "https://localhost:8080/"
        },
        "outputId": "b5c5fc56-ac67-44bd-ce51-487254f8c870"
      },
      "execution_count": null,
      "outputs": [
        {
          "output_type": "stream",
          "name": "stdout",
          "text": [
            "2 13 13 3\n"
          ]
        }
      ]
    },
    {
      "cell_type": "code",
      "source": [
        "l = [0, 1, 1, 0]\n",
        "print(l.index(max(l)))"
      ],
      "metadata": {
        "id": "9LnM6ubuzvbR",
        "colab": {
          "base_uri": "https://localhost:8080/"
        },
        "outputId": "44967cb2-b339-4db3-8e01-92708f5370ab"
      },
      "execution_count": null,
      "outputs": [
        {
          "output_type": "stream",
          "name": "stdout",
          "text": [
            "1\n"
          ]
        }
      ]
    }
  ]
}