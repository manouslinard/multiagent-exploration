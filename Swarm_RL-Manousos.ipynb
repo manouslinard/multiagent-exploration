{
  "nbformat": 4,
  "nbformat_minor": 0,
  "metadata": {
    "colab": {
      "provenance": []
    },
    "kernelspec": {
      "name": "python3",
      "display_name": "Python 3"
    },
    "language_info": {
      "name": "python"
    }
  },
  "cells": [
    {
      "cell_type": "code",
      "source": [
        "import copy\n",
        "import random\n",
        "import numpy as np"
      ],
      "metadata": {
        "id": "stKqx3fl1wOG"
      },
      "execution_count": 1,
      "outputs": []
    },
    {
      "cell_type": "markdown",
      "source": [
        "The Agent Class:"
      ],
      "metadata": {
        "id": "w4PsZHBBTxVU"
      }
    },
    {
      "cell_type": "code",
      "source": [
        "class Agent:\n",
        "\n",
        "  def __init__(self, start: tuple, goal: tuple, real_stage):\n",
        "      self.x = start[0]\n",
        "      self.y = start[1]\n",
        "      self.goal = goal\n",
        "      self.real_stage = real_stage\n",
        "      self.explored_stage = np.full_like(real_stage, -1)\n",
        "      self.explored_stage[self.x, self.y] = 0\n",
        "      self.agent_view()\n",
        "\n",
        "  def agent_view(self):\n",
        "    # refreshes the explored map of the agent (sees up, down, left, right).\n",
        "    if self.x > 0:\n",
        "      # print(f\"X: {self.x, self.y, len(self.real_stage[0]) - 1}\")\n",
        "      self.explored_stage[(self.x - 1, self.y)] = self.real_stage[(self.x - 1, self.y)]\n",
        "    if self.x < len(self.real_stage) - 1:\n",
        "      self.explored_stage[(self.x + 1, self.y)] = self.real_stage[(self.x + 1, self.y)]\n",
        "    if self.y > 0:\n",
        "      self.explored_stage[(self.x, self.y - 1)] = self.real_stage[(self.x, self.y - 1)]\n",
        "    if self.y < len(self.real_stage[0]) - 1:\n",
        "      self.explored_stage[(self.x, self.y + 1)] = self.real_stage[(self.x, self.y + 1)]\n",
        "    self.explored_stage[self.explored_stage == 2] = 0\n",
        "\n",
        "  def check_goal(self):\n",
        "    if (self.x, self.y) == self.goal:\n",
        "      return True\n",
        "    return False"
      ],
      "metadata": {
        "id": "G9oytlA1IEXF"
      },
      "execution_count": 2,
      "outputs": []
    },
    {
      "cell_type": "markdown",
      "source": [
        "A* Algorithm:"
      ],
      "metadata": {
        "id": "VNu47KjXGIdk"
      }
    },
    {
      "cell_type": "code",
      "source": [
        "class Node:\n",
        "    def __init__(self, x, y, g_cost, h_cost):\n",
        "        self.x = x\n",
        "        self.y = y\n",
        "        self.g_cost = g_cost\n",
        "        self.h_cost = h_cost\n",
        "        self.parent = None\n",
        "\n",
        "    def f_cost(self):\n",
        "        return self.g_cost + self.h_cost\n",
        "\n",
        "def is_valid(x, y, grid):\n",
        "    # Checks if the x and y are within grid + if no obs in (x, y).\n",
        "    rows, cols = grid.shape\n",
        "    return 0 <= x < rows and 0 <= y < cols and grid[x, y] <= 0\n",
        "\n",
        "def a_star(grid, start, end):\n",
        "    directions = [(0, 1), (1, 0), (0, -1), (-1, 0)]  # Right, Down, Left, Up\n",
        "    rows, cols = grid.shape\n",
        "\n",
        "    open_set = []\n",
        "    closed_set = set()\n",
        "\n",
        "    start_node = Node(start[0], start[1], 0, 0)\n",
        "    open_set.append(start_node)\n",
        "\n",
        "    while open_set:\n",
        "        # Finds the lowest f_cost node -> adds it to the closed_set.\n",
        "        current_node = min(open_set, key=lambda node: node.f_cost())\n",
        "        open_set.remove(current_node)\n",
        "        closed_set.add((current_node.x, current_node.y))\n",
        "\n",
        "        # If current node is the target node -> returns the path.\n",
        "        if (current_node.x, current_node.y) == end:\n",
        "            path = []\n",
        "            while current_node:\n",
        "                path.insert(0, (current_node.x, current_node.y))\n",
        "                current_node = current_node.parent\n",
        "            return path\n",
        "\n",
        "\n",
        "        for dx, dy in directions:\n",
        "\n",
        "            # Gets the new pos:\n",
        "            new_x, new_y = current_node.x + dx, current_node.y + dy\n",
        "            if is_valid(new_x, new_y, grid) and (new_x, new_y) not in closed_set:\n",
        "                g_cost = current_node.g_cost + 1  # g_cost (distance) from current node is 1.\n",
        "                h_cost = abs(new_x - end[0]) + abs(new_y - end[1])\n",
        "                new_node = Node(new_x, new_y, g_cost, h_cost)\n",
        "                new_node.parent = current_node\n",
        "\n",
        "                if new_node not in open_set:\n",
        "                    open_set.append(new_node)\n",
        "\n",
        "    return None  # No path found"
      ],
      "metadata": {
        "id": "t-7KhDWNvx2s"
      },
      "execution_count": 3,
      "outputs": []
    },
    {
      "cell_type": "markdown",
      "source": [
        "Create a stage with obstacles (1) and free path (0)."
      ],
      "metadata": {
        "id": "xtGep3-c1ZLO"
      }
    },
    {
      "cell_type": "code",
      "execution_count": 4,
      "metadata": {
        "id": "kdAegAWzzx0R"
      },
      "outputs": [],
      "source": [
        "def generate_stage(rows: int, cols: int, obs_prob = 0.2):\n",
        "\n",
        "  # generate obstacles with obs_prob probability\n",
        "  num_obstacles = int(rows * cols * obs_prob)\n",
        "\n",
        "  stage = np.full((rows, cols), 0)\n",
        "\n",
        "  # Set 1s at random positions for the specified percentage\n",
        "  indices = np.random.choice(rows * cols, num_obstacles, replace=False)\n",
        "  stage.flat[indices] = 1\n",
        "\n",
        "  return stage"
      ]
    },
    {
      "cell_type": "markdown",
      "source": [
        " Creates the \"explored\" stage, which at the start everything is not explored (-1) and put the agents there (2)."
      ],
      "metadata": {
        "id": "TCYQpmAd2GoF"
      }
    },
    {
      "cell_type": "code",
      "source": [
        "def generate_agents(real_stage, num_agents: int = 1):\n",
        "\n",
        "  agents = []\n",
        "\n",
        "  if num_agents <= 0:\n",
        "    num_agents = 1\n",
        "\n",
        "  zero_coordinates = list(zip(*np.where(real_stage == 0)))\n",
        "\n",
        "  # Create the \"explored\" stage\n",
        "  for _ in range(num_agents):\n",
        "    if zero_coordinates:\n",
        "      start = random.choice(zero_coordinates)\n",
        "      zero_coordinates.remove(start)\n",
        "      goal = random.choice(zero_coordinates)\n",
        "      agents.append(Agent((start[0], start[1]), (goal[0], goal[1]), real_stage))\n",
        "    else:\n",
        "      break\n",
        "\n",
        "  return agents"
      ],
      "metadata": {
        "id": "tMw-q4462Ias"
      },
      "execution_count": 5,
      "outputs": []
    },
    {
      "cell_type": "markdown",
      "source": [
        "Choose the most unexplored path (max) to go to if the path finding algorithm does nothing."
      ],
      "metadata": {
        "id": "-PfpdqOZ39UV"
      }
    },
    {
      "cell_type": "code",
      "source": [
        "def choose_index(weights, ind_prob=0.1):\n",
        "    max_weight = max(weights)\n",
        "    indices = [i for i, w in enumerate(weights) if w != max_weight and w != -1]  # Indices without the maximum weight and -1\n",
        "    if indices and random.random() < ind_prob:\n",
        "        return random.choice(indices)\n",
        "    return weights.index(max_weight)"
      ],
      "metadata": {
        "id": "-qM-IK4Gl7Bt"
      },
      "execution_count": 6,
      "outputs": []
    },
    {
      "cell_type": "code",
      "source": [
        "def rand_path(agent, conc_stage, ind_prob=0.1):\n",
        "    row, col = agent.x, agent.y\n",
        "    arr = agent.real_stage\n",
        "    grid = conc_stage.copy()\n",
        "\n",
        "    above = arr[row - 1, col] if row > 0 else None\n",
        "    below = arr[row + 1, col] if row < arr.shape[0] - 1 else None\n",
        "    left = arr[row, col - 1] if col > 0 else None\n",
        "    right = arr[row, col + 1] if col < arr.shape[1] - 1 else None\n",
        "\n",
        "    # print((row - 1, col), )\n",
        "\n",
        "    directions = [above, below, left, right]\n",
        "\n",
        "    above_count, below_count, right_count, left_count = -1, -1, -1, -1\n",
        "\n",
        "    # print(\"===========\")\n",
        "    # print(directions)\n",
        "    if directions[0] == 0: # can go above\n",
        "      above_count = np.sum(grid[:row] == -1)\n",
        "    if directions[1] == 0: # can go below\n",
        "      below_count = np.sum(grid[row + 1:] == -1)\n",
        "    if directions[2] == 0: # can go left\n",
        "      left_count = np.sum(grid[:, :col] == -1)\n",
        "    if directions[3] == 0: # can go right\n",
        "      right_count = np.sum(grid[:, col + 1:] == -1)\n",
        "\n",
        "    weights = [above_count, below_count, left_count, right_count]\n",
        "    # print(weights)\n",
        "\n",
        "    if all(w == -1 for w in weights):\n",
        "      return (row, col), (row, col) # stays if it cannot go nowhere\n",
        "\n",
        "    # index = directions.index(random.choices(directions, weights)[0])\n",
        "\n",
        "    # index = weights.index(max(weights))\n",
        "\n",
        "    index = choose_index(weights, ind_prob)\n",
        "\n",
        "    if index == 0 and row > 0:\n",
        "        new_x, new_y = row - 1, col  # above\n",
        "    elif index == 1 and row < arr.shape[0] - 1:\n",
        "        new_x, new_y = row + 1, col  # below\n",
        "    elif index == 2 and col > 0:\n",
        "        new_x, new_y = row, col - 1  # left\n",
        "    elif index == 3 and col < arr.shape[1] - 1:\n",
        "        new_x, new_y = row, col + 1  # right\n",
        "    else:\n",
        "        # Handle the case where the chosen direction is None\n",
        "        new_x, new_y = row, col\n",
        "\n",
        "    # print(new_x, new_y)\n",
        "\n",
        "    return (row, col), (new_x, new_y)"
      ],
      "metadata": {
        "id": "aQ6DRkmc1pHw"
      },
      "execution_count": 7,
      "outputs": []
    },
    {
      "cell_type": "markdown",
      "source": [
        "Function to concat all agents explored stages (returns coverage percentage):"
      ],
      "metadata": {
        "id": "X5zEt43rqB4j"
      }
    },
    {
      "cell_type": "code",
      "source": [
        "def update_total_explored(total_explored, agent):\n",
        "\n",
        "  total_explored[total_explored == -1] = agent.explored_stage[total_explored == -1]\n",
        "\n",
        "  num_minus_1 = np.sum(total_explored == -1)\n",
        "  explored_percentage = 1 - (num_minus_1 / (total_explored.shape[0] * total_explored.shape[1]))\n",
        "\n",
        "  return explored_percentage"
      ],
      "metadata": {
        "id": "103pQA0RkWZ4"
      },
      "execution_count": 8,
      "outputs": []
    },
    {
      "cell_type": "markdown",
      "source": [
        "Function for testing astar:"
      ],
      "metadata": {
        "id": "ufvl2jRi_u9q"
      }
    },
    {
      "cell_type": "code",
      "source": [
        "def move_astar(start_grid, start_agents, random=False, ind_prob=0.1, max_episodes=100):\n",
        "\n",
        "  grid = copy.deepcopy(start_grid)\n",
        "\n",
        "  agents = copy.deepcopy(start_agents)\n",
        "\n",
        "  for agent in agents:\n",
        "      grid[agent.x, agent.y] = 2  # Mark initial agent positions\n",
        "\n",
        "  episode = 0\n",
        "\n",
        "  total_explored = np.full(grid.shape, -1)\n",
        "\n",
        "  total_agents = len(agents)\n",
        "  num_finish_agents = 0\n",
        "\n",
        "  total_expl_per = 0\n",
        "\n",
        "  while any((agent.x, agent.y) != agent.goal for agent in agents) and episode < max_episodes:\n",
        "      episode += 1\n",
        "      agent_count = 1\n",
        "      # print(num_finish_agents)\n",
        "      for agent in agents:\n",
        "          # agent.agent_view()  # update agent view\n",
        "          if (agent.x, agent.y) == agent.goal:\n",
        "              grid[agent.x, agent.y] = 0\n",
        "              total_expl_per = update_total_explored(total_explored, agent)\n",
        "              agents.remove(agent)\n",
        "              continue  # Agent has reached its goal\n",
        "          path = a_star(grid, (agent.x, agent.y), agent.goal)\n",
        "          total_expl_per = update_total_explored(total_explored, agent)\n",
        "\n",
        "          if random and path is None:\n",
        "            path = rand_path(agent, total_explored, ind_prob)\n",
        "          # print(f\"Agent{agent_count} Path: {path}\")\n",
        "          # print(f\"Agent{agent_count} Goal: {agent.goal}\")\n",
        "\n",
        "          agent_count += 1\n",
        "          if path:\n",
        "              grid[agent.x, agent.y] = 0  # Mark the old position as unoccupied\n",
        "              agent.x, agent.y = path[1]  # Update agent position\n",
        "              agent.agent_view()\n",
        "              grid[agent.x, agent.y] = 2  # Mark the new position as occupied by agent\n",
        "              if agent.check_goal():\n",
        "                num_finish_agents += 1\n",
        "              # print(grid)\n",
        "      # print(total_explored)\n",
        "\n",
        "  return total_expl_per, num_finish_agents / total_agents, total_explored"
      ],
      "metadata": {
        "id": "ozl6dZBO_uiq"
      },
      "execution_count": 9,
      "outputs": []
    },
    {
      "cell_type": "markdown",
      "source": [
        "Manual Example:"
      ],
      "metadata": {
        "id": "hIVCdmp7WKdR"
      }
    },
    {
      "cell_type": "code",
      "source": [
        "grid = np.array([[0, 0, 1, 0, 0],\n",
        "                 [1, 0, 0, 0, 1],\n",
        "                 [1, 0, 0, 0, 1],\n",
        "                 [0, 0, 1, 0, 0],\n",
        "                 [0, 0, 0, 0, 0]])\n",
        "\n",
        "print(\"LESS OBSTACLES STAGE\")\n",
        "agents = [Agent((0, 0), (4, 4), grid), Agent((0, 4), (4, 0), grid),]\n",
        "res = move_astar(grid, agents, random=False)\n",
        "print(f\"Total No-Random Coverage Percentage {res[0]} / Agents Finished: {res[1]}\")\n",
        "print(f\"Final Stage\\n{res[2]}\")\n",
        "# Random\n",
        "agents = [Agent((0, 0), (4, 4), grid), Agent((0, 4), (4, 0), grid),]\n",
        "res = move_astar(grid, agents, random=True)\n",
        "print(f\"Total Random Coverage Percentage {res[0]} / Agents Finished: {res[1]}\")\n",
        "print(f\"Final Stage\\n{res[2]}\")\n",
        "\n",
        "\n",
        "grid = np.array([[0, 0, 1, 1, 0],\n",
        "                 [0, 1, 1, 0, 1],\n",
        "                 [0, 0, 1, 1, 1],\n",
        "                 [0, 1, 0, 0, 0],\n",
        "                 [0, 0, 1, 0, 0]])\n",
        "\n",
        "print(\"MANY OBSTACLES STAGE\")\n",
        "agents = [Agent((0, 0), (4, 4), grid), Agent((0, 4), (4, 0), grid),]\n",
        "res = move_astar(grid, agents, random=False)\n",
        "print(f\"Total No-Random Coverage Percentage {res[0]} / Agents Finished: {res[1]}\")\n",
        "print(f\"Final Stage\\n{res[2]}\")\n",
        "# Random\n",
        "agents = [Agent((0, 0), (4, 4), grid), Agent((0, 4), (4, 0), grid),]\n",
        "res = move_astar(grid, agents, random=True)\n",
        "print(f\"Total Random Coverage Percentage {res[0]} / Agents Finished: {res[1]}\")\n",
        "print(f\"Final Stage\\n{res[2]}\")\n"
      ],
      "metadata": {
        "colab": {
          "base_uri": "https://localhost:8080/"
        },
        "id": "rIfx619qidvj",
        "outputId": "fceb450f-f1f6-4513-ae95-13e13ad2581a"
      },
      "execution_count": 10,
      "outputs": [
        {
          "output_type": "stream",
          "name": "stdout",
          "text": [
            "LESS OBSTACLES STAGE\n",
            "Total No-Random Coverage Percentage 1.0 / Agents Finished: 1.0\n",
            "Final Stage\n",
            "[[0 0 1 0 0]\n",
            " [1 0 0 0 1]\n",
            " [1 0 0 0 1]\n",
            " [0 0 1 0 0]\n",
            " [0 0 0 0 0]]\n",
            "Total Random Coverage Percentage 1.0 / Agents Finished: 1.0\n",
            "Final Stage\n",
            "[[0 0 1 0 0]\n",
            " [1 0 0 0 1]\n",
            " [1 0 0 0 1]\n",
            " [0 0 1 0 0]\n",
            " [0 0 0 0 0]]\n",
            "MANY OBSTACLES STAGE\n",
            "Total No-Random Coverage Percentage 0.24 / Agents Finished: 0.0\n",
            "Final Stage\n",
            "[[ 0  0 -1  1  0]\n",
            " [ 0 -1 -1 -1  1]\n",
            " [-1 -1 -1 -1 -1]\n",
            " [-1 -1 -1 -1 -1]\n",
            " [-1 -1 -1 -1 -1]]\n",
            "Total Random Coverage Percentage 0.52 / Agents Finished: 0.0\n",
            "Final Stage\n",
            "[[ 0  0 -1  1  0]\n",
            " [ 0  1 -1 -1  1]\n",
            " [ 0  0  1 -1 -1]\n",
            " [ 0  1 -1 -1 -1]\n",
            " [ 0 -1 -1 -1 -1]]\n"
          ]
        }
      ]
    },
    {
      "cell_type": "markdown",
      "source": [
        "Testing with dynamically generated stages:"
      ],
      "metadata": {
        "id": "QwSgYsXC7acs"
      }
    },
    {
      "cell_type": "code",
      "source": [
        "# Initialization parameters ==:\n",
        "grid_rows, grid_columns = 10, 10\n",
        "obs_prob = 0.5  # propability of objects.\n",
        "num_agents = 3 # number of agents.\n",
        "num_test = 20\n",
        "# =============================\n",
        "\n",
        "grid = generate_stage(grid_rows, grid_columns, obs_prob)\n",
        "\n",
        "agents = generate_agents(real_stage = grid, num_agents = num_agents)\n",
        "\n",
        "avg = []\n",
        "avg_finish = []\n",
        "for _ in range(num_test):\n",
        "  res = move_astar(start_grid=grid, start_agents=agents, random=False)\n",
        "  # print(res)\n",
        "  avg.append(res[0])\n",
        "  avg_finish.append(res[1])\n",
        "print(f\"Average No-Random Coverage Percentage: {sum(avg)/len(avg)} / Average Finished: {sum(avg_finish)/len(avg_finish)}\")\n",
        "\n",
        "# Random:\n",
        "avg = []\n",
        "avg_finish = []\n",
        "for _ in range(num_test):\n",
        "  res = move_astar(start_grid=grid, start_agents=agents, random=True)\n",
        "  # print(res)\n",
        "  avg.append(res[0])\n",
        "  avg_finish.append(res[1])\n",
        "print(f\"Average Random Coverage Percentage: {sum(avg)/len(avg)} / Average Finished: {sum(avg_finish)/len(avg_finish)}\")"
      ],
      "metadata": {
        "colab": {
          "base_uri": "https://localhost:8080/"
        },
        "id": "gxRwiXeY6ubE",
        "outputId": "33eb7a2b-dad6-443e-d078-a161cac8f627"
      },
      "execution_count": 11,
      "outputs": [
        {
          "output_type": "stream",
          "name": "stdout",
          "text": [
            "Average No-Random Coverage Percentage: 0.14999999999999997 / Average Finished: 0.0\n",
            "Average Random Coverage Percentage: 0.37849999999999995 / Average Finished: 0.0\n"
          ]
        }
      ]
    },
    {
      "cell_type": "markdown",
      "source": [
        "**OLD VERSION** of the Agent Class:\n",
        "```\n",
        "class Agent:\n",
        "\n",
        "  def __init__(self, x, y, direction, real_stage, explored_stage):\n",
        "    self.x = x\n",
        "    self.y = y\n",
        "    self.direction = direction  # 'up', 'down', 'left', 'right'\n",
        "    self.real_stage = real_stage  # contains obstacles and paths\n",
        "    self.explored_stage = explored_stage  # explored stage (contains agents)\n",
        "\n",
        "  def move_left(self):\n",
        "    self.direction = \"left\"\n",
        "    if self.y > 0:\n",
        "      if self.real_stage[(self.x, self.y - 1)] or self.explored_stage[(self.x, self.y - 1)]:  # obs or other agent\n",
        "        print(\"obs\")\n",
        "        self.refresh_agent_view()\n",
        "        return\n",
        "      self.explored_stage[(self.x, self.y)] = 0\n",
        "      self.y -= 1\n",
        "      self.explored_stage[(self.x, self.y)] = 2\n",
        "      self.refresh_agent_view()\n",
        "\n",
        "  def move_right(self):\n",
        "    self.direction = 'right'\n",
        "    if self.y < len(self.explored_stage[0]) - 1:\n",
        "      if self.real_stage[(self.x, self.y + 1)] or self.explored_stage[(self.x, self.y + 1)]:  # obs or other agent\n",
        "        print(\"obs\")\n",
        "        self.refresh_agent_view()\n",
        "        return\n",
        "      self.explored_stage[(self.x, self.y)] = 0\n",
        "      self.y += 1\n",
        "      self.explored_stage[(self.x, self.y)] = 2\n",
        "      self.refresh_agent_view()\n",
        "\n",
        "  def move_up(self):\n",
        "    self.direction = 'up'\n",
        "    if self.x > 0:\n",
        "      if self.real_stage[(self.x - 1, self.y)] or self.explored_stage[(self.x - 1, self.y)]:  # obs or other agent\n",
        "        print(\"obs\")\n",
        "        self.refresh_agent_view()\n",
        "        return\n",
        "      self.explored_stage[(self.x, self.y)] = 0\n",
        "      self.x -= 1\n",
        "      self.explored_stage[(self.x, self.y)] = 2\n",
        "      self.refresh_agent_view()\n",
        "\n",
        "  def move_down(self):\n",
        "    self.direction = 'down'\n",
        "    if self.x < len(self.explored_stage) - 1:\n",
        "      if self.real_stage[(self.x + 1, self.y)] or self.explored_stage[(self.x + 1, self.y)]:  # obs or other agent\n",
        "        print(\"obs\")\n",
        "        self.refresh_agent_view()\n",
        "        return\n",
        "      self.explored_stage[(self.x, self.y)] = 0\n",
        "      self.x += 1\n",
        "      self.explored_stage[(self.x, self.y)] = 2\n",
        "      self.refresh_agent_view()\n",
        "\n",
        "  def refresh_agent_view(self):\n",
        "    # Generate agent view =======\n",
        "    # Ex. If agent looks up -> knows both up, left and right (/w sensors).\n",
        "    if self.direction == \"up\":\n",
        "      if self.x > 0:\n",
        "        if self.explored_stage[(self.x - 1, self.y)] < 0: # unexplored\n",
        "          self.explored_stage[(self.x - 1, self.y)] = self.real_stage[(self.x - 1, self.y)]\n",
        "      if self.y < len(self.real_stage[0]) - 1:\n",
        "        if self.explored_stage[(self.x, self.y + 1)] < 0:\n",
        "          self.explored_stage[(self.x, self.y + 1)] = self.real_stage[(self.x, self.y + 1)]\n",
        "      if self.y > 0:\n",
        "        if self.explored_stage[(self.x, self.y - 1)] < 0:\n",
        "          self.explored_stage[(self.x, self.y - 1)] = self.real_stage[(self.x, self.y - 1)]\n",
        "\n",
        "    elif self.direction == \"down\":\n",
        "      if self.x < len(self.real_stage) - 1:\n",
        "        if self.explored_stage[(self.x + 1, self.y)] < 0:\n",
        "          self.explored_stage[(self.x + 1, self.y)] = self.real_stage[(self.x - 1, self.y)]\n",
        "      if self.y < len(self.real_stage[0]) - 1:\n",
        "        if self.explored_stage[(self.x, self.y + 1)] < 0:\n",
        "          self.explored_stage[(self.x, self.y + 1)] = self.real_stage[(self.x, self.y + 1)]\n",
        "      if self.y > 0:\n",
        "        if self.explored_stage[(self.x, self.y - 1)] < 0:\n",
        "          self.explored_stage[(self.x, self.y - 1)] = self.real_stage[(self.x, self.y - 1)]\n",
        "\n",
        "    elif self.direction == \"left\":\n",
        "      if self.y > 0:\n",
        "        if self.explored_stage[(self.x, self.y - 1)] < 0:\n",
        "          self.explored_stage[(self.x, self.y - 1)] = self.real_stage[(self.x, self.y - 1)]\n",
        "      if self.x < len(self.real_stage) - 1:\n",
        "        if self.explored_stage[(self.x + 1, self.y)] < 0:\n",
        "          self.explored_stage[(self.x + 1, self.y)] = self.real_stage[(self.x + 1, self.y)]\n",
        "      if self.x > 0:\n",
        "        if self.explored_stage[(self.x - 1, self.y)] < 0:\n",
        "          self.explored_stage[(self.x - 1, self.y)] = self.real_stage[(self.x - 1, self.y)]\n",
        "\n",
        "    elif self.direction == \"right\":\n",
        "      if self.y < len(self.real_stage[0]) - 1:\n",
        "        if self.explored_stage[(self.x, self.y + 1)] < 0:\n",
        "          self.explored_stage[(self.x, self.y + 1)] = self.real_stage[(self.x, self.y + 1)]\n",
        "      if self.x < len(self.real_stage) - 1:\n",
        "        if self.explored_stage[(self.x + 1, self.y)] < 0:\n",
        "          self.explored_stage[(self.x + 1, self.y)] = self.real_stage[(self.x + 1, self.y)]\n",
        "      if self.x > 0:\n",
        "        if self.explored_stage[(self.x - 1, self.y)] < 0:\n",
        "          self.explored_stage[(self.x - 1, self.y)] = self.real_stage[(self.x - 1, self.y)]\n",
        "\n",
        "```\n"
      ],
      "metadata": {
        "id": "-xP3XT-Q8E-o"
      }
    },
    {
      "cell_type": "code",
      "source": [
        "import numpy as np\n",
        "\n",
        "grid = np.array([[0, 0, -1, -1, 1],\n",
        "                 [0, 2, 0, -1, -1],\n",
        "                 [-1, 0, -1, -1, -1],\n",
        "                 [-1, -1, -1, -1, -1],\n",
        "                 [-1, 0, -1, -1, -1]])\n",
        "\n",
        "coordinates = np.where(grid == 2)\n",
        "x, y = coordinates[0][0], coordinates[1][0]\n",
        "\n",
        "# print(grid[:x]) # up\n",
        "# print(grid[x + 1:]) # down\n",
        "\n",
        "# print(grid[:, y + 1:])  # right\n",
        "# print(grid[:, :y])  # left\n",
        "\n",
        "above_count = np.sum(grid[:x] == -1)\n",
        "below_count = np.sum(grid[x + 1:] == -1)\n",
        "right_count = np.sum(grid[:, y + 1:] == -1)\n",
        "left_count = np.sum(grid[:, :y] == -1)\n",
        "\n",
        "print(above_count, below_count, right_count, left_count)"
      ],
      "metadata": {
        "colab": {
          "base_uri": "https://localhost:8080/"
        },
        "id": "hMs5COkPm0nV",
        "outputId": "ba5607e4-1e07-4c3f-f93a-10c762bee3eb"
      },
      "execution_count": 12,
      "outputs": [
        {
          "output_type": "stream",
          "name": "stdout",
          "text": [
            "2 13 13 3\n"
          ]
        }
      ]
    },
    {
      "cell_type": "code",
      "source": [
        "l = [0, 1, 1, 0]\n",
        "print(l.index(max(l)))"
      ],
      "metadata": {
        "colab": {
          "base_uri": "https://localhost:8080/"
        },
        "id": "9LnM6ubuzvbR",
        "outputId": "bdbd2a30-1f7a-44af-de92-c13a8a658ebd"
      },
      "execution_count": 13,
      "outputs": [
        {
          "output_type": "stream",
          "name": "stdout",
          "text": [
            "1\n"
          ]
        }
      ]
    }
  ]
}