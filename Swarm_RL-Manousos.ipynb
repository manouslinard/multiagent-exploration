{
  "cells": [
    {
      "cell_type": "markdown",
      "metadata": {},
      "source": [
        "This is the code used for my BSc thesis in Harokopio University of Athens.\n",
        "\n",
        "The sections denoted by **(*)** should **always** run."
      ]
    },
    {
      "cell_type": "markdown",
      "metadata": {},
      "source": [
        "# Preliminaries (*)\n",
        "In this section, we:\n",
        "* import the libraries used\n",
        "* mount google drive\n",
        "* create the agent class (in which we declare the movement etc)\n",
        "* implement A*\n"
      ]
    },
    {
      "cell_type": "code",
      "execution_count": 1,
      "metadata": {
        "id": "stKqx3fl1wOG"
      },
      "outputs": [],
      "source": [
        "import os\n",
        "import sys\n",
        "import time\n",
        "import copy\n",
        "import random\n",
        "import functools\n",
        "import numpy as np\n",
        "import matplotlib.pyplot as plt\n",
        "import pandas as pd\n",
        "import multiprocessing\n",
        "from IPython import get_ipython\n",
        "from scipy.spatial.distance import cdist\n",
        "from PIL import Image\n",
        "\n",
        "from sklearn.preprocessing import MinMaxScaler\n",
        "import warnings\n",
        "warnings.filterwarnings('ignore')\n",
        "\n",
        "def check_run_colab() -> bool:\n",
        "    return bool('google.colab' in sys.modules)"
      ]
    },
    {
      "cell_type": "markdown",
      "metadata": {
        "id": "NprlxjL9Jiku"
      },
      "source": [
        "Mount Google Drive:"
      ]
    },
    {
      "cell_type": "code",
      "execution_count": 2,
      "metadata": {
        "colab": {
          "base_uri": "https://localhost:8080/"
        },
        "id": "S5FrS29cJfiV",
        "outputId": "cbe2095c-06f9-433d-d975-6be765627e2b"
      },
      "outputs": [
        {
          "name": "stdout",
          "output_type": "stream",
          "text": [
            "Not running in Google Colab.\n"
          ]
        }
      ],
      "source": [
        "# Check if the current environment is Google Colab\n",
        "if check_run_colab():\n",
        "    print(\"Running in Google Colab!\")\n",
        "    from google.colab import drive\n",
        "    drive.mount('/content/drive')\n",
        "else:\n",
        "    print(\"Not running in Google Colab.\")"
      ]
    },
    {
      "cell_type": "markdown",
      "metadata": {
        "id": "w4PsZHBBTxVU"
      },
      "source": [
        "The Agent Class:"
      ]
    },
    {
      "cell_type": "code",
      "execution_count": 3,
      "metadata": {
        "id": "G9oytlA1IEXF"
      },
      "outputs": [],
      "source": [
        "class Agent:\n",
        "\n",
        "  def __init__(self, start: tuple, goal: tuple, real_stage, view_range=2):\n",
        "      self.x = start[0]\n",
        "      self.y = start[1]\n",
        "      self.goal = goal\n",
        "      self.view_range = view_range\n",
        "      self.explored_stage = np.full_like(real_stage, -1)\n",
        "      self.explored_stage[self.x, self.y] = 0\n",
        "      self.agent_view(real_stage)\n",
        "      self.start_time = time.time()\n",
        "\n",
        "  def agent_view(self, real_stage):\n",
        "    \"\"\" Refreshes the explored map of the agent (sees up, down, left, right). \"\"\"\n",
        "    up_obs, upleft_obs, upright_obs, down_obs, downleft_obs, downright_obs, left_obs, right_obs = False, False, False, False, False, False, False, False\n",
        "    for i in range(self.view_range):\n",
        "      if self.x > i:  # checks up\n",
        "        tmp_x = self.x - i - 1\n",
        "        if not up_obs:  # stops if it sees obstacle\n",
        "          self.explored_stage[(tmp_x, self.y)] = real_stage[(tmp_x, self.y)]\n",
        "          if real_stage[(tmp_x, self.y)]:\n",
        "            up_obs = True\n",
        "        if self.y > i and not upleft_obs:  # up-left\n",
        "          if not upleft_obs:  # stops if it sees obstacle\n",
        "            self.explored_stage[(tmp_x, self.y - i - 1)] = real_stage[(tmp_x, self.y - i - 1)]\n",
        "            if real_stage[(tmp_x, self.y - i - 1)]:\n",
        "              upleft_obs = True\n",
        "        if self.y < len(real_stage[0]) - i - 1: # up-right\n",
        "          if not upright_obs:  # stops if it sees obstacle\n",
        "            self.explored_stage[(tmp_x, self.y + i + 1)] = real_stage[(tmp_x, self.y + i + 1)]\n",
        "            if real_stage[(tmp_x, self.y + i + 1)]:\n",
        "              upright_obs = True\n",
        "\n",
        "      if self.x < len(real_stage) - i - 1:  # checks down:\n",
        "        tmp_x = self.x + i + 1\n",
        "        if not down_obs:\n",
        "          self.explored_stage[(tmp_x, self.y)] = real_stage[(tmp_x, self.y)]\n",
        "          if real_stage[(tmp_x, self.y)]:\n",
        "            down_obs = True\n",
        "        if self.y > i:  # down-left\n",
        "          if not downleft_obs:\n",
        "            self.explored_stage[(tmp_x, self.y - i - 1)] = real_stage[(tmp_x, self.y - i - 1)]\n",
        "            if real_stage[(tmp_x, self.y - i - 1)]:\n",
        "              downleft_obs = True\n",
        "        if self.y < len(real_stage[0]) - i - 1: # down-right\n",
        "          if not downright_obs:\n",
        "            self.explored_stage[(tmp_x, self.y + i + 1)] = real_stage[(tmp_x, self.y + i + 1)]\n",
        "            if real_stage[(tmp_x, self.y + i + 1)]:\n",
        "              downright_obs = True\n",
        "\n",
        "      if self.y > i and not left_obs:  # left (& stops if it sees obstacle)\n",
        "        self.explored_stage[(self.x, self.y - i - 1)] = real_stage[(self.x, self.y - i - 1)]\n",
        "        if real_stage[(self.x, self.y - i - 1)]:\n",
        "          left_obs = True\n",
        "\n",
        "      if self.y < len(real_stage[0]) - i - 1 and not right_obs: # right (& stops if it sees obstacle)\n",
        "        self.explored_stage[(self.x, self.y + i + 1)] = real_stage[(self.x, self.y + i + 1)]\n",
        "        if real_stage[(self.x, self.y + i + 1)]:\n",
        "          right_obs = True\n",
        "\n",
        "    self.explored_stage[self.explored_stage == 2] = 0\n",
        "\n",
        "  def check_goal(self):\n",
        "    if (self.x, self.y) == self.goal:\n",
        "      return True\n",
        "    return False"
      ]
    },
    {
      "cell_type": "markdown",
      "metadata": {
        "id": "VNu47KjXGIdk"
      },
      "source": [
        "A* Algorithm (source [here](https://pypi.org/project/python-astar/)):"
      ]
    },
    {
      "cell_type": "code",
      "execution_count": 4,
      "metadata": {
        "id": "t-7KhDWNvx2s"
      },
      "outputs": [],
      "source": [
        "\"\"\"\n",
        "Python-astar - A* path search algorithm\n",
        "\"\"\"\n",
        "\n",
        "class Tile:\n",
        "    \"\"\"A tile is a walkable space on a map.\"\"\"\n",
        "    distance = 0\n",
        "    came_from = None\n",
        "\n",
        "    def __init__(self, x, y, weight=1):\n",
        "        self.x = x\n",
        "        self.y = y\n",
        "        self.weight = 1\n",
        "        assert (self.x is not None and self.y is not None)\n",
        "\n",
        "    def update_origin(self, came_from):\n",
        "        \"\"\"Update which tile this one came from.\"\"\"\n",
        "        self.came_from = came_from\n",
        "        self.distance = came_from.distance + self.weight\n",
        "\n",
        "    def __eq__(self, other):\n",
        "        \"\"\"A tile is the same if they have the same position\"\"\"\n",
        "        return (other and self.x == other.x and self.y == other.y)\n",
        "\n",
        "    def __lt__(self, other):\n",
        "        \"\"\"We want the shortest distance tile to find the happy path.\n",
        "        This is used by min() so we can just compare them :)\n",
        "        \"\"\"\n",
        "        return (self.distance + self.weight <= other.distance)\n",
        "\n",
        "    def __hash__(self):\n",
        "        \"\"\"We need this so we can use a set()\"\"\"\n",
        "        return hash(str(self))\n",
        "\n",
        "    @property\n",
        "    def pos(self):\n",
        "        \"\"\"a (x, y) tuple with position on the grid\"\"\"\n",
        "        return (self.x, self.y)\n",
        "\n",
        "    def __str__(self):\n",
        "        return str(self.pos)\n",
        "\n",
        "    def __repr__(self):\n",
        "        return str(self)\n",
        "\n",
        "\n",
        "class AStar:\n",
        "    \"\"\"The A Star (A*) path search algorithm\"\"\"\n",
        "\n",
        "    def __init__(self, world, coverage_mode: bool = False):\n",
        "        world2 = copy.deepcopy(world)\n",
        "        world2[world2 == -1] = 0\n",
        "        if coverage_mode: # coverage_mode == different goals.\n",
        "          world2[world2 == 2] = 1 # astar takes agents into account.\n",
        "        else:\n",
        "          world2[world2 == 2] = 0\n",
        "        self.world = world2\n",
        "\n",
        "    def search(self, start_pos, target_pos):\n",
        "        \"\"\"A_Star (A*) path search algorithm\"\"\"\n",
        "        start = Tile(*start_pos)\n",
        "        self.open_tiles = set([start])\n",
        "        self.closed_tiles = set()\n",
        "\n",
        "        # while we still have tiles to search\n",
        "        while len(self.open_tiles) > 0:\n",
        "            # get the tile with the shortest distance\n",
        "            tile = min(self.open_tiles)\n",
        "            # check if we're there. Happy path!\n",
        "            if tile.pos == target_pos:\n",
        "                return self.rebuild_path(tile)\n",
        "            # search new ways in the neighbor's tiles.\n",
        "            self.search_for_tiles(tile)\n",
        "\n",
        "            self.close_tile(tile)\n",
        "        # if we got here, path is blocked :(\n",
        "        return None\n",
        "\n",
        "    def search_for_tiles(self, current):\n",
        "        \"\"\"Search for new tiles in the maze\"\"\"\n",
        "        for other in self.get_neighbors(current):\n",
        "            if self.is_new_tile(other):\n",
        "                other.update_origin(current)\n",
        "                self.open_tiles.add(other)\n",
        "\n",
        "            # if this other has gone a farthest distance before\n",
        "            #   then we just found a new and shortest way to it.\n",
        "            elif other > current:\n",
        "                other.update_origin(current)\n",
        "                if other in self.closed_tiles:\n",
        "                    self.reopen_tile(other)\n",
        "\n",
        "    def get_neighbors(self, tile):\n",
        "        \"\"\"Return a list of available tiles around a given tile\"\"\"\n",
        "        min_x = max(0, tile.x - 1)\n",
        "        max_x = min(len(self.world)-1, tile.x + 1)\n",
        "        min_y = max(0, tile.y - 1)\n",
        "        max_y = min(len(self.world[tile.x])-1, tile.y + 1)\n",
        "\n",
        "        available_tiles = [\n",
        "            (min_x, tile.y),\n",
        "            (max_x, tile.y),\n",
        "            (tile.x, min_y),\n",
        "            (tile.x, max_y),\n",
        "        ]\n",
        "        neighbors = []\n",
        "        for x, y in available_tiles:\n",
        "            if (x, y) == tile.pos:\n",
        "                continue\n",
        "\n",
        "            if self.world[x][y] == 0:\n",
        "                neighbors.append(Tile(x, y))\n",
        "\n",
        "        return neighbors\n",
        "\n",
        "    def rebuild_path(self, current):\n",
        "        \"\"\"Rebuild the path from each tile\"\"\"\n",
        "        self.last_tile = current\n",
        "        path = []\n",
        "        while current is not None:\n",
        "            path.append(current)\n",
        "            current = current.came_from\n",
        "        path.reverse()\n",
        "        # return a list with tuples\n",
        "        return [tile.pos for tile in path]\n",
        "\n",
        "    def is_new_tile(self, tile):\n",
        "        \"\"\"Check if this is a proviously unknown tile\"\"\"\n",
        "        return (\n",
        "            tile not in self.open_tiles\n",
        "            and tile not in self.closed_tiles\n",
        "        )\n",
        "\n",
        "    def reopen_tile(self, tile):\n",
        "        \"\"\"Reinstate a tile in the open list\"\"\"\n",
        "        self.closed_tiles.remove(tile)\n",
        "        self.open_tiles.add(tile)\n",
        "\n",
        "    def close_tile(self, tile):\n",
        "        \"\"\"Remove tile from open_tiles, as we are done testing it\"\"\"\n",
        "        self.open_tiles.remove(tile)\n",
        "        self.closed_tiles.add(tile)"
      ]
    },
    {
      "cell_type": "markdown",
      "metadata": {},
      "source": [
        "# Stage/Maze (*)\n",
        "This section contains code for:\n",
        "* plot the stage/maze\n",
        "* creation of gifs (that show the exploration process)\n",
        "* simple stage creation\n",
        "* maze creation\n",
        "* agent generation (on stage)\n",
        "* update of agent explored stage\n",
        "* calculation of agent explored stage percentage\n",
        "* checking the percentage difference of explored & real stage"
      ]
    },
    {
      "cell_type": "markdown",
      "metadata": {},
      "source": [
        "Function to plot the grid/maze:"
      ]
    },
    {
      "cell_type": "code",
      "execution_count": 5,
      "metadata": {},
      "outputs": [],
      "source": [
        "def draw_maze(maze, path=None, goal=None):\n",
        "    fig, ax = plt.subplots(figsize=(10,10))\n",
        "\n",
        "    fig.patch.set_edgecolor('white')\n",
        "    fig.patch.set_linewidth(0)\n",
        "\n",
        "    ax.imshow(maze, cmap=plt.cm.binary, interpolation='nearest')\n",
        "\n",
        "    if path is not None:\n",
        "        x_coords = [x[1] for x in path]\n",
        "        y_coords = [y[0] for y in path]\n",
        "        ax.plot(x_coords, y_coords, color='red', linewidth=2)\n",
        "        ax.scatter(path[-1][1], path[-1][0], color='red', s=100, marker='s')\n",
        "\n",
        "    if goal is not None:\n",
        "        ax.scatter(goal[1], goal[0], color='red', s=100, marker='s')\n",
        "\n",
        "    ax.set_xticks([])\n",
        "    ax.set_yticks([])\n",
        "\n",
        "    # Saves images to folder ========================\n",
        "    # if not os.path.exists(\"tmp_img\"):\n",
        "    #     os.makedirs(\"tmp_img\")\n",
        "    # filepath = os.path.join(\"tmp_img\", f\"{time.time()}.png\")\n",
        "    # plt.savefig(filepath)\n",
        "    # =============================================\n",
        "\n",
        "    plt.show()"
      ]
    },
    {
      "cell_type": "markdown",
      "metadata": {},
      "source": [
        "Function to convert images to gifs **(to use it, make sure that the \"Saves images to folder\" section in the `draw_maze` function is uncommented).**"
      ]
    },
    {
      "cell_type": "code",
      "execution_count": 6,
      "metadata": {},
      "outputs": [],
      "source": [
        "def images_to_gif(gif_filename=f\"maze_{time.time()}.gif\", duration=300, image_folder=\"tmp_img\", gif_folder=\"utils\"):\n",
        "    image_files = [f for f in os.listdir(image_folder) if f.endswith('.png') and os.path.isfile(os.path.join(image_folder, f))]\n",
        "    \n",
        "    image_files.sort()\n",
        "    \n",
        "    images = []\n",
        "    \n",
        "    for image_file in image_files:\n",
        "        image_path = os.path.join(image_folder, image_file)\n",
        "        image = Image.open(image_path)\n",
        "        images.append(image)\n",
        "        \n",
        "    gif_filepath = os.path.join(gif_folder, gif_filename)\n",
        "    images[0].save(gif_filepath, save_all=True, append_images=images[1:], loop=0, duration=duration)\n",
        "    \n",
        "    for image_file in image_files:\n",
        "        os.remove(os.path.join(image_folder, image_file))\n",
        "\n"
      ]
    },
    {
      "cell_type": "markdown",
      "metadata": {
        "id": "xtGep3-c1ZLO"
      },
      "source": [
        "Create a stage with obstacles (1) and free path (0)."
      ]
    },
    {
      "cell_type": "code",
      "execution_count": 7,
      "metadata": {
        "id": "kdAegAWzzx0R"
      },
      "outputs": [],
      "source": [
        "def generate_stage(rows: int, cols: int, obs_prob = 0.2):\n",
        "\n",
        "  # generate obstacles with obs_prob probability\n",
        "  num_obstacles = int(rows * cols * obs_prob)\n",
        "\n",
        "  stage = np.full((rows, cols), 0)\n",
        "\n",
        "  # Set 1s at random positions for the specified percentage\n",
        "  indices = np.random.choice(rows * cols, num_obstacles, replace=False)\n",
        "  stage.flat[indices] = 1\n",
        "\n",
        "  return stage"
      ]
    },
    {
      "cell_type": "markdown",
      "metadata": {},
      "source": [
        "Function for maze creation. [Source](https://medium.com/@msgold/using-python-to-create-and-solve-mazes-672285723c96)."
      ]
    },
    {
      "cell_type": "code",
      "execution_count": 8,
      "metadata": {},
      "outputs": [],
      "source": [
        "def create_maze(rows, cols, obs_prob=0.8):\n",
        "    rows = int(rows / 2)\n",
        "    cols = int(cols / 2)\n",
        "\n",
        "    maze = np.ones((rows*2+1, cols*2+1))\n",
        "\n",
        "    x, y = (0, 0)\n",
        "\n",
        "    stack = [(x, y)]\n",
        "    while len(stack) > 0:\n",
        "        x, y = stack[-1]\n",
        "\n",
        "        directions = [(0, 1), (1, 0), (0, -1), (-1, 0)]\n",
        "        random.shuffle(directions)\n",
        "\n",
        "        for dx, dy in directions:\n",
        "            nx, ny = x + dx, y + dy\n",
        "            if nx >= 0 and ny >= 0 and nx < rows and ny < cols and maze[2*nx+1, 2*ny+1] == 1:\n",
        "                maze[2*nx+1, 2*ny+1] = 0\n",
        "                maze[2*x+1+dx, 2*y+1+dy] = 0\n",
        "                stack.append((nx, ny))\n",
        "                break\n",
        "        else:\n",
        "            stack.pop()\n",
        "\n",
        "    zero_indices = np.argwhere(maze == 0)\n",
        "    zero_coords = [tuple(index) for index in zero_indices]\n",
        "\n",
        "    directions = [(0, 1), (1, 0), (0, -1), (-1, 0)] # adds randomly crosses of free space.\n",
        "    for z in zero_coords:\n",
        "       if random.random() >= obs_prob:\n",
        "          for dx, dy in directions:\n",
        "            nx, ny = z[0] + dx, z[1] + dy\n",
        "            maze[nx, ny] = 0\n",
        "\n",
        "    maze[0, :] = 1\n",
        "    maze[-1, :] = 1\n",
        "    maze[:, 0] = 1\n",
        "    maze[:, -1] = 1\n",
        "\n",
        "    # removes crosses (so agents wont be stuck).\n",
        "    for i in range(maze.shape[0]):\n",
        "        for j in range(maze.shape[1]):\n",
        "            walls = []\n",
        "            for d in directions:\n",
        "                neighbor_i = i + d[0]\n",
        "                neighbor_j = j + d[1]\n",
        "                # Check if neighbor is in bounds\n",
        "                if 0 <= neighbor_i < maze.shape[0] and 0 <= neighbor_j < maze.shape[1] and maze[(neighbor_i, neighbor_j)]:\n",
        "                    walls.append((neighbor_i, neighbor_j))\n",
        "            if len(walls) >= len(directions):\n",
        "                for coord in walls:\n",
        "                    maze[coord] = 0\n",
        "\n",
        "    # re-adds the boundaries (after cross removed).\n",
        "    maze[0, :] = 1\n",
        "    maze[-1, :] = 1\n",
        "    maze[:, 0] = 1\n",
        "    maze[:, -1] = 1\n",
        "    # draw_maze(maze)\n",
        "\n",
        "    return maze"
      ]
    },
    {
      "cell_type": "markdown",
      "metadata": {
        "id": "TCYQpmAd2GoF"
      },
      "source": [
        " Creates the \"explored\" stage, which at the start everything is not explored (-1) and put the agents there (2)."
      ]
    },
    {
      "cell_type": "code",
      "execution_count": 9,
      "metadata": {
        "id": "tMw-q4462Ias"
      },
      "outputs": [],
      "source": [
        "def generate_agents(real_stage, num_agents: int = 1, view_range: int = 2, coverage_mode: bool = False):\n",
        "\n",
        "  agents = []\n",
        "\n",
        "  if num_agents <= 0:\n",
        "    num_agents = 1\n",
        "\n",
        "  zero_coordinates = list(zip(*np.where(real_stage == 0)))\n",
        "  goal = random.choice(zero_coordinates)\n",
        "  zero_coordinates.remove(goal)\n",
        "  # Create the \"explored\" stage\n",
        "  for _ in range(num_agents):\n",
        "    if zero_coordinates:\n",
        "      start = random.choice(zero_coordinates)\n",
        "      zero_coordinates.remove(start)\n",
        "      agents.append(Agent((start[0], start[1]), (goal[0], goal[1]), real_stage, view_range))\n",
        "      if coverage_mode: # puts different goals\n",
        "        goal = random.choice(zero_coordinates)\n",
        "        zero_coordinates.remove(goal)\n",
        "    else:\n",
        "      break\n",
        "\n",
        "  return agents"
      ]
    },
    {
      "cell_type": "markdown",
      "metadata": {
        "id": "X5zEt43rqB4j"
      },
      "source": [
        "Function to concat all agents explored stages (returns the total explored stage):"
      ]
    },
    {
      "cell_type": "code",
      "execution_count": 10,
      "metadata": {
        "id": "103pQA0RkWZ4"
      },
      "outputs": [],
      "source": [
        "def update_total_explored(agents, coverage_mode=False):\n",
        "  if len(agents) == 0:\n",
        "    return\n",
        "\n",
        "  total_explored = np.full(agents[0].explored_stage.shape, -1)\n",
        "\n",
        "  # fills the border with 1s\n",
        "  total_explored[0, :] = 1\n",
        "  total_explored[-1, :] = 1\n",
        "  total_explored[:, 0] = 1\n",
        "  total_explored[:, -1] = 1\n",
        "\n",
        "  for a in agents:\n",
        "    total_explored[total_explored == -1] = a.explored_stage[total_explored == -1]\n",
        "    total_explored[total_explored == 2] = 0\n",
        "\n",
        "  for a in agents:\n",
        "    if coverage_mode: # agents never leave the stage when coverage mode.\n",
        "      total_explored[a.x, a.y] = 2\n",
        "    elif not a.check_goal():  # if agent has reached goal -> collidable (as if it is removed from the stage).\n",
        "      total_explored[a.x, a.y] = 2\n",
        "\n",
        "  # Total explored contains the concats of all agents stages:\n",
        "  for a in agents:\n",
        "    a.explored_stage = copy.deepcopy(total_explored)\n",
        "\n",
        "  return total_explored"
      ]
    },
    {
      "cell_type": "markdown",
      "metadata": {
        "id": "j1satA9_rkSp"
      },
      "source": [
        "Calculates the explored percentage of the concat stage:"
      ]
    },
    {
      "cell_type": "code",
      "execution_count": 11,
      "metadata": {
        "id": "Er3drWa1rXZJ"
      },
      "outputs": [],
      "source": [
        "def calculate_expl_percentage(total_explored, last_calc=False):\n",
        "  if last_calc:\n",
        "    total_explored = np.where(total_explored == -1, 1, total_explored)  # converts all unexplored to 1s.\n",
        "\n",
        "  # num_minus_1 = np.sum(total_explored == -1)\n",
        "  # explored_percentage = 1 - (num_minus_1 / (total_explored.shape[0] * total_explored.shape[1]))\n",
        "\n",
        "  subarray = total_explored[1:-1, 1:-1] # gets all rows and columns except from first and last.\n",
        "  # subarray = total_explored # uncomment to count borders -> they are not counted bc they are always 1.\n",
        "  num_minus_1 = np.sum(subarray == -1)\n",
        "  explored_percentage = 1 - (num_minus_1 / (subarray.shape[0] * subarray.shape[1]))\n",
        "  return explored_percentage"
      ]
    },
    {
      "cell_type": "markdown",
      "metadata": {},
      "source": [
        "Function for calculating the final difference of the real grid and the total explored grid"
      ]
    },
    {
      "cell_type": "code",
      "execution_count": 12,
      "metadata": {},
      "outputs": [],
      "source": [
        "def check_real_expl(real_grid, total_explored, debug=False):\n",
        "  calculate_expl_percentage(total_explored, True) # converts total_explored unexplored obstacles to 1.\n",
        "  real = copy.deepcopy(real_grid)\n",
        "  real = np.where(real == 2, 0, real)\n",
        "  tot = copy.deepcopy(total_explored)\n",
        "  tot = np.where(tot == 2, 0, tot)\n",
        "  tot = np.where(tot == -1, 1, tot)\n",
        "\n",
        "  false_positions = np.where(np.not_equal(real, tot))[0]\n",
        "  total_false = np.sum(np.not_equal(real, tot)) / (real_grid.shape[0] * real_grid.shape[1])\n",
        "  \n",
        "  # print statements:\n",
        "  if debug:\n",
        "    if total_false == 0:\n",
        "      print(\"Real == Explored? TRUE\")\n",
        "    else:\n",
        "      print(\"Real == Explored? FALSE\")\n",
        "      print(\"Positions of False values:\", false_positions)\n",
        "      draw_maze(real)\n",
        "      draw_maze(tot)\n",
        "  return false_positions, total_false"
      ]
    },
    {
      "cell_type": "markdown",
      "metadata": {},
      "source": [
        "# Agents Move Towards one Goal (*)\n",
        "This section **does not explore the entire stage**. It was made for agents to move to a specific goal.\n",
        "This should run because it is used later in the code (**not in the thesis though**)."
      ]
    },
    {
      "cell_type": "markdown",
      "metadata": {
        "id": "ufvl2jRi_u9q"
      },
      "source": [
        "Function for testing astar:"
      ]
    },
    {
      "cell_type": "code",
      "execution_count": 13,
      "metadata": {
        "id": "ozl6dZBO_uiq"
      },
      "outputs": [],
      "source": [
        "def move_astar(start_grid, start_agents, debug=True):\n",
        "\n",
        "  grid = copy.deepcopy(start_grid)\n",
        "\n",
        "  agents = copy.deepcopy(start_agents)\n",
        "\n",
        "  for agent in agents:\n",
        "      grid[agent.x, agent.y] = 2  # Mark initial agent positions\n",
        "  total_explored = update_total_explored(agents)\n",
        "  total_agents = len(agents)\n",
        "  # print(total_agents)\n",
        "  avg_eps_time = []\n",
        "  avg_rounds = []\n",
        "  num_finish = 0\n",
        "\n",
        "  rounds = 0\n",
        "  while any((agent.x, agent.y) != agent.goal for agent in agents):\n",
        "      rounds+=1\n",
        "      eps_start_time = time.time()\n",
        "      path_none = 0\n",
        "      for agent in agents:\n",
        "          if agent.check_goal():\n",
        "              num_finish += 1\n",
        "              total_explored = update_total_explored(agents)\n",
        "              agents.remove(agent)\n",
        "              avg_rounds.append(rounds)\n",
        "              continue  # Agent has reached its goal\n",
        "\n",
        "          path = AStar(agent.explored_stage).search((agent.x, agent.y), agent.goal)\n",
        "          if debug:\n",
        "            draw_maze(agent.explored_stage, path=path)\n",
        "\n",
        "          if path:\n",
        "              if agent.explored_stage[path[1]] != 2:\n",
        "                grid[agent.x, agent.y] = 0  # Mark the old position as unoccupied\n",
        "                agent.x, agent.y = path[1]  # Update agent position\n",
        "                grid[agent.x, agent.y] = 2  # Mark the new position as occupied by agent\n",
        "                # if agent.check_goal():\n",
        "          else:\n",
        "            path_none += 1\n",
        "          agent.agent_view(start_grid)\n",
        "          total_explored = update_total_explored(agents)\n",
        "      avg_eps_time.append(time.time() - eps_start_time)\n",
        "      if path_none >= len(agents): # stops if no agents have moved.\n",
        "          print(path_none, len(agents))\n",
        "          print(\"STOP PATH NONE\")\n",
        "          break\n",
        "\n",
        "  for agent in agents:  # gets the time of some finished agents (that have not been counted),\n",
        "    if agent.check_goal():\n",
        "      num_finish += 1\n",
        "      avg_rounds.append(rounds)\n",
        "\n",
        "  return calculate_expl_percentage(total_explored, False), rounds, np.mean(avg_rounds), np.mean(avg_eps_time), num_finish / total_agents, total_explored"
      ]
    },
    {
      "cell_type": "markdown",
      "metadata": {},
      "source": [
        "# Agents Explore Stage (*)\n",
        "This section is researched in my thesis. It contains the algorithms used for maze exploration (HEDAC, nearest frontier, etc)."
      ]
    },
    {
      "cell_type": "markdown",
      "metadata": {},
      "source": [
        "### **HEDAC [[source](https://arxiv.org/pdf/2310.02121.pdf)]**: Uses Artificial Potential Fields for maze exploration.\n",
        "<u>Citation:</u> Crnković, B., Ivić, S., & Zovko, M. (2023). Fast algorithm for centralized multi-agent maze exploration. arXiv preprint arXiv:2310.02121."
      ]
    },
    {
      "cell_type": "markdown",
      "metadata": {},
      "source": [
        "For calculation of HEDAC, we iteratively calculate the following:\n",
        "\n",
        "$$\n",
        "u_{i,j}^{r+1} = \\frac{\\sum_{l \\in L} a_{i,j}(l)u_{l}^{r} + s(x_{i,j}, t_k)}{\\sum_{l \\in L} a_{i,j}(l) + \\alpha}, \\text{ where } r \\text{ = iterations until convergence.}\n",
        "$$\n",
        "\n",
        "And:\n",
        "\n",
        "$$\n",
        "L = \\{(i+1, j), (i-1, j), (i, j+1), (i, j-1)\\}, \\text{ denotes the neighboring nodes of (i, j).} \n",
        "$$\n",
        "\n",
        "So:\n",
        "\n",
        "$$\n",
        "a_{i,j}(l) = \\begin{cases}\n",
        "0, & \\text{if neighbor is obstacle} \\\\\n",
        "1, & \\text{if neighbor is not obstacle}\n",
        "\\end{cases}\n",
        "$$\n",
        "\n",
        "In the paper, `a_ij(l)` can also get the value of 2, but we will just use (0, 1).\n",
        "\n",
        "Also:\n",
        "\n",
        "$$\n",
        "s(x_{i,j}, t_k) = \\max(0, 1 - c(x_{i,j}, t_k)) \\cdot S(t_k)\n",
        "$$\n",
        "\n",
        "where:\n",
        "\n",
        "$$\n",
        "c(x_{i,j}, t_k) \\text{ = coverage function }\n",
        "$$\n",
        "\n",
        "*<u>According to the paper</u>: For each agent that visits the maze node `xi,j` at each time step, 1 is added, and 0 in all other cases.* This has the same result in `s` if 1 is added when cell `xi,j` is explored else 0 (since we get max).\n",
        "\n",
        "also, for numerical examples (according to the paper):\n",
        "\n",
        "$$\n",
        "S(t_k) = |I(t_k)| \\text{, where } |I(t_k)| \\text{ = number of explored indexes.}\n",
        "$$\n",
        "\n",
        "---\n",
        "\n",
        "**Algorithm 1 from paper** (implemented below):\n",
        "```bash\n",
        "initialization ;\n",
        "for t = 0, t = maxt, t = t + 1 do\n",
        "\texchange of information about discovered nodes between agents;\n",
        "\tupadate of a linear system;\n",
        "\titeratively solve a linear system (9),(10) ;\n",
        "\tfor i = 1, i = N, i = i + 1 do\n",
        "\t\tnext pos for agent i = non ocuppied neighbouring nodes where is the largest value of \n",
        "\t\t the scalar field u or current position if all neigbouring nodes are ocuppied;\n",
        "\t\tagents i new position is marked as visited node;\n",
        "\tend\n",
        "```\n",
        "\n",
        "In addition, for my thesis, I activated the anti-collision (AC) condition outlined in the paper, setting it to `ON`. This means that if an agent  has information that one of the other agents is currently standing on one of its neighboring nodes, the agent **does not consider this node for its next position**.\n"
      ]
    },
    {
      "cell_type": "markdown",
      "metadata": {},
      "source": [
        "Solving the linear system of equations, to calculate scalar field **u**:"
      ]
    },
    {
      "cell_type": "code",
      "execution_count": 14,
      "metadata": {},
      "outputs": [],
      "source": [
        "def calculate_sum_aij(i, j, explored_stage, u_r=None):\n",
        "    neighbors_offsets = [(0, -1), (0, 1), (-1, 0), (1, 0)]\n",
        "    sum_neighbors = 0\n",
        "\n",
        "    for offset in neighbors_offsets:\n",
        "        neighbor_i = i + offset[0]\n",
        "        neighbor_j = j + offset[1]\n",
        "        # Check if neighbor is in bounds\n",
        "        if 0 <= neighbor_i < explored_stage.shape[0] and 0 <= neighbor_j < explored_stage.shape[1]:\n",
        "            a_ij = 1 if explored_stage[neighbor_i, neighbor_j] <= 0 else 0 # 1 if no obstacle, else 0\n",
        "            sum_neighbors += a_ij * u_r[(neighbor_i, neighbor_j)] if u_r is not None else a_ij\n",
        "    return sum_neighbors\n",
        "\n",
        "def calculate_s(explored_stage):\n",
        "    \"\"\"Calculates the entire s matrix, which in each cell contains corresponding s(xij).\"\"\"\n",
        "    c = copy.deepcopy(explored_stage)\n",
        "    c[c >= 0] = 1  # explored -> 1\n",
        "    c[c == -1] = 0  # not explored -> 0\n",
        "\n",
        "    S_t = np.sum(c) # sums the explored (1) indexes.\n",
        "\n",
        "    s = np.zeros((explored_stage.shape[0], explored_stage.shape[1]))\n",
        "    for i in range(s.shape[0]):\n",
        "        for j in range(s.shape[1]):\n",
        "            s[(i, j)] = max(0, 1 - c[(i, j)]) * S_t\n",
        "    return s\n",
        "\n",
        "def calculate_uij(i, j, explored_stage, alpha, u_r, s_ij):\n",
        "    \"\"\"Calculates next iteration (r+1) u_ij\"\"\"\n",
        "    t1 = calculate_sum_aij(i, j, explored_stage, u_r) + s_ij\n",
        "    return t1 / (calculate_sum_aij(i, j, explored_stage) + alpha)\n",
        "\n",
        "def update_attracting_field(u, alpha, s, explored_stage):\n",
        "    \"\"\"Function to update the attracting field iteratively\"\"\"\n",
        "    new_u = np.zeros_like(u)\n",
        "    for i in range(u.shape[0]):\n",
        "        for j in range(u.shape[1]):\n",
        "            new_u[(i, j)] = calculate_uij(i, j, explored_stage, alpha, u, s[(i, j)])\n",
        "    return new_u\n",
        "\n",
        "def calc_attractive_field(explored_stage, alpha=0.1, max_iter=100):\n",
        "    \"\"\"Calculates the entire attractive field matrix for a specified explored stage.\"\"\"\n",
        "    u = np.zeros((explored_stage.shape[0], explored_stage.shape[1]))  # Initial attracting field\n",
        "    # Iteratively update the attracting field\n",
        "    s = calculate_s(explored_stage)\n",
        "    for _ in range(max_iter):\n",
        "        new_u = update_attracting_field(u, alpha, s, explored_stage)\n",
        "        u = new_u\n",
        "    return u"
      ]
    },
    {
      "cell_type": "markdown",
      "metadata": {},
      "source": [
        "**Algorithm 1** (from paper):"
      ]
    },
    {
      "cell_type": "code",
      "execution_count": 15,
      "metadata": {},
      "outputs": [],
      "source": [
        "def get_next_position(u, agent):\n",
        "\t# Updated next pos for agent as the non ocuppied neighbouring nodes where is the largest value of the scalar field u or current position if all neigbouring nodes are ocuppied;\n",
        "    i, j = agent.x, agent.y\n",
        "    L = [(1, 0), (-1, 0), (0, 1), (0, -1)]  # Neighboring nodes\n",
        "    max_v = -np.inf\n",
        "    target_pos = (i, j)\n",
        "    for l in L:\n",
        "        x, y = i + l[0], j + l[1]\n",
        "        if 0 <= x < u.shape[0] and 0 <= y < u.shape[1]:\n",
        "            if agent.explored_stage[x, y] <= 0 and u[x, y] > max_v:\n",
        "                target_pos = (x, y)\n",
        "                max_v = u[x, y]\n",
        "    return target_pos\t\n",
        "\n",
        "def move_hedac_coverage(agents, start_grid, coverage_finish = 1.0, alpha=10, max_iter=100, debug=False):\n",
        "    visited_nodes = set()\n",
        "\n",
        "    agents = copy.deepcopy(agents)\n",
        "\n",
        "    grid = copy.deepcopy(start_grid)\n",
        "\n",
        "    total_explored = update_total_explored(agents, True)\n",
        "\n",
        "    avg_eps_time = []\n",
        "    rounds = 0\n",
        "    count_same = 0\n",
        "\n",
        "    while calculate_expl_percentage(total_explored) < coverage_finish:\n",
        "        old_grid = copy.deepcopy(grid)\n",
        "        rounds += 1\n",
        "        eps_start_time = time.time()\n",
        "        u = calc_attractive_field(total_explored, alpha, max_iter)  # A function to update and solve the linear system\n",
        "        for i in agents:\n",
        "            next_position = get_next_position(u, i)  # A function to get next position for agent i\n",
        "            if debug:\n",
        "                draw_maze(i.explored_stage, goal=next_position)\n",
        "            grid[i.x, i.y] = 0  # Mark the old position as unoccupied\n",
        "            i.x, i.y = next_position  # Update agent position\n",
        "            grid[i.x, i.y] = 2  # Mark the new position as occupied by agent\n",
        "            visited_nodes.add(next_position)\n",
        "            i.agent_view(start_grid)\n",
        "            total_explored = update_total_explored(agents, True)    # A function to exchange information about discovered nodes between agents\n",
        "        avg_eps_time.append(time.time() - eps_start_time)\n",
        "        if np.all(old_grid == grid):    # checks if agents are stuck (does not happen, but just in case)\n",
        "            count_same += 1\n",
        "            if count_same >= int(max_iter / 10):\n",
        "                break\n",
        "\n",
        "    re = check_real_expl(start_grid, total_explored)  # gets the difference of explored & real grid\n",
        "\n",
        "    return 1 - re[1], rounds, total_explored, np.mean(avg_eps_time)\n"
      ]
    },
    {
      "cell_type": "markdown",
      "metadata": {},
      "source": [
        "### **Nearest Frontier**: Selects the closest unexplored frontier."
      ]
    },
    {
      "cell_type": "code",
      "execution_count": 16,
      "metadata": {},
      "outputs": [],
      "source": [
        "def nearest_frontier(x, y, unexpl_coords, explored_stage) -> tuple:\n",
        "    \"\"\"Returns the new goal according to nearest frontier.\"\"\"\n",
        "    min_path = np.inf\n",
        "    min_coord = (x, y)\n",
        "    for u_c in unexpl_coords:\n",
        "      path = AStar(explored_stage, coverage_mode=True).search((x, y), tuple(u_c))\n",
        "      if path is not None and len(path) < min_path:\n",
        "        min_path = len(path)\n",
        "        min_coord = tuple(u_c)\n",
        "    return min_coord"
      ]
    },
    {
      "cell_type": "markdown",
      "metadata": {},
      "source": [
        "### **Cost Utility**: Appends nf by adding extra cost approximation functions"
      ]
    },
    {
      "cell_type": "markdown",
      "metadata": {},
      "source": [
        "#### **Cost Utility - MNM**\n",
        "<u>Citation:</u> Marjovi, A., Nunes, J., Marques, L., & de, T. (2009). Multi-robot exploration and fire searching. Infoscience (Ecole Polytechnique Fédérale de Lausanne). https://doi.org/10.1109/iros.2009.5354598"
      ]
    },
    {
      "cell_type": "markdown",
      "metadata": {},
      "source": [
        "$$\n",
        "cost = dist(A^*_{i=0,n} [(X_R, Y_R), (X_{f_i}, Y_{f_i})])\n",
        "$$\n",
        "\n",
        "where:\n",
        "$$\n",
        "(X_{f_i}, Y_{f_i}): \\text {position of the frontier i, } \\text (X_R, Y_R): \\text { position of the robot, n : number of robots}\n",
        "$$\n",
        "\n",
        "$$\n",
        "{utility} = \\sum_{i=1 | i \\neq R}^{m}{dist}[(X_{f_k}, Y_{f_k}), (X_{r_i}, Y_{r_i})]\n",
        "$$\n",
        "where:\n",
        "$$\n",
        "(X_{r_i}, Y_{r_i}): \\text {position of the robot i, m : number of the robots}\n",
        "$$\n",
        "\n",
        "The utility depends on the number of the robots and their proximity to the frontier; it means that if there are several frontiers at similar distances, the robot will go to the one that has **higher** utility."
      ]
    },
    {
      "cell_type": "code",
      "execution_count": 26,
      "metadata": {},
      "outputs": [],
      "source": [
        "def cost_utility_mnm(x, y, unexpl_coords, explored_stage, agents) -> tuple:\n",
        "    \"\"\"Returns the new goal according to mnm cost utility.\"\"\"\n",
        "    min_path = np.inf\n",
        "    min_path_dict = {}\n",
        "    target_coord = (x, y)\n",
        "    for u_c in unexpl_coords:\n",
        "      path = AStar(explored_stage, coverage_mode=True).search((x, y), tuple(u_c))\n",
        "      if path is not None and len(path) <= min_path:\n",
        "        min_path = len(path)\n",
        "        target_coord = tuple(u_c)\n",
        "        min_path_dict[tuple(u_c)] = min_path\n",
        "\n",
        "    # creates a new dict with keys the coords which have the shortest path.\n",
        "    min_min_path_dict = {k: min_path for k, v in min_path_dict.items() if v == min_path}\n",
        "\n",
        "    max_util = -1\n",
        "    for k in min_min_path_dict:\n",
        "        utility = 0\n",
        "        for a in agents:\n",
        "          if a.x == x and a.y == y: # \n",
        "             continue\n",
        "          utility += abs(k[0] - a.x) + abs(k[1] - a.y)  # manhattan\n",
        "        if utility > max_util:\n",
        "          max_util = utility\n",
        "          target_coord = k\n",
        "    # print(\"Cost utility\")\n",
        "\n",
        "    return target_coord"
      ]
    },
    {
      "cell_type": "markdown",
      "metadata": {},
      "source": [
        "Function to update goals of agents (if they are explored)."
      ]
    },
    {
      "cell_type": "code",
      "execution_count": 21,
      "metadata": {},
      "outputs": [],
      "source": [
        "def update_goals(agents, total_explored, start=False, algo='nf'):\n",
        "  \"\"\" Function to update the goals of the agents (if they are explored). \"\"\"\n",
        "  unexpl_coords = np.argwhere(total_explored == -1)\n",
        "  if len(unexpl_coords) <= 0:\n",
        "    return\n",
        "\n",
        "  for a in agents:\n",
        "    # r = a.goal[0] == 0 or a.goal[0] == total_explored.shape[0] - 1 or a.goal[1] == 0 or a.goal[1] == total_explored.shape[1] - 1  # is True if goal is at the border.\n",
        "    # if not start and total_explored[a.goal] == -1 and not r:\n",
        "    if not start and total_explored[a.goal] == -1:\n",
        "      continue\n",
        "    # New impl ============================\n",
        "    if algo == 'nf':  # nearest frontier\n",
        "      a.goal = nearest_frontier(a.x, a.y, unexpl_coords, a.explored_stage)\n",
        "    elif algo == 'cu_mnm':  # cost utility - mnm\n",
        "      a.goal = cost_utility_mnm(a.x, a.y, unexpl_coords, a.explored_stage, agents)\n",
        "\n",
        "    # Old impl for nf =========================\n",
        "    # rand_indx = False\n",
        "    # distances = cdist([(a.x, a.y)], unexpl_coords, metric='cityblock')\n",
        "    # indx = np.argmin(distances) # the index of unexplored coords with smallest distance (nearest frontier).\n",
        "    # path = AStar(a.explored_stage, coverage_mode=True).search((a.x, a.y), tuple(unexpl_coords[indx]))\n",
        "    # while path is None:\n",
        "    #   distances = np.delete(distances, indx)\n",
        "    #   if len(distances) == 0: # or indx >= len(unexpl_coords):\n",
        "    #     a.goal = tuple(random.choice(unexpl_coords))\n",
        "    #     rand_indx = True\n",
        "    #     break\n",
        "    #   indx = np.argmin(distances)\n",
        "    #   path = AStar(a.explored_stage, coverage_mode=True).search((a.x, a.y), tuple(unexpl_coords[indx]))\n",
        "    # if not rand_indx:\n",
        "    #   a.goal = tuple(unexpl_coords[indx])\n"
      ]
    },
    {
      "cell_type": "markdown",
      "metadata": {
        "id": "FUvGfdu5pUmv"
      },
      "source": [
        "Function for testing nearest frontier (with focus on coverage)."
      ]
    },
    {
      "cell_type": "code",
      "execution_count": 22,
      "metadata": {
        "id": "XctIHaffhytZ"
      },
      "outputs": [],
      "source": [
        "def move_nf_coverage(start_grid, start_agents, coverage_finish = 1.0, debug=True, algo='nf'):\n",
        "\n",
        "  grid = copy.deepcopy(start_grid)\n",
        "\n",
        "  agents = copy.deepcopy(start_agents)\n",
        "\n",
        "  for agent in agents:\n",
        "      grid[agent.x, agent.y] = 2  # Mark initial agent positions\n",
        "  total_explored = update_total_explored(agents, True)\n",
        "\n",
        "  update_goals(agents, total_explored, True, algo=algo)  # create new goal.\n",
        "\n",
        "  avg_eps_time = []\n",
        "  rounds = 0\n",
        "\n",
        "  # tmp_stages = []\n",
        "\n",
        "  while calculate_expl_percentage(total_explored) < coverage_finish:\n",
        "      rounds += 1\n",
        "      eps_start_time = time.time()\n",
        "      path_none = 0\n",
        "      for agent in agents:\n",
        "          path = AStar(agent.explored_stage, coverage_mode=True).search((agent.x, agent.y), agent.goal)\n",
        "          if debug:\n",
        "            draw_maze(agent.explored_stage, path=path)\n",
        "\n",
        "          if path and len(path) > 1:\n",
        "              grid[agent.x, agent.y] = 0  # Mark the old position as unoccupied\n",
        "              agent.x, agent.y = path[1]  # Update agent position\n",
        "              grid[agent.x, agent.y] = 2  # Mark the new position as occupied by agent\n",
        "          else:\n",
        "            path_none += 1\n",
        "          agent.agent_view(start_grid)\n",
        "          total_explored = update_total_explored(agents, True)\n",
        "\n",
        "      # tmp_stages.append(copy.deepcopy(total_explored))\n",
        "      # update goals (if agents have explored the goals of another agent):\n",
        "      update_goals(agents, total_explored, algo=algo)\n",
        "      avg_eps_time.append(time.time() - eps_start_time)\n",
        "      if path_none >= len(agents): # stops if no agents have moved.\n",
        "          # print(path_none, len(agents))\n",
        "          print(\"STOP PATH NONE\")\n",
        "          break\n",
        "\n",
        "  re = check_real_expl(start_grid, total_explored)  # gets the difference of explored & real grid\n",
        "\n",
        "  return 1 - re[1], rounds, total_explored, np.mean(avg_eps_time)"
      ]
    },
    {
      "cell_type": "markdown",
      "metadata": {},
      "source": [
        "# Experiment Functions (*):\n",
        "These functions are part of the main experiments used in my thesis. It contains:\n",
        "* function for saving in xlsx\n",
        "* function for testing coverage (or not) on mazes (that returns and saves specific metrics of the efficiency of the algo)\n"
      ]
    },
    {
      "cell_type": "markdown",
      "metadata": {
        "id": "mpVeuTVhNBxc"
      },
      "source": [
        "Function to save to xlsx file:"
      ]
    },
    {
      "cell_type": "code",
      "execution_count": 20,
      "metadata": {
        "id": "jUpdQbPLlKQP"
      },
      "outputs": [],
      "source": [
        "def save_xlsx(file_path: str, new_row: dict):\n",
        "  \"\"\"\n",
        "  Saves new_row to specified xlsx file_path.\n",
        "  Example of new_row dict:\n",
        "    new_row = {\n",
        "      \"#_Agents\": num_agent,\n",
        "      \"Coverage\": avg_cover,\n",
        "      \"Finished_Agents\": avg_finish,\n",
        "      \"Experiment_Time\": avg_expt_time,\n",
        "      \"Episode_Time\": avg_eps_time,\n",
        "      \"Agent_Finish_Time\": avg_agent_time,\n",
        "      \"Dimensions\": (maze_dim, maze_dim)\n",
        "  }\n",
        "  \"\"\"\n",
        "\n",
        "  try:\n",
        "      df = pd.read_excel(file_path)\n",
        "  except FileNotFoundError:\n",
        "      df = pd.DataFrame(columns=[k for k in new_row.keys()])\n",
        "  df = df._append(new_row, ignore_index=True)\n",
        "  df.to_excel(file_path, float_format='%.5f', index=False)"
      ]
    },
    {
      "cell_type": "markdown",
      "metadata": {
        "id": "4ubh6zWyMm85"
      },
      "source": [
        "Function to test astar with many experiments (print averages)."
      ]
    },
    {
      "cell_type": "code",
      "execution_count": 25,
      "metadata": {
        "id": "N5Z09YFfGcb7"
      },
      "outputs": [],
      "source": [
        "def test_astar(num_agents, num_test, start_grid = None, gen_stage_func = None, file_path = None, agent_view_range = 2, debug=False, coverage_mode=True, coverage_finish=1.0, algo='nf', alpha=10, max_hedac_iter=100):\n",
        "  \"\"\"\n",
        "  Function to test astar with many experiments (returns averages).\n",
        "  If you want to give the initial grid, initialize the variable start_grid with your grid\n",
        "  (and put the gen_stage_func parameter = None).\n",
        "  If you want to create a different stage for each experiment, put start_grid = None\n",
        "  and initialize the next parameter (gen_stage_func) like so:\n",
        "  functools.partial(func_for_grid_gen, rows, cols, obs_prob)\n",
        "  where func_for_grid_gen is a function for grid generation, rows and cols are the number\n",
        "  of rows and columns of the grid and obs_prob the probablity of obstacles.\n",
        "  \"\"\"\n",
        "  avg_cover = []\n",
        "  avg_rounds = []\n",
        "  avg_exp_time = []\n",
        "  avg_round_time= []\n",
        "  avg_agent_step_time = []\n",
        "\n",
        "  params = gen_stage_func.keywords\n",
        "\n",
        "  count_false = 0\n",
        "\n",
        "  for i in range(num_test):\n",
        "    if count_false > 4:\n",
        "      break\n",
        "\n",
        "    print(f\"Test: {i}\")\n",
        "    start_time = time.time()\n",
        "    if start_grid is None:\n",
        "      grid = gen_stage_func()\n",
        "    else:\n",
        "      grid = copy.deepcopy(start_grid)\n",
        "    agents = generate_agents(real_stage = grid, num_agents = num_agents, view_range = agent_view_range, coverage_mode = coverage_mode)\n",
        "    if coverage_mode:\n",
        "      if algo == 'nf' or algo == 'cu_mnm':\n",
        "        res = move_nf_coverage(start_grid=grid, start_agents=agents, coverage_finish = coverage_finish, debug=debug, algo=algo)\n",
        "      elif algo == 'hedac':\n",
        "        res = move_hedac_coverage(start_grid=grid, agents=agents, alpha=alpha, coverage_finish=coverage_finish, max_iter=max_hedac_iter, debug=debug)\n",
        "      # if res[0] != 1.0:\n",
        "      #   count_false += 1\n",
        "      if file_path is not None:\n",
        "        save_xlsx(file_path, {\"#_Agents\":num_agents, \"Coverage\": res[0], \"Total_Rounds\": res[1], \"Avg_Round_Time\": res[3], \"Avg_Agent_Step_Time\": res[3]/num_agents, \"Experiment_Time\": time.time()-start_time, \"Obs_Prob\": params[\"obs_prob\"], \"Test\": i})\n",
        "    else:\n",
        "      res = move_astar(start_grid=grid, start_agents=agents, debug=debug)\n",
        "      if file_path is not None:\n",
        "        save_xlsx(file_path, {\"#_Agents\":num_agents, \"Coverage\": res[0], \"Total_Rounds\": res[1], \"Avg_Rounds\": res[2], \"Avg_Round_Time\": res[3], \"Finished_Agents\": res[4], \"Avg_Agent_Step_Time\": res[3]/num_agents, \"Experiment_Time\": time.time()-start_time, \"Obs_Prob\": params[\"obs_prob\"], \"Test\": i})\n",
        "    avg_cover.append(res[0])\n",
        "    avg_rounds.append(res[1])\n",
        "    avg_exp_time.append(time.time() - start_time)\n",
        "    avg_round_time.append(res[3])\n",
        "    avg_agent_step_time.append(res[3]/num_agents)\n",
        "    # if res[0] != 1:\n",
        "    #   draw_maze(res[2])\n",
        "\n",
        "  avg_cover, avg_rounds, avg_exp_time, avg_round_time, avg_agent_step_time = np.mean(avg_cover), np.mean(avg_rounds), np.mean(avg_exp_time), np.mean(avg_round_time), np.mean(avg_agent_step_time)\n",
        "  if coverage_mode:\n",
        "    print(f\"Average Coverage Percentage: {avg_cover} / Average Total Rounds: {avg_rounds} / Average Round Time: {avg_round_time} / Average Agent Step Time: {avg_agent_step_time} / Average Experiment Time: {avg_exp_time}\")\n",
        "  else:\n",
        "    print(f\"Average Coverage Percentage: {avg_cover} / Average Total Rounds: {avg_rounds} / Average Round Time: {avg_round_time} / Average Agent Step Time: {avg_agent_step_time} / Average Experiment Time: {avg_exp_time}\")\n",
        "  return avg_cover, avg_rounds, avg_round_time, avg_agent_step_time, avg_exp_time"
      ]
    },
    {
      "cell_type": "markdown",
      "metadata": {},
      "source": [
        "# Simple Experimentation\n",
        "This section contains code for experimenting with not many experiments and less \"complex\" mazes. **It is used for debugging**."
      ]
    },
    {
      "cell_type": "markdown",
      "metadata": {},
      "source": [
        "## Manual Examples\n",
        "These examples were used in the beginning - it generates stage by hand."
      ]
    },
    {
      "cell_type": "code",
      "execution_count": null,
      "metadata": {},
      "outputs": [],
      "source": [
        "grid = np.array([[0, 0, 1, 0, 0],\n",
        "                 [1, 0, 0, 0, 1],\n",
        "                 [1, 0, 0, 0, 1],\n",
        "                 [0, 0, 1, 0, 0],\n",
        "                 [0, 0, 0, 0, 0]])\n",
        "\n",
        "print(\"LESS OBSTACLES STAGE\")\n",
        "agents = [Agent((1, 1), (4, 4), grid, 2), Agent((1, 3), (4, 0), grid),]\n",
        "res = move_astar(grid, agents)\n",
        "print(f\"Average Coverage Percentage {res[0]} / Rounds: {res[1]} / Average Round Time: {res[3]}\")\n",
        "print(f\"Final Explored Stage\\n{res[5]}\")"
      ]
    },
    {
      "cell_type": "code",
      "execution_count": null,
      "metadata": {},
      "outputs": [],
      "source": [
        "grid = np.array([[0, 0, 1, 1, 0],\n",
        "                 [0, 0, 1, 0, 1],\n",
        "                 [0, 0, 1, 0, 1],\n",
        "                 [0, 1, 0, 0, 0],\n",
        "                 [0, 0, 0, 0, 0]])\n",
        "\n",
        "print(\"MANY OBSTACLES STAGE\")\n",
        "agents = [Agent((1, 1), (4, 4), grid), Agent((2, 1), (4, 4), grid)]\n",
        "res = move_astar(grid, agents)\n",
        "print(f\"Average Coverage Percentage {res[0]} / Rounds: {res[1]} / Average Round Time: {res[3]}\")\n",
        "print(f\"Final Explored Stage\\n{res[5]}\")"
      ]
    },
    {
      "cell_type": "markdown",
      "metadata": {
        "id": "QwSgYsXC7acs"
      },
      "source": [
        "## Testing with dynamically generated stages/mazes:\n",
        "This is the 1st version of the testing in complex (but small) mazes."
      ]
    },
    {
      "cell_type": "code",
      "execution_count": null,
      "metadata": {
        "id": "ZW0TU99df4Kk"
      },
      "outputs": [],
      "source": [
        "# testing for entire maze coverage:\n",
        "num_agents = 10 # number of agents.\n",
        "num_test = 1\n",
        "res=test_astar(num_agents, num_test, None, functools.partial(create_maze, rows=30, cols=30, obs_prob=0.85), debug=True, coverage_mode=True, algo='cu_mnm')\n",
        "# images_to_gif(gif_filename=\"nf_30x30_10agents.gif\")\n",
        "# res=test_astar(num_agents, num_test, None, functools.partial(create_maze, rows=15, cols=15, obs_prob=0.85), debug=False, coverage_mode=True, algo='hedac', alpha=10, max_hedac_iter=100)\n",
        "\n",
        "\n",
        "# testing without coverage mode (agents go to goal):\n",
        "# num_agents = 10 # number of agents.\n",
        "# num_test = 10\n",
        "# res=test_astar(num_agents, num_test, None, functools.partial(create_maze, rows=10, cols=10, obs_prob=0.85), debug=False, file_path=\"/content/drive/My Drive/thesis/xlsx/astar_swarm_test.xlsx\")\n",
        "# # res=test_astar(num_agents, num_test, None, functools.partial(generate_stage, rows=10, cols=10, obs_prob=0.5), debug=True)"
      ]
    },
    {
      "cell_type": "markdown",
      "metadata": {
        "id": "h1RcVEiHDJtV"
      },
      "source": [
        "Save experiments on a xlsx file:"
      ]
    },
    {
      "cell_type": "code",
      "execution_count": 55,
      "metadata": {
        "colab": {
          "base_uri": "https://localhost:8080/"
        },
        "id": "lHBAnz-qt7bc",
        "outputId": "4790e5cf-17d8-455c-fe02-9d073a171d93"
      },
      "outputs": [
        {
          "name": "stdout",
          "output_type": "stream",
          "text": [
            "Agent number: 10\n",
            "Test: 0\n",
            "Test: 1\n",
            "Test: 2\n",
            "Test: 3\n",
            "Test: 4\n",
            "Average Coverage Percentage: 1.0 / Average Total Rounds: 72.8 / Average Round Time: 0.0540320833005767 / Average Agent Step Time: 0.005403208330057669 / Average Experiment Time: 4.072343921661377\n"
          ]
        }
      ],
      "source": [
        "# Initialization Parameters ========\n",
        "min_num_agents = 10\n",
        "max_num_agents = 10\n",
        "rows = 30\n",
        "cols = 30\n",
        "obs_prob = 0.85\n",
        "num_test = 5\n",
        "agent_view = 2\n",
        "coverage_mode = True\n",
        "# =================================\n",
        "\n",
        "file_path=\"astar_test.xlsx\"\n",
        "file_path_all = \"astar_test_all.xlsx\"\n",
        "\n",
        "for num_agent in range(min_num_agents, max_num_agents + 1):\n",
        "  print(f\"Agent number: {num_agent}\")\n",
        "  avg_cover, avg_rounds, avg_round_time, avg_agent_step_time, avg_exp_time = test_astar(num_agent, num_test, gen_stage_func=functools.partial(create_maze, rows=rows, cols=cols, obs_prob=obs_prob), agent_view_range=agent_view, debug=False, file_path=file_path_all, coverage_mode=coverage_mode)\n",
        "  new_row = {\n",
        "      \"#_Agents\": num_agent,\n",
        "      \"Coverage\": avg_cover,\n",
        "      \"Avg_Rounds\": avg_rounds,\n",
        "      \"Avg_Round_Time\": avg_round_time,\n",
        "      \"Avg_Agent_Step_Time\": avg_agent_step_time,\n",
        "      \"Experiment_Time\": avg_exp_time,\n",
        "      \"Obs_Prob\": obs_prob,\n",
        "  }\n",
        "  save_xlsx(file_path, new_row) # saves averages.\n",
        "\n"
      ]
    },
    {
      "cell_type": "markdown",
      "metadata": {},
      "source": [
        "# Complex Experimentation (used in thesis)\n",
        "This section contains the main experiment process used for getting results/comparing algos in complex and big mazes."
      ]
    },
    {
      "cell_type": "code",
      "execution_count": 29,
      "metadata": {
        "colab": {
          "background_save": true,
          "base_uri": "https://localhost:8080/"
        },
        "id": "XI45icKk2yzQ",
        "outputId": "2cf12519-be1a-43f3-dc3a-4f9181240aca"
      },
      "outputs": [],
      "source": [
        "def run_exp_xlsx(file_path, file_path_all, min_num_agents, max_num_agents, rows, cols, num_test, obs_prob=0.85, agent_view = 2, coverage_mode=True, algo='nf', alpha=10, max_hedac_iter=100):\n",
        "  \"\"\"Function to test and save the results of the algos.\"\"\"\n",
        "  try:\n",
        "      df = pd.read_excel(file_path)\n",
        "  except FileNotFoundError:\n",
        "      df = pd.DataFrame(columns=[\"#_Agents\", \"Coverage\", \"Avg_Total_Rounds\", \"Avg_Round_Time\", \"Avg_Agent_Step_Time\", \"Experiment_Time\", \"Obs_Prob\"])\n",
        "\n",
        "  for num_agent in range(min_num_agents, max_num_agents + 1, 2):\n",
        "    print(f\"Agent number: {num_agent} / Obs_Prob: {obs_prob}\")\n",
        "    avg_cover, avg_rounds, avg_round_time, avg_agent_step_time, avg_exp_time = test_astar(num_agent, num_test, gen_stage_func=functools.partial(create_maze, rows=rows, cols=cols, obs_prob=obs_prob), agent_view_range=agent_view, debug=False, file_path=file_path_all, coverage_mode=coverage_mode, algo=algo, alpha=alpha, max_hedac_iter=max_hedac_iter)\n",
        "    new_row = {\n",
        "        \"#_Agents\": num_agent,\n",
        "        \"Coverage\": avg_cover,\n",
        "        \"Avg_Total_Rounds\": avg_rounds,\n",
        "        \"Avg_Round_Time\": avg_round_time,\n",
        "        \"Avg_Agent_Step_Time\": avg_agent_step_time,\n",
        "        \"Experiment_Time\": avg_exp_time,\n",
        "        \"Obs_Prob\": obs_prob,\n",
        "    }\n",
        "    df = df._append(new_row, ignore_index=True)\n",
        "    df.to_excel(file_path, float_format='%.5f', index=False)\n",
        "    print(f\"Agent number: {num_agent} / Obs_Prob: {1-obs_prob}\")\n",
        "    avg_cover, avg_rounds, avg_round_time, avg_agent_step_time, avg_exp_time = test_astar(num_agent, num_test, gen_stage_func=functools.partial(create_maze, rows=rows, cols=cols, obs_prob= 1 - obs_prob), agent_view_range=agent_view, debug=False, file_path=file_path_all, coverage_mode=coverage_mode, algo=algo, alpha=alpha, max_hedac_iter=max_hedac_iter)\n",
        "    new_row = {\n",
        "        \"#_Agents\": num_agent,\n",
        "        \"Coverage\": avg_cover,\n",
        "        \"Avg_Total_Rounds\": avg_rounds,\n",
        "        \"Avg_Round_Time\": avg_round_time,\n",
        "        \"Avg_Agent_Step_Time\": avg_agent_step_time,\n",
        "        \"Experiment_Time\": avg_exp_time,\n",
        "        \"Obs_Prob\": 1 - obs_prob,\n",
        "    }\n",
        "    df = df._append(new_row, ignore_index=True)\n",
        "    df.to_excel(file_path, float_format='%.5f', index=False)\n"
      ]
    },
    {
      "cell_type": "markdown",
      "metadata": {},
      "source": [
        "The following code runs the above function.\n",
        "* If local run & unix -> uses processes\n",
        "* Else runs all (without parallelism)"
      ]
    },
    {
      "cell_type": "code",
      "execution_count": null,
      "metadata": {},
      "outputs": [],
      "source": [
        "# Initialization Parameters ========\n",
        "min_num_agents = 2\n",
        "max_num_agents = 10\n",
        "rows = 15\n",
        "cols = 15\n",
        "num_test = 20\n",
        "obs_prob = 0.85\n",
        "agent_view = 2\n",
        "coverage_mode = True    # this is researched in the thesis.\n",
        "algo = 'cu_mnm'\n",
        "# =================================\n",
        "\n",
        "file_name_all = f'{algo}_all_{rows}x{cols}_{coverage_mode}_{agent_view}.xlsx'\n",
        "file_name = f'{algo}_{rows}x{cols}_{coverage_mode}_{agent_view}_{num_test}.xlsx'  # saves the averages.\n",
        "\n",
        "if check_run_colab(): # runs all:\n",
        "  file_path_all = f'/content/drive/My Drive/thesis/results/{algo}/{rows}x{cols}/all/' + file_name_all\n",
        "  file_path = f'/content/drive/My Drive/thesis/results/{algo}/{rows}x{cols}/' + file_name  # saves the averages.\n",
        "else:\n",
        "  parent_parent_dir = \"results\"\n",
        "  parent_dir = f\"{algo}\"\n",
        "  sub_dir = f\"{rows}x{cols}\"\n",
        "  sub_sub_dir = \"all\"\n",
        "  os.makedirs(parent_parent_dir, exist_ok=True)\n",
        "  os.makedirs(os.path.join(parent_parent_dir, parent_dir), exist_ok=True)\n",
        "  os.makedirs(os.path.join(parent_parent_dir, parent_dir, sub_dir), exist_ok=True)\n",
        "  os.makedirs(os.path.join(parent_parent_dir, parent_dir, sub_dir, sub_sub_dir), exist_ok=True)\n",
        "  file_path = os.path.join(parent_parent_dir, parent_dir, sub_dir, file_name)\n",
        "  file_path_all = os.path.join(parent_parent_dir, parent_dir, sub_dir, sub_sub_dir, file_name_all)\n",
        "\n",
        "print(f\"Running {algo} algorithm...\")\n",
        "if get_ipython() and os.name != 'posix': # runs in jupiter and windows\n",
        "  run_exp_xlsx(file_path, file_path_all, min_num_agents, max_num_agents, rows, cols, num_test, obs_prob, agent_view, coverage_mode, algo)\n",
        "else: # in unix or script (not notebook) -> uses multiprocesses:\n",
        "  # num_cores = 4\n",
        "  num_cores = multiprocessing.cpu_count()\n",
        "  if num_cores >= 8:\n",
        "     num_cores = num_cores // 2 # min num cores is 4 (good number for number of agents)\n",
        "  file_paths = [os.path.join(parent_parent_dir, parent_dir, sub_dir, f\"p{i+1}_\" + file_name) for i in range(num_cores)]\n",
        "  file_paths_all = [os.path.join(parent_parent_dir, parent_dir, sub_dir, sub_sub_dir, f\"p{i+1}_\" + file_name_all) for i in range(num_cores)]\n",
        "\n",
        "  # Calculating the agent distribution in the processes:\n",
        "  agents_num_list = [i for i in range(min_num_agents, max_num_agents + 1, 2)]\n",
        "  team_size = 1 + max(0, len(agents_num_list) - num_cores)\n",
        "  agent_teams = [agents_num_list[i:i+team_size] for i,_ in enumerate(agents_num_list)]\n",
        "  while len(agent_teams) > num_cores:\n",
        "    agent_teams.pop()\n",
        "  l = len(agent_teams)\n",
        "  while len(agent_teams) < num_cores:\n",
        "    i = random.randint(0, l - 1)\n",
        "    agent_teams.append([agents_num_list[i]])\n",
        "  # ------------------------\n",
        "\n",
        "  l = len(agent_teams[0]) # gets the team size of each team\n",
        "  params_list = [(file_paths[i], file_paths_all[i], agent_teams[i][max(0, l-2)], agent_teams[i][l-1], rows, cols, num_test, round(abs((i % 2) - obs_prob), 2), agent_view, coverage_mode, algo) for i in range(num_cores)]\n",
        "\n",
        "  print(params_list)\n",
        "\n",
        "  if __name__ == \"__main__\":\n",
        "    processes = []\n",
        "    for params in params_list:\n",
        "        process = multiprocessing.Process(target=run_exp_xlsx, args=params)\n",
        "        processes.append(process)\n",
        "\n",
        "    for process in processes:\n",
        "        process.start()\n",
        "\n",
        "    for process in processes:\n",
        "        process.join()\n"
      ]
    },
    {
      "cell_type": "markdown",
      "metadata": {},
      "source": [
        "# Results Plot\n",
        "Plotting the results of the experiments."
      ]
    },
    {
      "cell_type": "markdown",
      "metadata": {
        "id": "N49hcRiX_5Ra"
      },
      "source": [
        "<u>Developer Tips:</u>\n",
        "\n",
        "* Mean agent step time is just the mean episode time divived by the number of agents."
      ]
    },
    {
      "cell_type": "code",
      "execution_count": 45,
      "metadata": {
        "colab": {
          "base_uri": "https://localhost:8080/",
          "height": 507
        },
        "id": "FqRTNrCV4Rek",
        "outputId": "fbe7cad2-53e7-46a1-e62d-178b2cf2c066"
      },
      "outputs": [
        {
          "name": "stdout",
          "output_type": "stream",
          "text": [
            "Results for maze 15x15:\n",
            "HEDAC Averages:\n",
            " 85% obs prob: 22.70 rounds\n",
            " 15% obs prob: 13.77 rounds\n",
            "Nearest-Front Averages:\n",
            " 85% obs prob: 24.10 rounds\n",
            " 15% obs prob: 16.61 rounds\n",
            "Cost-Util-MNM Averages:\n",
            " 85% obs prob: 22.96 rounds\n",
            " 15% obs prob: 14.00 rounds\n"
          ]
        },
        {
          "data": {
            "image/png": "[encoded data removed]",
            "text/plain": [
              "<Figure size 1000x500 with 2 Axes>"
            ]
          },
          "metadata": {},
          "output_type": "display_data"
        }
      ],
      "source": [
        "def plot_comparison(file_dict, print_avg=True):\n",
        "    plt.figure(figsize=(10, 5))\n",
        "\n",
        "    for label, file_path in file_dict.items():\n",
        "        df = pd.read_excel(file_path)\n",
        "        df_85 = df[df['Obs_Prob'] == 0.85]\n",
        "        df_15 = df[df['Obs_Prob'] == 0.15]\n",
        "\n",
        "        # Plotting for obs_prob == 0.85\n",
        "        plt.subplot(1, 2, 1)\n",
        "        plt.plot(list(df_85['#_Agents']), list(df_85['Avg_Total_Rounds']), label=label, marker='o')\n",
        "\n",
        "        # Plotting for obs_prob == 0.15\n",
        "        plt.subplot(1, 2, 2)\n",
        "        plt.plot(list(df_15['#_Agents']), list(df_15['Avg_Total_Rounds']), label=label, marker='o')\n",
        "\n",
        "        if print_avg:\n",
        "            avg_85 = np.mean(df_85['Avg_Total_Rounds'])\n",
        "            avg_15 = np.mean(df_15['Avg_Total_Rounds'])\n",
        "            print(f\"{label} Averages:\\n 85% obs prob: {avg_85:.2f} rounds\\n 15% obs prob: {avg_15:.2f} rounds\")\n",
        "\n",
        "    plt.subplot(1, 2, 1)\n",
        "    plt.title(\"0.85 Obs Prob / Coverage 100%\")\n",
        "    plt.xlabel('# of Agents')\n",
        "    plt.ylabel('Avg Total Rounds')\n",
        "    plt.legend()\n",
        "    plt.grid(True)\n",
        "\n",
        "    plt.subplot(1, 2, 2)\n",
        "    plt.title(\"0.15 Obs Prob / Coverage 100%\")\n",
        "    plt.xlabel('# of Agents')\n",
        "    plt.ylabel('Avg Total Rounds')\n",
        "    plt.legend()\n",
        "    plt.grid(True)\n",
        "\n",
        "    plt.tight_layout()\n",
        "    plt.show()\n",
        "\n",
        "file_dict = {'HEDAC': 'results/hedac/15x15/hedac_15x15_True_2_20.xlsx', \n",
        "             'Nearest-Front': 'results/nf/15x15/nf_15x15_True_2_20.xlsx',\n",
        "             'Cost-Util-MNM': 'results/cu_mnm/15x15/cu_mnm_15x15_True_2_20.xlsx'}\n",
        "\n",
        "print(\"Results for maze 15x15:\")\n",
        "plot_comparison(file_dict)\n"
      ]
    },
    {
      "cell_type": "markdown",
      "metadata": {},
      "source": [
        "# Other checks\n",
        "Here are some other checks for debugging."
      ]
    },
    {
      "cell_type": "markdown",
      "metadata": {
        "id": "pWg1DCkj_Idu"
      },
      "source": [
        "Check agent view:"
      ]
    },
    {
      "cell_type": "code",
      "execution_count": null,
      "metadata": {
        "colab": {
          "base_uri": "https://localhost:8080/"
        },
        "id": "0B44T1oV_GY-",
        "outputId": "1e033138-bbd7-4cb2-bb8e-40a1c8da5b6b"
      },
      "outputs": [
        {
          "name": "stdout",
          "output_type": "stream",
          "text": [
            "[[ 0 -1  1 -1 -1]\n",
            " [-1  0  0  0 -1]\n",
            " [ 1  0  0  1 -1]\n",
            " [-1  0  1  0 -1]\n",
            " [ 0 -1 -1 -1  0]]\n"
          ]
        }
      ],
      "source": [
        "grid = np.array([[0, 0, 1, 0, 0],\n",
        "                 [1, 0, 0, 2, 1],\n",
        "                 [1, 0, 0, 1, 1],\n",
        "                 [0, 0, 1, 0, 0],\n",
        "                 [0, 0, 0, 0, 0]])\n",
        "\n",
        "agents = [Agent((2, 2), (2, 2), grid, 2),]\n",
        "res = move_astar(grid, agents)\n"
      ]
    },
    {
      "cell_type": "code",
      "execution_count": null,
      "metadata": {
        "colab": {
          "base_uri": "https://localhost:8080/"
        },
        "id": "Ir2RLyRM3lbp",
        "outputId": "7156c248-6fad-4b7d-816e-a7d7fd00fd0a"
      },
      "outputs": [
        {
          "name": "stdout",
          "output_type": "stream",
          "text": [
            "[[ 0  1  0]\n",
            " [ 1 -1 -1]\n",
            " [ 0 -1 -1]]\n",
            "[[1 2 3]\n",
            " [0 1 2]\n",
            " [1 2 3]]\n",
            "[[4 4 4]\n",
            " [4 1 2]\n",
            " [4 2 3]]\n",
            "[(1, 1), (1, 2), (2, 1), (2, 2), (0, 0), (0, 1), (0, 2), (1, 0), (2, 0)]\n",
            "[[1 1]\n",
            " [1 2]\n",
            " [2 0]\n",
            " [2 1]\n",
            " [2 2]]\n"
          ]
        },
        {
          "data": {
            "text/plain": [
              "array([[2., 3., 2., 3., 4.]])"
            ]
          },
          "execution_count": 80,
          "metadata": {},
          "output_type": "execute_result"
        }
      ],
      "source": [
        "\n",
        "import numpy as np\n",
        "\n",
        "agent_pos = (0, 1)\n",
        "total_explored = np.array([[0, 1, 0], [1, -1, -1], [0, -1, -1]])  # Example array\n",
        "print(total_explored)\n",
        "n_rows, n_cols = total_explored.shape\n",
        "x_coords, y_coords = np.meshgrid(np.arange(n_rows), np.arange(n_cols))\n",
        "distances = np.abs(x_coords - agent_pos[0]) + np.abs(y_coords - agent_pos[1])\n",
        "\n",
        "print(distances)\n",
        "# distances[(total_explored != -1)] = max(total_explored.shape) + 1\n",
        "# indx = np.unravel_index(np.argmin(distances, axis=None), distances.shape)\n",
        "# print(distances)\n",
        "# print(indx)\n",
        "# print(total_explored[indx])\n",
        "\n",
        "\n",
        "# Mask the non-target cells by setting their distances to a high value\n",
        "distances[total_explored != -1] = max(total_explored.shape) + 1\n",
        "print(distances)\n",
        "# Get the indices that would sort the distances\n",
        "flat_indices = np.argsort(distances, axis=None)\n",
        "\n",
        "# Convert flat indices to 2D indices\n",
        "min_indices = np.unravel_index(flat_indices, distances.shape)\n",
        "\n",
        "# Convert indices to a list of tuples in the desired order\n",
        "indx = list(zip(min_indices[0], min_indices[1]))\n",
        "print(indx)\n"
      ]
    },
    {
      "cell_type": "markdown",
      "metadata": {},
      "source": [
        "HEDAC Experimentation -> we can see that its more likely to go to unexplored cells."
      ]
    },
    {
      "cell_type": "code",
      "execution_count": 33,
      "metadata": {},
      "outputs": [
        {
          "name": "stdout",
          "output_type": "stream",
          "text": [
            "[[2. 4. 4. 4. 5. 4. 5. 5. 4. 2.]\n",
            " [4. 5. 6. 7. 6. 6. 7. 6. 6. 3.]\n",
            " [3. 7. 6. 7. 7. 7. 6. 7. 6. 3.]\n",
            " [5. 5. 7. 7. 6. 7. 4. 8. 6. 5.]\n",
            " [5. 6. 6. 6. 8. 4. 7. 5. 8. 3.]\n",
            " [3. 5. 6. 5. 7. 6. 5. 5. 5. 6.]\n",
            " [4. 4. 3. 6. 5. 6. 3. 6. 6. 3.]\n",
            " [3. 6. 4. 5. 6. 5. 6. 4. 6. 6.]\n",
            " [6. 6. 6. 6. 4. 7. 3. 6. 6. 4.]\n",
            " [4. 5. 5. 2. 6. 1. 5. 2. 3. 3.]]\n",
            "Explored Stage:\n",
            "[[ 0  0 -1  0  0 -1  0 -1 -1  0]\n",
            " [ 0  0 -1  0 -1 -1  0 -1  0  1]\n",
            " [-1  0 -1 -1 -1  0 -1 -1 -1  0]\n",
            " [ 0 -1  0 -1 -1  0 -1  0 -1  0]\n",
            " [ 0 -1  0 -1  0 -1  1 -1 -1 -1]\n",
            " [-1 -1  0 -1 -1 -1  0 -1 -1  1]\n",
            " [ 1  1  0  1 -1  0  0  1  0 -1]\n",
            " [-1  0 -1  0 -1  0  0 -1 -1 -1]\n",
            " [-1 -1  0  0 -1  0 -1  0  0 -1]\n",
            " [-1 -1  0 -1  1 -1  1  0  0  0]]\n"
          ]
        },
        {
          "data": {
            "image/png": "[encoded data removed]",
            "text/plain": [
              "<Figure size 1000x1000 with 1 Axes>"
            ]
          },
          "metadata": {},
          "output_type": "display_data"
        },
        {
          "name": "stdout",
          "output_type": "stream",
          "text": [
            "White -> unexplored\n",
            "=================\n",
            "Final Attraction Field:\n",
            "[[ 0.95238095  0.97560976 13.17073171  0.97560976  0.98039216 13.17073171\n",
            "   0.98039216 10.78431373 13.17073171  0.95238095]\n",
            " [ 0.97560976  0.98039216  9.18032787  0.98591549  9.18032787  9.18032787\n",
            "   0.98591549  9.18032787  0.98360656  0.96774194]\n",
            " [17.09677419  0.98591549  9.18032787  8.02816901  8.02816901  0.98591549\n",
            "   9.18032787  8.02816901  9.18032787  0.96774194]\n",
            " [ 0.98039216 10.78431373  0.98591549  8.02816901  9.18032787  0.98591549\n",
            "  13.17073171  0.98765432  9.18032787  0.98039216]\n",
            " [ 0.98039216  9.18032787  0.98360656  9.18032787  0.98765432 13.17073171\n",
            "   0.98591549 10.78431373  7.16049383 17.09677419]\n",
            " [17.09677419 10.78431373  0.98360656 10.78431373  8.02816901  9.18032787\n",
            "   0.98039216 10.78431373 10.78431373  0.98360656]\n",
            " [ 0.97560976  0.97560976  0.96774194  0.98360656 10.78431373  0.98360656\n",
            "   0.96774194  0.98360656  0.98360656 17.09677419]\n",
            " [17.09677419  0.98360656 13.17073171  0.98039216  9.18032787  0.98039216\n",
            "   0.98360656 13.17073171  9.18032787  9.18032787]\n",
            " [ 9.18032787  9.18032787  0.98360656  0.98360656 13.17073171  0.98591549\n",
            "  17.09677419  0.98360656  0.98360656 13.17073171]\n",
            " [13.17073171 10.78431373  0.98039216 24.76190476  0.98360656 46.36363636\n",
            "   0.98039216  0.95238095  0.96774194  0.96774194]]\n"
          ]
        },
        {
          "data": {
            "image/png": "[encoded data removed]",
            "text/plain": [
              "<Figure size 1000x1000 with 1 Axes>"
            ]
          },
          "metadata": {},
          "output_type": "display_data"
        },
        {
          "name": "stdout",
          "output_type": "stream",
          "text": [
            "More black -> more attractive force\n",
            "=================\n"
          ]
        }
      ],
      "source": [
        "explored_stage = generate_stage(10, 10)\n",
        "# puts artificially some unexplored coords:\n",
        "rep_perc = 0.5\n",
        "random_indices = np.random.choice(range(explored_stage.size), size=int(explored_stage.shape[0]*explored_stage.shape[1]*rep_perc), replace=False)\n",
        "explored_stage.flat[random_indices] = -1\n",
        "\n",
        "u = calc_attractive_field(explored_stage)\n",
        "\n",
        "aij = np.full_like(u, 0)\n",
        "for i in range(u.shape[0]):\n",
        "    for j in range(u.shape[1]):\n",
        "        aij[i, j] = calculate_sum_aij(i, j, explored_stage)\n",
        "\n",
        "print(aij)\n",
        "\n",
        "print(\"Explored Stage:\")\n",
        "print(explored_stage)\n",
        "draw_maze(explored_stage)\n",
        "print(\"White -> unexplored\")\n",
        "print(\"=================\")\n",
        "\n",
        "print(\"Final Attraction Field:\")\n",
        "print(u)\n",
        "draw_maze(u)\n",
        "print(\"More black -> more attractive force\")\n",
        "print(\"=================\")\n"
      ]
    },
    {
      "cell_type": "code",
      "execution_count": null,
      "metadata": {},
      "outputs": [],
      "source": [
        "grid = np.array([\n",
        "    [1, 1, 1, 1, 1, 1, 1, 1, 1, 1, 1, 1, 1, 1, 1],\n",
        "    [1, 0, 0, 0, 0, 0, 0, 0, 0, 0, 0, 0, 0, 0, 1],\n",
        "    [1, 0, 1, 1, 1, 1, 1, 1, 1, 0, 1, 1, 1, 0, 1],\n",
        "    [1, 0, 0, 0, 0, 0, 1, 0, 0, 0, 0, 0, 0, 0, 1],\n",
        "    [1, 0, 1, 0, 1, 0, 0, 0, 0, 0, 1, 0, 1, 1, 1],\n",
        "    [1, 0, 0, 0, 0, 0, 0, 0, 0, 0, 0, 0, 0, 0, 1],\n",
        "    [1, 0, 1, 1, 1, 0, 0, 0, 1, 1, 0, 0, 1, 0, 1],\n",
        "    [1, 0, 0, 0, 0, 0, 0, 0, 0, 0, 0, 0, 1, 0, 1],\n",
        "    [1, 0, 1, 1, 1, 1, 0, 0, 1, 1, 0, 0, 1, 0, 1],\n",
        "    [1, 0, 0, 0, 1, 0, 0, 0, 1, 0, 1, 0, 0, 0, 1],\n",
        "    [1, 0, 0, 0, 0, 0, 0, 1, 1, 0, 1, 1, 1, 0, 1],\n",
        "    [1, 0, 0, 0, 1, 0, 0, 0, 1, 0, 0, 0, 0, 0, 1],\n",
        "    [1, 0, 1, 1, 0, 1, 0, 0, 1, 0, 1, 1, 1, 0, 1],\n",
        "    [1, 0, 0, 0, 0, 0, 0, 0, 0, 0, 0, 0, 0, 0, 1],\n",
        "    [1, 1, 1, 1, 1, 1, 1, 1, 1, 1, 1, 1, 1, 1, 1]\n",
        "])\n",
        "\n",
        "# grid = create_maze(15, 15)\n",
        "agents = [Agent((1, 1), (4, 4), grid, 2)]\n",
        "res = move_nf_coverage(grid, agents, debug=True)\n",
        "# res = move_hedac_coverage(agents, grid, alpha=10, max_iter=100, debug=False)\n",
        "# images_to_gif(\"hedac_improv_idea.gif\")\n",
        "print(f\"Average Coverage Percentage {res[0]} / Rounds: {res[1]} / Average Round Time: {res[3]}\")\n",
        "print(f\"Final Explored Stage\\n{res[2]}\")"
      ]
    },
    {
      "cell_type": "markdown",
      "metadata": {},
      "source": [
        "**IDEA**:\n",
        "* We have K agents \n",
        "* Create K partitions of the maze using kmeans (with manhattan distance)\n",
        "* Assign each agent to one partition\n",
        "* Each agent solves its partition using HEDAC\n",
        "* Combine the results"
      ]
    },
    {
      "cell_type": "code",
      "execution_count": 38,
      "metadata": {},
      "outputs": [
        {
          "data": {
            "image/png": "[encoded data removed]",
            "text/plain": [
              "<Figure size 1000x1000 with 1 Axes>"
            ]
          },
          "metadata": {},
          "output_type": "display_data"
        }
      ],
      "source": [
        "from sklearn.cluster import KMeans\n",
        "import numpy as np\n",
        "\n",
        "def split_matrix(matrix, k):\n",
        "    # Get the coordinates of all elements in the matrix\n",
        "    coordinates = np.array([(i, j) for i in range(len(matrix)) for j in range(len(matrix[0]))])\n",
        "    \n",
        "    # Initialize and fit k-means clustering\n",
        "    kmeans = KMeans(n_clusters=k, random_state=0).fit(coordinates)\n",
        "    \n",
        "    # Get the cluster centers\n",
        "    cluster_centers = kmeans.cluster_centers_\n",
        "    \n",
        "    # Compute the Manhattan distances between each point and cluster center\n",
        "    distances = np.zeros((len(coordinates), k))\n",
        "    for i, coord in enumerate(coordinates):\n",
        "        for j, center in enumerate(cluster_centers):\n",
        "            distances[i, j] = np.sum(np.abs(coord - center))    # manhattan distance\n",
        "    \n",
        "    # Assign each coordinate to the cluster with the closest center\n",
        "    cluster_labels = np.argmin(distances, axis=1)\n",
        "    \n",
        "    # Initialize the result list with empty lists for each cluster\n",
        "    result = [[] for _ in range(k)]\n",
        "    \n",
        "    # Assign each coordinate to its corresponding cluster\n",
        "    for i, label in enumerate(cluster_labels):\n",
        "        result[label].append(tuple(coordinates[i]))\n",
        "    \n",
        "    return result\n",
        "\n",
        "matrix = create_maze(10, 10)\n",
        "# print(matrix)\n",
        "x = 10\n",
        "\n",
        "split_parts = split_matrix(matrix, x)\n",
        "cluster_matrix = np.full_like(matrix, 0)\n",
        "for i, part in enumerate(split_parts):\n",
        "    # print(f\"Part {i+1}: {part}\")\n",
        "    for coord in part:\n",
        "        cluster_matrix[coord] = i\n",
        "\n",
        "draw_maze(cluster_matrix)\n"
      ]
    }
  ],
  "metadata": {
    "colab": {
      "provenance": []
    },
    "kernelspec": {
      "display_name": "Python 3",
      "name": "python3"
    },
    "language_info": {
      "codemirror_mode": {
        "name": "ipython",
        "version": 3
      },
      "file_extension": ".py",
      "mimetype": "text/x-python",
      "name": "python",
      "nbconvert_exporter": "python",
      "pygments_lexer": "ipython3",
      "version": "3.10.7"
    }
  },
  "nbformat": 4,
  "nbformat_minor": 0
}
