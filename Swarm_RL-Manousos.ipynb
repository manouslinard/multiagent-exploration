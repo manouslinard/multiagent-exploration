{
  "nbformat": 4,
  "nbformat_minor": 0,
  "metadata": {
    "colab": {
      "provenance": []
    },
    "kernelspec": {
      "name": "python3",
      "display_name": "Python 3"
    },
    "language_info": {
      "name": "python"
    }
  },
  "cells": [
    {
      "cell_type": "code",
      "source": [
        "import time\n",
        "import copy\n",
        "import random\n",
        "import functools\n",
        "import numpy as np"
      ],
      "metadata": {
        "id": "stKqx3fl1wOG"
      },
      "execution_count": null,
      "outputs": []
    },
    {
      "cell_type": "markdown",
      "source": [
        "The Agent Class:"
      ],
      "metadata": {
        "id": "w4PsZHBBTxVU"
      }
    },
    {
      "cell_type": "code",
      "source": [
        "class Agent:\n",
        "\n",
        "  def __init__(self, start: tuple, goal: tuple, real_stage, view_range=1):\n",
        "      self.x = start[0]\n",
        "      self.y = start[1]\n",
        "      self.goal = goal\n",
        "      self.view_range = view_range\n",
        "      self.explored_stage = np.full_like(real_stage, -1)\n",
        "      self.explored_stage[self.x, self.y] = 0\n",
        "      self.agent_view(real_stage)\n",
        "      self.start_time = time.time()\n",
        "\n",
        "  def agent_view(self, real_stage):\n",
        "    # refreshes the explored map of the agent (sees up, down, left, right).\n",
        "    for i in range(self.view_range):\n",
        "      if self.x > i:  # checks up\n",
        "        tmp_x = self.x - i - 1\n",
        "        self.explored_stage[(tmp_x, self.y)] = real_stage[(tmp_x, self.y)]\n",
        "        if self.y > i:  # up-left\n",
        "          self.explored_stage[(tmp_x, self.y - i - 1)] = real_stage[(tmp_x, self.y - i - 1)]\n",
        "        if self.y < len(real_stage[0]) - i - 1: # up-right\n",
        "          self.explored_stage[(tmp_x, self.y + i + 1)] = real_stage[(tmp_x, self.y + i + 1)]\n",
        "\n",
        "      if self.x < len(real_stage) - i - 1:  # checks down:\n",
        "        tmp_x = self.x + i + 1\n",
        "        self.explored_stage[(tmp_x, self.y)] = real_stage[(tmp_x, self.y)]\n",
        "        if self.y > i:  # down-left\n",
        "          self.explored_stage[(tmp_x, self.y - i - 1)] = real_stage[(tmp_x, self.y - i - 1)]\n",
        "        if self.y < len(real_stage[0]) - i - 1: # down-right\n",
        "          self.explored_stage[(tmp_x, self.y + i + 1)] = real_stage[(tmp_x, self.y + i + 1)]\n",
        "\n",
        "      if self.y > i:  # left\n",
        "        self.explored_stage[(self.x, self.y - i - 1)] = real_stage[(self.x, self.y - i - 1)]\n",
        "      if self.y < len(real_stage[0]) - i - 1: # right\n",
        "        self.explored_stage[(self.x, self.y + i + 1)] = real_stage[(self.x, self.y + i + 1)]\n",
        "\n",
        "    self.explored_stage[self.explored_stage == 2] = 0\n",
        "\n",
        "  def check_goal(self):\n",
        "    if (self.x, self.y) == self.goal:\n",
        "      return True\n",
        "    return False"
      ],
      "metadata": {
        "id": "G9oytlA1IEXF"
      },
      "execution_count": null,
      "outputs": []
    },
    {
      "cell_type": "markdown",
      "source": [
        "A* Algorithm:"
      ],
      "metadata": {
        "id": "VNu47KjXGIdk"
      }
    },
    {
      "cell_type": "code",
      "source": [
        "class Node:\n",
        "    def __init__(self, x, y, g_cost, h_cost):\n",
        "        self.x = x\n",
        "        self.y = y\n",
        "        self.g_cost = g_cost\n",
        "        self.h_cost = h_cost\n",
        "        self.parent = None\n",
        "\n",
        "    def f_cost(self):\n",
        "        return self.g_cost + self.h_cost\n",
        "\n",
        "def is_valid(x, y, grid):\n",
        "    # Checks if the x and y are within grid + if no obs in (x, y).\n",
        "    rows, cols = grid.shape\n",
        "    return 0 <= x < rows and 0 <= y < cols and grid[x, y] <= 0\n",
        "\n",
        "def a_star(grid, start, end):\n",
        "    directions = [(0, 1), (1, 0), (0, -1), (-1, 0)]  # Right, Down, Left, Up\n",
        "    rows, cols = grid.shape\n",
        "\n",
        "    open_set = []\n",
        "    closed_set = set()\n",
        "\n",
        "    start_node = Node(start[0], start[1], 0, 0)\n",
        "    open_set.append(start_node)\n",
        "\n",
        "    while open_set:\n",
        "        # Finds the lowest f_cost node -> adds it to the closed_set.\n",
        "        current_node = min(open_set, key=lambda node: node.f_cost())\n",
        "        open_set.remove(current_node)\n",
        "        closed_set.add((current_node.x, current_node.y))\n",
        "\n",
        "        # If current node is the target node -> returns the path.\n",
        "        if (current_node.x, current_node.y) == end:\n",
        "            path = []\n",
        "            while current_node:\n",
        "                path.insert(0, (current_node.x, current_node.y))\n",
        "                current_node = current_node.parent\n",
        "            return path\n",
        "\n",
        "\n",
        "        for dx, dy in directions:\n",
        "\n",
        "            # Gets the new pos:\n",
        "            new_x, new_y = current_node.x + dx, current_node.y + dy\n",
        "            if is_valid(new_x, new_y, grid) and (new_x, new_y) not in closed_set:\n",
        "                g_cost = current_node.g_cost + 1  # g_cost (distance) from current node is 1.\n",
        "                h_cost = abs(new_x - end[0]) + abs(new_y - end[1])\n",
        "                new_node = Node(new_x, new_y, g_cost, h_cost)\n",
        "                new_node.parent = current_node\n",
        "\n",
        "                if new_node not in open_set:\n",
        "                    open_set.append(new_node)\n",
        "\n",
        "    return None  # No path found"
      ],
      "metadata": {
        "id": "t-7KhDWNvx2s"
      },
      "execution_count": null,
      "outputs": []
    },
    {
      "cell_type": "markdown",
      "source": [
        "Create a stage with obstacles (1) and free path (0)."
      ],
      "metadata": {
        "id": "xtGep3-c1ZLO"
      }
    },
    {
      "cell_type": "code",
      "execution_count": null,
      "metadata": {
        "id": "kdAegAWzzx0R"
      },
      "outputs": [],
      "source": [
        "def generate_stage(rows: int, cols: int, obs_prob = 0.2):\n",
        "\n",
        "  # generate obstacles with obs_prob probability\n",
        "  num_obstacles = int(rows * cols * obs_prob)\n",
        "\n",
        "  stage = np.full((rows, cols), 0)\n",
        "\n",
        "  # Set 1s at random positions for the specified percentage\n",
        "  indices = np.random.choice(rows * cols, num_obstacles, replace=False)\n",
        "  stage.flat[indices] = 1\n",
        "\n",
        "  return stage"
      ]
    },
    {
      "cell_type": "markdown",
      "source": [
        " Creates the \"explored\" stage, which at the start everything is not explored (-1) and put the agents there (2)."
      ],
      "metadata": {
        "id": "TCYQpmAd2GoF"
      }
    },
    {
      "cell_type": "code",
      "source": [
        "def generate_agents(real_stage, num_agents: int = 1):\n",
        "\n",
        "  agents = []\n",
        "\n",
        "  if num_agents <= 0:\n",
        "    num_agents = 1\n",
        "\n",
        "  zero_coordinates = list(zip(*np.where(real_stage == 0)))\n",
        "\n",
        "  # Create the \"explored\" stage\n",
        "  for _ in range(num_agents):\n",
        "    if zero_coordinates:\n",
        "      start = random.choice(zero_coordinates)\n",
        "      zero_coordinates.remove(start)\n",
        "      goal = random.choice(zero_coordinates)\n",
        "      agents.append(Agent((start[0], start[1]), (goal[0], goal[1]), real_stage))\n",
        "    else:\n",
        "      break\n",
        "\n",
        "  return agents"
      ],
      "metadata": {
        "id": "tMw-q4462Ias"
      },
      "execution_count": null,
      "outputs": []
    },
    {
      "cell_type": "markdown",
      "source": [
        "Function to concat all agents explored stages (returns the total explored stage):"
      ],
      "metadata": {
        "id": "X5zEt43rqB4j"
      }
    },
    {
      "cell_type": "code",
      "source": [
        "def update_total_explored(agents):\n",
        "  if len(agents) == 0:\n",
        "    return\n",
        "\n",
        "  total_explored = np.full(agents[0].explored_stage.shape, -1)\n",
        "\n",
        "  for a in agents:\n",
        "    total_explored[total_explored == -1] = a.explored_stage[total_explored == -1]\n",
        "    total_explored[total_explored == 2] = 0\n",
        "\n",
        "  for a in agents:\n",
        "    if not a.check_goal():  # if agent has reached goal -> collidable (as if it is removed from the stage).\n",
        "      total_explored[a.x, a.y] = 2\n",
        "\n",
        "  # Total explored contains the concats of all agents stages:\n",
        "  for a in agents:\n",
        "    a.explored_stage = copy.deepcopy(total_explored)\n",
        "\n",
        "  return total_explored"
      ],
      "metadata": {
        "id": "103pQA0RkWZ4"
      },
      "execution_count": null,
      "outputs": []
    },
    {
      "cell_type": "markdown",
      "source": [
        "Calculates the explored percentage of the concat stage:"
      ],
      "metadata": {
        "id": "j1satA9_rkSp"
      }
    },
    {
      "cell_type": "code",
      "source": [
        "def calculate_expl_percentage(total_explored):\n",
        "  num_minus_1 = np.sum(total_explored == -1)\n",
        "  explored_percentage = 1 - (num_minus_1 / (total_explored.shape[0] * total_explored.shape[1]))\n",
        "  return explored_percentage"
      ],
      "metadata": {
        "id": "Er3drWa1rXZJ"
      },
      "execution_count": null,
      "outputs": []
    },
    {
      "cell_type": "markdown",
      "source": [
        "Function for testing astar:"
      ],
      "metadata": {
        "id": "ufvl2jRi_u9q"
      }
    },
    {
      "cell_type": "code",
      "source": [
        "def move_astar(start_grid, start_agents, max_episodes=100, debug=True):\n",
        "\n",
        "  grid = copy.deepcopy(start_grid)\n",
        "\n",
        "  agents = copy.deepcopy(start_agents)\n",
        "\n",
        "  for agent in agents:\n",
        "      grid[agent.x, agent.y] = 2  # Mark initial agent positions\n",
        "  total_explored = update_total_explored(agents)\n",
        "  prev_tot_expl = copy.deepcopy(total_explored)\n",
        "  episode = 0\n",
        "  total_agents = len(agents)\n",
        "\n",
        "  avg_eps_time = []\n",
        "  avg_agent_time = []\n",
        "\n",
        "  while any((agent.x, agent.y) != agent.goal for agent in agents) and episode < max_episodes:\n",
        "      eps_start_time = time.time()\n",
        "      episode += 1\n",
        "      # print(episode)\n",
        "      if debug:\n",
        "          print(total_explored)\n",
        "\n",
        "      for agent in agents:\n",
        "          if (agent.x, agent.y) == agent.goal:\n",
        "              total_explored = update_total_explored(agents)\n",
        "              agents.remove(agent)\n",
        "              continue  # Agent has reached its goal\n",
        "\n",
        "          path = a_star(agent.explored_stage, (agent.x, agent.y), agent.goal)\n",
        "          # print(total_explored)\n",
        "          if path:\n",
        "              grid[agent.x, agent.y] = 0  # Mark the old position as unoccupied\n",
        "              agent.x, agent.y = path[1]  # Update agent position\n",
        "              grid[agent.x, agent.y] = 2  # Mark the new position as occupied by agent\n",
        "              if agent.check_goal():\n",
        "                avg_agent_time.append(time.time() - agent.start_time)\n",
        "              # print(grid)\n",
        "          agent.agent_view(start_grid)\n",
        "          total_explored = update_total_explored(agents)\n",
        "      avg_eps_time.append(time.time() - eps_start_time)\n",
        "      if np.array_equal(prev_tot_expl, total_explored): # stops if no agents have moved.\n",
        "          break\n",
        "      prev_tot_expl = copy.deepcopy(total_explored)\n",
        "\n",
        "  if debug:\n",
        "      print(total_explored)\n",
        "  return calculate_expl_percentage(total_explored), len(avg_agent_time) / total_agents, total_explored, np.mean(avg_eps_time), np.mean(avg_agent_time)"
      ],
      "metadata": {
        "id": "ozl6dZBO_uiq"
      },
      "execution_count": null,
      "outputs": []
    },
    {
      "cell_type": "markdown",
      "source": [
        "Manual Examples:"
      ],
      "metadata": {
        "id": "hIVCdmp7WKdR"
      }
    },
    {
      "cell_type": "code",
      "source": [
        "grid = np.array([[0, 0, 1, 0, 0],\n",
        "                 [1, 0, 0, 0, 1],\n",
        "                 [1, 0, 0, 0, 1],\n",
        "                 [0, 0, 1, 0, 0],\n",
        "                 [0, 0, 0, 0, 0]])\n",
        "\n",
        "print(\"LESS OBSTACLES STAGE\")\n",
        "agents = [Agent((0, 0), (4, 4), grid, 2), Agent((0, 4), (4, 0), grid),]\n",
        "res = move_astar(grid, agents)\n",
        "print(f\"Total Coverage Percentage {res[0]} / Agents Finished: {res[1]} / Average Episode Time: {res[3]} / Average Agent Finish Time : {res[4]}\")\n",
        "print(f\"Final Explored Stage\\n{res[2]}\")"
      ],
      "metadata": {
        "id": "rIfx619qidvj"
      },
      "execution_count": null,
      "outputs": []
    },
    {
      "cell_type": "code",
      "source": [
        "grid = np.array([[0, 0, 1, 1, 0],\n",
        "                 [0, 1, 1, 0, 1],\n",
        "                 [0, 0, 1, 0, 1],\n",
        "                 [0, 1, 0, 0, 0],\n",
        "                 [0, 0, 0, 0, 0]])\n",
        "\n",
        "print(\"MANY OBSTACLES STAGE\")\n",
        "agents = [Agent((0, 0), (4, 4), grid), Agent((0, 1), (4, 4), grid)]\n",
        "res = move_astar(grid, agents)\n",
        "print(f\"Total Coverage Percentage {res[0]} / Agents Finished: {res[1]} / Average Episode Time: {res[3]} / Average Agent Finish Time : {res[4]}\")\n",
        "print(f\"Final Explored Stage\\n{res[2]}\")"
      ],
      "metadata": {
        "id": "t-04ZXvf2JI7"
      },
      "execution_count": null,
      "outputs": []
    },
    {
      "cell_type": "markdown",
      "source": [
        "Function for maze creation. [Source](https://medium.com/@msgold/using-python-to-create-and-solve-mazes-672285723c96)."
      ],
      "metadata": {
        "id": "txI5bUt6URy0"
      }
    },
    {
      "cell_type": "code",
      "source": [
        "from queue import Queue\n",
        "\n",
        "def create_maze(rows, cols, obs_prob=0.8):\n",
        "    rows = int(rows / 2)\n",
        "    cols = int(cols / 2)\n",
        "\n",
        "    maze = np.ones((rows*2+1, cols*2+1))\n",
        "\n",
        "    x, y = (0, 0)\n",
        "\n",
        "    stack = [(x, y)]\n",
        "    while len(stack) > 0:\n",
        "        x, y = stack[-1]\n",
        "\n",
        "        directions = [(0, 1), (1, 0), (0, -1), (-1, 0)]\n",
        "        random.shuffle(directions)\n",
        "\n",
        "        for dx, dy in directions:\n",
        "            nx, ny = x + dx, y + dy\n",
        "            if nx >= 0 and ny >= 0 and nx < rows and ny < cols and maze[2*nx+1, 2*ny+1] == 1:\n",
        "                maze[2*nx+1, 2*ny+1] = 0\n",
        "                maze[2*x+1+dx, 2*y+1+dy] = 0\n",
        "                stack.append((nx, ny))\n",
        "                break\n",
        "        else:\n",
        "            stack.pop()\n",
        "\n",
        "    for row in range(rows*2+1):\n",
        "        for col in range(cols*2+1):\n",
        "            if random.random() >= obs_prob:\n",
        "                maze[row][col] = 0\n",
        "\n",
        "    return maze"
      ],
      "metadata": {
        "id": "yh3nYlwZQM-e"
      },
      "execution_count": null,
      "outputs": []
    },
    {
      "cell_type": "markdown",
      "source": [
        "Function to plot the grid/maze:"
      ],
      "metadata": {
        "id": "5ULfgQQNUtpw"
      }
    },
    {
      "cell_type": "code",
      "source": [
        "import matplotlib.pyplot as plt\n",
        "\n",
        "def draw_maze(maze, path=None):\n",
        "    fig, ax = plt.subplots(figsize=(10,10))\n",
        "\n",
        "    fig.patch.set_edgecolor('white')\n",
        "    fig.patch.set_linewidth(0)\n",
        "\n",
        "    ax.imshow(maze, cmap=plt.cm.binary, interpolation='nearest')\n",
        "\n",
        "    if path is not None:\n",
        "        x_coords = [x[1] for x in path]\n",
        "        y_coords = [y[0] for y in path]\n",
        "        ax.plot(x_coords, y_coords, color='red', linewidth=2)\n",
        "\n",
        "    ax.set_xticks([])\n",
        "    ax.set_yticks([])\n",
        "\n",
        "    plt.show()"
      ],
      "metadata": {
        "id": "HKEjr_fFRct8"
      },
      "execution_count": null,
      "outputs": []
    },
    {
      "cell_type": "markdown",
      "source": [
        "Function to test astar with many experiments (print averages)."
      ],
      "metadata": {
        "id": "4ubh6zWyMm85"
      }
    },
    {
      "cell_type": "code",
      "source": [
        "def test_astar(num_agents, num_test, start_grid, *gen_stage_func):\n",
        "  \"\"\"\n",
        "  Function to test astar with many experiments (returns averages).\n",
        "  If you want to give the initial grid, initialize the variable start_grid with your grid\n",
        "  (and put the gen_stage_func parameter = None).\n",
        "  If you want to create a different stage for each experiment, put start_grid = None\n",
        "  and initialize the next parameter (gen_stage_func) like so:\n",
        "  functools.partial(func_for_grid_gen, rows, cols, obs_prob)\n",
        "  where func_for_grid_gen is a function for grid generation, rows and cols are the number\n",
        "  of rows and columns of the grid and obs_prob the probablity of obstacles.\n",
        "  \"\"\"\n",
        "  avg = []\n",
        "  avg_finish = []\n",
        "  avg_exp_time = []\n",
        "  avg_agent_time = []\n",
        "  avg_eps_time= []\n",
        "\n",
        "  for _ in range(num_test):\n",
        "    start_time = time.time()\n",
        "    if start_grid is None:\n",
        "      grid = gen_stage_func[0]()\n",
        "      # print(grid)\n",
        "    else:\n",
        "      grid = copy.deepcopy(start_grid)\n",
        "    agents = generate_agents(real_stage = grid, num_agents = num_agents)\n",
        "    res = move_astar(start_grid=grid, start_agents=agents, debug=False)\n",
        "    avg.append(res[0])\n",
        "    avg_finish.append(res[1])\n",
        "    avg_exp_time.append(time.time() - start_time)\n",
        "    avg_eps_time.append(res[3])\n",
        "    avg_agent_time.append(res[4])\n",
        "  avg_agent_time = [x if not np.isnan(x) else max(avg_agent_time) for x in avg_agent_time]  # replaces nans with max value.\n",
        "  # print(avg, avg_finish, avg_exp_time, avg_eps_time, avg_agent_time)\n",
        "  print(f\"Average Coverage Percentage: {np.mean(avg)} / Average Finished: {np.mean(avg_finish)} / Average Experiment Time: {np.mean(avg_exp_time)}s / Average Episode Time: {np.mean(avg_eps_time)} / Average Agent Finish Time : {np.mean(avg_agent_time)}\")\n"
      ],
      "metadata": {
        "id": "N5Z09YFfGcb7"
      },
      "execution_count": null,
      "outputs": []
    },
    {
      "cell_type": "markdown",
      "source": [
        "Testing with dynamically generated stages:"
      ],
      "metadata": {
        "id": "QwSgYsXC7acs"
      }
    },
    {
      "cell_type": "code",
      "source": [
        "num_agents = 15\n",
        "num_test = 10\n",
        "\n",
        "test_astar(num_agents, num_test, None, functools.partial(generate_stage, rows=10, cols=10, obs_prob=0.5))"
      ],
      "metadata": {
        "id": "gxRwiXeY6ubE",
        "colab": {
          "base_uri": "https://localhost:8080/"
        },
        "outputId": "8707938f-8cea-4c3a-ea0f-2d3250bff1ad"
      },
      "execution_count": null,
      "outputs": [
        {
          "output_type": "stream",
          "name": "stdout",
          "text": [
            "Average Coverage Percentage: 0.807 / Average Finished: 0.07999999999999999 / Average Experiment Time: 0.051081371307373044s / Average Episode Time: 0.011247992515563965 / Average Agent Finish Time : 0.045090246200561526\n"
          ]
        }
      ]
    },
    {
      "cell_type": "markdown",
      "source": [
        "Generate test maze:"
      ],
      "metadata": {
        "id": "6g8qgDqdfIix"
      }
    },
    {
      "cell_type": "code",
      "source": [
        "grid_rows, grid_columns = 13, 13\n",
        "obs_prob = 0.85\n",
        "test_maze = create_maze(grid_rows, grid_columns, obs_prob)\n",
        "draw_maze(test_maze)"
      ],
      "metadata": {
        "colab": {
          "base_uri": "https://localhost:8080/",
          "height": 807
        },
        "id": "mtf_SWPvfIIN",
        "outputId": "81c52643-2dfa-4ca9-de0a-d9dd8b1f7eb7"
      },
      "execution_count": null,
      "outputs": [
        {
          "output_type": "display_data",
          "data": {
            "text/plain": [
              "<Figure size 1000x1000 with 1 Axes>"
            ],
            "image/png": "[encoded data removed]"
          },
          "metadata": {}
        }
      ]
    },
    {
      "cell_type": "markdown",
      "source": [
        "Solve the test_maze with 20 agents:"
      ],
      "metadata": {
        "id": "d-T0UCTwQqdX"
      }
    },
    {
      "cell_type": "code",
      "source": [
        "num_agents = 20 # number of agents.\n",
        "num_test = 10\n",
        "test_astar(num_agents, num_test, test_maze, None)"
      ],
      "metadata": {
        "colab": {
          "base_uri": "https://localhost:8080/"
        },
        "id": "tN3ngNg8QWwI",
        "outputId": "71e10b8e-ae47-4406-ecdf-62086c75bdb0"
      },
      "execution_count": null,
      "outputs": [
        {
          "output_type": "stream",
          "name": "stdout",
          "text": [
            "Average Coverage Percentage: 0.9603550295857988 / Average Finished: 0.8799999999999999 / Average Experiment Time: 0.40250816345214846s / Average Episode Time: 0.00623896714555916 / Average Agent Finish Time : 0.2670312137149512\n"
          ]
        }
      ]
    },
    {
      "cell_type": "markdown",
      "source": [
        "Solve the test_maze with 10 agents:"
      ],
      "metadata": {
        "id": "f3LscZfyMjfq"
      }
    },
    {
      "cell_type": "code",
      "source": [
        "num_agents = 10 # number of agents.\n",
        "num_test = 10\n",
        "test_astar(num_agents, num_test, test_maze, None)"
      ],
      "metadata": {
        "colab": {
          "base_uri": "https://localhost:8080/"
        },
        "id": "mED3n5NjMi3Z",
        "outputId": "388e592d-8d1f-4587-ab76-2df529606b37"
      },
      "execution_count": null,
      "outputs": [
        {
          "output_type": "stream",
          "name": "stdout",
          "text": [
            "Average Coverage Percentage: 0.9023668639053255 / Average Finished: 0.9 / Average Experiment Time: 3.9952550411224363s / Average Episode Time: 0.1165440030966145 / Average Agent Finish Time : 3.520903224945068\n"
          ]
        }
      ]
    },
    {
      "cell_type": "markdown",
      "source": [
        "**OLD VERSION** of the Agent Class:\n",
        "```\n",
        "class Agent:\n",
        "\n",
        "  def __init__(self, x, y, direction, real_stage, explored_stage):\n",
        "    self.x = x\n",
        "    self.y = y\n",
        "    self.direction = direction  # 'up', 'down', 'left', 'right'\n",
        "    self.real_stage = real_stage  # contains obstacles and paths\n",
        "    self.explored_stage = explored_stage  # explored stage (contains agents)\n",
        "\n",
        "  def move_left(self):\n",
        "    self.direction = \"left\"\n",
        "    if self.y > 0:\n",
        "      if self.real_stage[(self.x, self.y - 1)] or self.explored_stage[(self.x, self.y - 1)]:  # obs or other agent\n",
        "        print(\"obs\")\n",
        "        self.refresh_agent_view()\n",
        "        return\n",
        "      self.explored_stage[(self.x, self.y)] = 0\n",
        "      self.y -= 1\n",
        "      self.explored_stage[(self.x, self.y)] = 2\n",
        "      self.refresh_agent_view()\n",
        "\n",
        "  def move_right(self):\n",
        "    self.direction = 'right'\n",
        "    if self.y < len(self.explored_stage[0]) - 1:\n",
        "      if self.real_stage[(self.x, self.y + 1)] or self.explored_stage[(self.x, self.y + 1)]:  # obs or other agent\n",
        "        print(\"obs\")\n",
        "        self.refresh_agent_view()\n",
        "        return\n",
        "      self.explored_stage[(self.x, self.y)] = 0\n",
        "      self.y += 1\n",
        "      self.explored_stage[(self.x, self.y)] = 2\n",
        "      self.refresh_agent_view()\n",
        "\n",
        "  def move_up(self):\n",
        "    self.direction = 'up'\n",
        "    if self.x > 0:\n",
        "      if self.real_stage[(self.x - 1, self.y)] or self.explored_stage[(self.x - 1, self.y)]:  # obs or other agent\n",
        "        print(\"obs\")\n",
        "        self.refresh_agent_view()\n",
        "        return\n",
        "      self.explored_stage[(self.x, self.y)] = 0\n",
        "      self.x -= 1\n",
        "      self.explored_stage[(self.x, self.y)] = 2\n",
        "      self.refresh_agent_view()\n",
        "\n",
        "  def move_down(self):\n",
        "    self.direction = 'down'\n",
        "    if self.x < len(self.explored_stage) - 1:\n",
        "      if self.real_stage[(self.x + 1, self.y)] or self.explored_stage[(self.x + 1, self.y)]:  # obs or other agent\n",
        "        print(\"obs\")\n",
        "        self.refresh_agent_view()\n",
        "        return\n",
        "      self.explored_stage[(self.x, self.y)] = 0\n",
        "      self.x += 1\n",
        "      self.explored_stage[(self.x, self.y)] = 2\n",
        "      self.refresh_agent_view()\n",
        "\n",
        "  def refresh_agent_view(self):\n",
        "    # Generate agent view =======\n",
        "    # Ex. If agent looks up -> knows both up, left and right (/w sensors).\n",
        "    if self.direction == \"up\":\n",
        "      if self.x > 0:\n",
        "        if self.explored_stage[(self.x - 1, self.y)] < 0: # unexplored\n",
        "          self.explored_stage[(self.x - 1, self.y)] = self.real_stage[(self.x - 1, self.y)]\n",
        "      if self.y < len(self.real_stage[0]) - 1:\n",
        "        if self.explored_stage[(self.x, self.y + 1)] < 0:\n",
        "          self.explored_stage[(self.x, self.y + 1)] = self.real_stage[(self.x, self.y + 1)]\n",
        "      if self.y > 0:\n",
        "        if self.explored_stage[(self.x, self.y - 1)] < 0:\n",
        "          self.explored_stage[(self.x, self.y - 1)] = self.real_stage[(self.x, self.y - 1)]\n",
        "\n",
        "    elif self.direction == \"down\":\n",
        "      if self.x < len(self.real_stage) - 1:\n",
        "        if self.explored_stage[(self.x + 1, self.y)] < 0:\n",
        "          self.explored_stage[(self.x + 1, self.y)] = self.real_stage[(self.x - 1, self.y)]\n",
        "      if self.y < len(self.real_stage[0]) - 1:\n",
        "        if self.explored_stage[(self.x, self.y + 1)] < 0:\n",
        "          self.explored_stage[(self.x, self.y + 1)] = self.real_stage[(self.x, self.y + 1)]\n",
        "      if self.y > 0:\n",
        "        if self.explored_stage[(self.x, self.y - 1)] < 0:\n",
        "          self.explored_stage[(self.x, self.y - 1)] = self.real_stage[(self.x, self.y - 1)]\n",
        "\n",
        "    elif self.direction == \"left\":\n",
        "      if self.y > 0:\n",
        "        if self.explored_stage[(self.x, self.y - 1)] < 0:\n",
        "          self.explored_stage[(self.x, self.y - 1)] = self.real_stage[(self.x, self.y - 1)]\n",
        "      if self.x < len(self.real_stage) - 1:\n",
        "        if self.explored_stage[(self.x + 1, self.y)] < 0:\n",
        "          self.explored_stage[(self.x + 1, self.y)] = self.real_stage[(self.x + 1, self.y)]\n",
        "      if self.x > 0:\n",
        "        if self.explored_stage[(self.x - 1, self.y)] < 0:\n",
        "          self.explored_stage[(self.x - 1, self.y)] = self.real_stage[(self.x - 1, self.y)]\n",
        "\n",
        "    elif self.direction == \"right\":\n",
        "      if self.y < len(self.real_stage[0]) - 1:\n",
        "        if self.explored_stage[(self.x, self.y + 1)] < 0:\n",
        "          self.explored_stage[(self.x, self.y + 1)] = self.real_stage[(self.x, self.y + 1)]\n",
        "      if self.x < len(self.real_stage) - 1:\n",
        "        if self.explored_stage[(self.x + 1, self.y)] < 0:\n",
        "          self.explored_stage[(self.x + 1, self.y)] = self.real_stage[(self.x + 1, self.y)]\n",
        "      if self.x > 0:\n",
        "        if self.explored_stage[(self.x - 1, self.y)] < 0:\n",
        "          self.explored_stage[(self.x - 1, self.y)] = self.real_stage[(self.x - 1, self.y)]\n",
        "\n",
        "```\n"
      ],
      "metadata": {
        "id": "-xP3XT-Q8E-o"
      }
    },
    {
      "cell_type": "markdown",
      "source": [
        "Check agent view:"
      ],
      "metadata": {
        "id": "pWg1DCkj_Idu"
      }
    },
    {
      "cell_type": "code",
      "source": [
        "grid = np.array([[0, 0, 1, 0, 0],\n",
        "                 [1, 0, 0, 0, 1],\n",
        "                 [1, 0, 0, 0, 1],\n",
        "                 [0, 0, 1, 0, 0],\n",
        "                 [0, 0, 0, 0, 0]])\n",
        "\n",
        "agents = [Agent((2, 2), (2, 2), grid, 2),]\n",
        "res = move_astar(grid, agents)\n"
      ],
      "metadata": {
        "id": "0B44T1oV_GY-"
      },
      "execution_count": null,
      "outputs": []
    },
    {
      "cell_type": "code",
      "source": [
        "import numpy as np\n",
        "\n",
        "grid = np.array([[0, 0, -1, -1, 1],\n",
        "                 [0, 2, 0, -1, -1],\n",
        "                 [-1, 0, -1, -1, -1],\n",
        "                 [-1, -1, -1, -1, -1],\n",
        "                 [-1, 0, -1, -1, -1]])\n",
        "\n",
        "coordinates = np.where(grid == 2)\n",
        "x, y = coordinates[0][0], coordinates[1][0]\n",
        "\n",
        "# print(grid[:x]) # up\n",
        "# print(grid[x + 1:]) # down\n",
        "\n",
        "# print(grid[:, y + 1:])  # right\n",
        "# print(grid[:, :y])  # left\n",
        "\n",
        "above_count = np.sum(grid[:x] == -1)\n",
        "below_count = np.sum(grid[x + 1:] == -1)\n",
        "right_count = np.sum(grid[:, y + 1:] == -1)\n",
        "left_count = np.sum(grid[:, :y] == -1)\n",
        "\n",
        "print(above_count, below_count, right_count, left_count)"
      ],
      "metadata": {
        "id": "hMs5COkPm0nV"
      },
      "execution_count": null,
      "outputs": []
    },
    {
      "cell_type": "code",
      "source": [
        "l = [0, 1, 1, 0]\n",
        "print(l.index(max(l)))"
      ],
      "metadata": {
        "id": "9LnM6ubuzvbR"
      },
      "execution_count": null,
      "outputs": []
    }
  ]
}